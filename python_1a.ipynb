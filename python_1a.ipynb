{
 "cells": [
  {
   "cell_type": "markdown",
   "id": "18125e23-fc8d-4a12-b086-17bb6b60dbed",
   "metadata": {},
   "source": [
    "# Python 的基本语法\n",
    "\n",
    "推荐网站 https://liaoxuefeng.com/books/python/introduction/index.html"
   ]
  },
  {
   "cell_type": "code",
   "execution_count": 2,
   "id": "ac48a6ff-e66f-4e54-9ef6-9cf5e312004e",
   "metadata": {},
   "outputs": [
    {
     "name": "stdout",
     "output_type": "stream",
     "text": [
      "hello, Ningbo\n"
     ]
    }
   ],
   "source": [
    "print('hello, Ningbo')"
   ]
  },
  {
   "cell_type": "markdown",
   "id": "01a0189f-d9b1-4ea6-b189-3f0f6c6dc5a8",
   "metadata": {},
   "source": [
    "### 这里双击后，可以编辑文本，以及写一些公式\n",
    "\n",
    "$$\n",
    "E = m c^2\n",
    "$$"
   ]
  },
  {
   "cell_type": "markdown",
   "id": "9eeee1e6-c3da-48fb-9a34-c8bf5b072ed6",
   "metadata": {},
   "source": [
    "- ***缩进***：Python 使用缩进表示代码块，通常 4 个空格，禁止混用 tab 与空格。\n",
    "- ***注释***：单行注释用 \\texttt{\\#}，多行字符串可做 docstring。\n",
    "- ***变量***：动态类型，无需声明；推荐遵循 PEP8 命名规范（见附录）。"
   ]
  },
  {
   "cell_type": "markdown",
   "id": "f4dc54c3-d5cb-4114-9afe-da525dd6e06d",
   "metadata": {},
   "source": [
    "### 整数"
   ]
  },
  {
   "cell_type": "code",
   "execution_count": 3,
   "id": "adfe706a-f525-4ba3-a767-d9d06abbbc27",
   "metadata": {},
   "outputs": [],
   "source": [
    "a = 10        # 正整数\n",
    "b = -5        # 负整数\n",
    "c = 0         # 零\n",
    "d = 1_000_000_000   # d = 1000000000"
   ]
  },
  {
   "cell_type": "code",
   "execution_count": 4,
   "id": "06613c61-28fd-4c04-8530-4f423e09bf49",
   "metadata": {},
   "outputs": [
    {
     "data": {
      "text/plain": [
       "(10, -5, 0, 1000000000)"
      ]
     },
     "execution_count": 4,
     "metadata": {},
     "output_type": "execute_result"
    }
   ],
   "source": [
    "a, b, c, d"
   ]
  },
  {
   "cell_type": "markdown",
   "id": "5af9227a-ee24-4eda-ad60-8f2caf5fc736",
   "metadata": {},
   "source": [
    "### 浮点数"
   ]
  },
  {
   "cell_type": "code",
   "execution_count": 5,
   "id": "bf070fc5-b072-45c6-947c-49fd2823fb0b",
   "metadata": {},
   "outputs": [],
   "source": [
    "pi = 3.14159   # 圆周率的近似值\n",
    "e  = -2.5      # 负的浮点数\n",
    "x = 1.23e9 "
   ]
  },
  {
   "cell_type": "code",
   "execution_count": 6,
   "id": "547b535d-b92c-409a-9749-5e87bc0c1e27",
   "metadata": {},
   "outputs": [
    {
     "data": {
      "text/plain": [
       "float"
      ]
     },
     "execution_count": 6,
     "metadata": {},
     "output_type": "execute_result"
    }
   ],
   "source": [
    "type(x)"
   ]
  },
  {
   "cell_type": "markdown",
   "id": "d6c9110a-6407-48cd-9492-145f788acde4",
   "metadata": {},
   "source": [
    "### 字符串"
   ]
  },
  {
   "cell_type": "code",
   "execution_count": 7,
   "id": "6afc0c20-75dd-44b0-99f5-13ad3247ffb7",
   "metadata": {},
   "outputs": [
    {
     "name": "stdout",
     "output_type": "stream",
     "text": [
      "3\n",
      "a b c\n"
     ]
    }
   ],
   "source": [
    "s = 'abc'\n",
    "print(len(s))     # 3\n",
    "print(s[0], s[1], s[2])  # a b c"
   ]
  },
  {
   "cell_type": "code",
   "execution_count": 8,
   "id": "3e969c49-6f50-4100-8884-91d8e2516733",
   "metadata": {},
   "outputs": [
    {
     "name": "stdout",
     "output_type": "stream",
     "text": [
      "I'm OK\n",
      "6\n"
     ]
    }
   ],
   "source": [
    "s = \"I'm OK\"\n",
    "print(s)          # I'm OK\n",
    "print(len(s))     # 6"
   ]
  },
  {
   "cell_type": "code",
   "execution_count": 10,
   "id": "1e2c4df2-36b7-4247-a01d-43db3b30356f",
   "metadata": {},
   "outputs": [
    {
     "data": {
      "text/plain": [
       "(str, str)"
      ]
     },
     "execution_count": 10,
     "metadata": {},
     "output_type": "execute_result"
    }
   ],
   "source": [
    "s1 = \"Hello, Python!\"\n",
    "s2 = '数据类型示例'\n",
    "\n",
    "type(s1), type(s2)"
   ]
  },
  {
   "cell_type": "code",
   "execution_count": 11,
   "id": "d97de42f-3a98-4ee3-a085-560087ea2279",
   "metadata": {},
   "outputs": [
    {
     "name": "stdout",
     "output_type": "stream",
     "text": [
      "Alice 年龄 23\n",
      "hello, 世界 Hello, WORLD界\n"
     ]
    }
   ],
   "source": [
    "s = \"Hello, 世界\"\n",
    "# 格式化：f-string (推荐)\n",
    "name = \"Alice\"\n",
    "age = 23\n",
    "print(f\"{name} 年龄 {age}\")\n",
    "# 字符串方法示例\n",
    "print(s.lower(), s.replace(\"世\", \"WORLD\"))"
   ]
  },
  {
   "cell_type": "code",
   "execution_count": 19,
   "id": "f65d1d9f-75ac-4586-9469-288523e31964",
   "metadata": {},
   "outputs": [
    {
     "name": "stdout",
     "output_type": "stream",
     "text": [
      "hello, \n",
      " world\n"
     ]
    }
   ],
   "source": [
    "print('hello, \\n world')"
   ]
  },
  {
   "cell_type": "code",
   "execution_count": 21,
   "id": "45818f9d-ec93-478a-a3f2-3eca5628b552",
   "metadata": {},
   "outputs": [
    {
     "name": "stdout",
     "output_type": "stream",
     "text": [
      "hello, \\n world\n"
     ]
    }
   ],
   "source": [
    "print(r'''hello, \\n world''')"
   ]
  },
  {
   "cell_type": "markdown",
   "id": "f6f4f9e2-8ce7-49e3-9ebe-ffbf1fd08276",
   "metadata": {},
   "source": [
    "### 布尔型"
   ]
  },
  {
   "cell_type": "code",
   "execution_count": 13,
   "id": "c0662b8b-5dec-4ec4-a767-036b490158ca",
   "metadata": {},
   "outputs": [
    {
     "name": "stdout",
     "output_type": "stream",
     "text": [
      "<class 'bool'>\n"
     ]
    }
   ],
   "source": [
    "flag1 = True\n",
    "flag2 = False\n",
    "print(type(flag1)) "
   ]
  },
  {
   "cell_type": "markdown",
   "id": "dcabe2ee-87bd-45d0-b5c9-2b535deee05c",
   "metadata": {},
   "source": [
    "#### `and`"
   ]
  },
  {
   "cell_type": "code",
   "execution_count": 23,
   "id": "a9664583-4fd9-4940-9e81-8b3c6ce55f05",
   "metadata": {},
   "outputs": [
    {
     "data": {
      "text/plain": [
       "True"
      ]
     },
     "execution_count": 23,
     "metadata": {},
     "output_type": "execute_result"
    }
   ],
   "source": [
    "True and True"
   ]
  },
  {
   "cell_type": "code",
   "execution_count": 24,
   "id": "f3ff019d-c506-4b3a-b7a2-2bfe6951d973",
   "metadata": {},
   "outputs": [
    {
     "data": {
      "text/plain": [
       "False"
      ]
     },
     "execution_count": 24,
     "metadata": {},
     "output_type": "execute_result"
    }
   ],
   "source": [
    "True and False"
   ]
  },
  {
   "cell_type": "markdown",
   "id": "55550c8f-31ad-4dec-b545-43f9e34878e7",
   "metadata": {},
   "source": [
    "#### `or`"
   ]
  },
  {
   "cell_type": "code",
   "execution_count": 25,
   "id": "4e2e098e-126d-4388-850c-39b2581e6d72",
   "metadata": {},
   "outputs": [
    {
     "data": {
      "text/plain": [
       "True"
      ]
     },
     "execution_count": 25,
     "metadata": {},
     "output_type": "execute_result"
    }
   ],
   "source": [
    "True or True"
   ]
  },
  {
   "cell_type": "code",
   "execution_count": 26,
   "id": "55a2cc22-ac7f-461f-8fd5-26bbd3825c8b",
   "metadata": {},
   "outputs": [
    {
     "data": {
      "text/plain": [
       "True"
      ]
     },
     "execution_count": 26,
     "metadata": {},
     "output_type": "execute_result"
    }
   ],
   "source": [
    "True or False"
   ]
  },
  {
   "cell_type": "code",
   "execution_count": 27,
   "id": "a341ec30-9f1e-42c8-aed1-be501e9d93ea",
   "metadata": {},
   "outputs": [
    {
     "data": {
      "text/plain": [
       "True"
      ]
     },
     "execution_count": 27,
     "metadata": {},
     "output_type": "execute_result"
    }
   ],
   "source": [
    "5 > 3 or 1 > 3"
   ]
  },
  {
   "cell_type": "markdown",
   "id": "8fb5263a-dc07-45d5-a6c9-0ea5f47a89e9",
   "metadata": {},
   "source": [
    "#### `not`"
   ]
  },
  {
   "cell_type": "code",
   "execution_count": 28,
   "id": "8e8b19a8-3e92-4af0-bf7b-cc70c5e26996",
   "metadata": {},
   "outputs": [
    {
     "data": {
      "text/plain": [
       "False"
      ]
     },
     "execution_count": 28,
     "metadata": {},
     "output_type": "execute_result"
    }
   ],
   "source": [
    "not True"
   ]
  },
  {
   "cell_type": "code",
   "execution_count": 29,
   "id": "41da6241-2883-4c63-9c3d-4fea7b061595",
   "metadata": {},
   "outputs": [
    {
     "data": {
      "text/plain": [
       "True"
      ]
     },
     "execution_count": 29,
     "metadata": {},
     "output_type": "execute_result"
    }
   ],
   "source": [
    "not False"
   ]
  },
  {
   "cell_type": "code",
   "execution_count": 30,
   "id": "aec291c9-b553-4091-87c3-7d24c2272cef",
   "metadata": {},
   "outputs": [
    {
     "data": {
      "text/plain": [
       "True"
      ]
     },
     "execution_count": 30,
     "metadata": {},
     "output_type": "execute_result"
    }
   ],
   "source": [
    "not 1 > 2"
   ]
  },
  {
   "cell_type": "code",
   "execution_count": 31,
   "id": "f8d13242-2367-4e2e-8011-32b111d8fc74",
   "metadata": {},
   "outputs": [
    {
     "name": "stdout",
     "output_type": "stream",
     "text": [
      "adult\n"
     ]
    }
   ],
   "source": [
    "age = 20\n",
    "\n",
    "if age >= 18:\n",
    "    print('adult')\n",
    "else:\n",
    "    print('teenager')\n"
   ]
  },
  {
   "cell_type": "markdown",
   "id": "cd316853-e5c4-43bc-94e2-6881553bb47b",
   "metadata": {},
   "source": [
    "#### 空值 `None`"
   ]
  },
  {
   "cell_type": "code",
   "execution_count": 22,
   "id": "e3a0e7b0-2d7c-486e-bcb9-b6304516dd2c",
   "metadata": {},
   "outputs": [
    {
     "name": "stdout",
     "output_type": "stream",
     "text": [
      "None\n",
      "<class 'NoneType'>\n"
     ]
    }
   ],
   "source": [
    "result = None\n",
    "print(result)       # 输出 None\n",
    "print(type(result)) # <class 'NoneType'>"
   ]
  },
  {
   "cell_type": "markdown",
   "id": "4a3640a2-ca21-41cb-a830-1045bd08d77e",
   "metadata": {},
   "source": [
    "### 变量\n",
    "\n",
    "变量的概念基本上和初中代数的方程变量是一致的，只是在计算机程序中，变量不仅可以是数字，还可以是任意数据类型。\n",
    "\n",
    "变量在程序中就是用一个变量名表示了，变量名必须是大小写英文、数字和_的组合，且不能用数字开头，比如："
   ]
  },
  {
   "cell_type": "code",
   "execution_count": 32,
   "id": "88ca3263-9743-482a-9dc8-48b04ce5cb96",
   "metadata": {},
   "outputs": [],
   "source": [
    "a = 1\n",
    "t_007 = 'T007'\n",
    "Answer = True"
   ]
  },
  {
   "cell_type": "code",
   "execution_count": 34,
   "id": "d0830434-5f72-4ed2-b6ef-27b32c035d42",
   "metadata": {},
   "outputs": [
    {
     "name": "stdout",
     "output_type": "stream",
     "text": [
      "XYZ ABC\n"
     ]
    }
   ],
   "source": [
    "a = 'ABC'\n",
    "b = a\n",
    "a = 'XYZ'\n",
    "print(a, b)"
   ]
  },
  {
   "cell_type": "markdown",
   "id": "9309494a-837d-442b-a6da-c6d57a59e361",
   "metadata": {},
   "source": [
    "### 常量\n",
    "\n",
    "所谓常量就是不能变的变量，比如常用的数学常数π就是一个常量。在Python中，通常用全部大写的变量名表示常量：\n",
    "\n",
    "但事实上PI仍然是一个变量，Python根本没有任何机制保证PI不会被改变，所以，用全部大写的变量名表示常量只是一个习惯上的用法，如果你一定要改变变量PI的值，也没人能拦住你。"
   ]
  },
  {
   "cell_type": "code",
   "execution_count": 36,
   "id": "81037e03-6544-4ec0-b7be-1560a406c687",
   "metadata": {},
   "outputs": [
    {
     "data": {
      "text/plain": [
       "3.14159265359"
      ]
     },
     "execution_count": 36,
     "metadata": {},
     "output_type": "execute_result"
    }
   ],
   "source": [
    "PI = 3.14159265359\n",
    "PI"
   ]
  },
  {
   "cell_type": "code",
   "execution_count": 42,
   "id": "8ac945fc-6c5b-4d4a-97be-ea7a8833b1d8",
   "metadata": {},
   "outputs": [
    {
     "data": {
      "text/plain": [
       "123"
      ]
     },
     "execution_count": 42,
     "metadata": {},
     "output_type": "execute_result"
    }
   ],
   "source": [
    "PI = 3.14159265359\n",
    "PI = 123   # 语法上完全允许，但违反了约定\n",
    "PI"
   ]
  },
  {
   "cell_type": "markdown",
   "id": "7c60d36c-429f-4a1c-ba0f-70612a250e82",
   "metadata": {},
   "source": [
    "#### 除法"
   ]
  },
  {
   "cell_type": "code",
   "execution_count": 43,
   "id": "660c32b4-0f2c-48d3-81d4-de5bd88d3198",
   "metadata": {},
   "outputs": [
    {
     "name": "stdout",
     "output_type": "stream",
     "text": [
      "3.3333333333333335\n",
      "3.0\n"
     ]
    }
   ],
   "source": [
    "print(10 / 3)   # 3.3333333333333335\n",
    "print(9 / 3)    # 3.0"
   ]
  },
  {
   "cell_type": "code",
   "execution_count": 39,
   "id": "7d2ae60e-983e-47aa-98fa-94d844edd275",
   "metadata": {},
   "outputs": [
    {
     "data": {
      "text/plain": [
       "3.3333333333333335"
      ]
     },
     "execution_count": 39,
     "metadata": {},
     "output_type": "execute_result"
    }
   ],
   "source": [
    "10.0 / 3"
   ]
  },
  {
   "cell_type": "markdown",
   "id": "a5171767-6cfe-4c62-a3b2-4430dc82945a",
   "metadata": {},
   "source": [
    "#### 地板除"
   ]
  },
  {
   "cell_type": "code",
   "execution_count": 44,
   "id": "52238dc6-c627-4864-9b7c-104ad84c5acb",
   "metadata": {},
   "outputs": [
    {
     "name": "stdout",
     "output_type": "stream",
     "text": [
      "3\n",
      "5\n",
      "5.0\n",
      "-3\n"
     ]
    }
   ],
   "source": [
    "print(10 // 3)   # 3\n",
    "print(20 // 4)   # 5\n",
    "print(20.0 // 4)   # 5.0\n",
    "print(-7 // 3)   # -3   # 注意负数情况"
   ]
  },
  {
   "cell_type": "markdown",
   "id": "553cf7f5-4aba-4319-9ad9-39e05597f09b",
   "metadata": {},
   "source": [
    "#### 取余"
   ]
  },
  {
   "cell_type": "code",
   "execution_count": 45,
   "id": "23916c1f-9851-49e3-a362-21187740bdb5",
   "metadata": {},
   "outputs": [
    {
     "name": "stdout",
     "output_type": "stream",
     "text": [
      "1\n",
      "1.5999999999999996\n",
      "2\n"
     ]
    }
   ],
   "source": [
    "print(10 % 3)   # 1\n",
    "print(10.6 % 3) # 1.5999999999999996\n",
    "print(-7 % 3)   # 2"
   ]
  },
  {
   "cell_type": "code",
   "execution_count": null,
   "id": "bdcce2df-3e6e-4826-bed4-fe065ce2a76f",
   "metadata": {},
   "outputs": [],
   "source": []
  },
  {
   "cell_type": "markdown",
   "id": "ca17e768-c5d2-4694-bf70-2e25910ce406",
   "metadata": {},
   "source": [
    "## 字符串"
   ]
  },
  {
   "cell_type": "code",
   "execution_count": 46,
   "id": "a9c9dc2d-0224-4648-a718-3446932ad4bd",
   "metadata": {},
   "outputs": [
    {
     "name": "stdout",
     "output_type": "stream",
     "text": [
      "<class 'str'>\n"
     ]
    }
   ],
   "source": [
    "s = \"包含中文的字符串\"\n",
    "print(type(s))  # <class 'str'>"
   ]
  },
  {
   "cell_type": "code",
   "execution_count": 47,
   "id": "463e146b-be3e-4465-9448-140e2926a080",
   "metadata": {},
   "outputs": [
    {
     "data": {
      "text/plain": [
       "65"
      ]
     },
     "execution_count": 47,
     "metadata": {},
     "output_type": "execute_result"
    }
   ],
   "source": [
    "ord('A')"
   ]
  },
  {
   "cell_type": "code",
   "execution_count": 50,
   "id": "417d8b07-251a-4737-994c-40e15f730bc0",
   "metadata": {},
   "outputs": [
    {
     "data": {
      "text/plain": [
       "(20013, 25991)"
      ]
     },
     "execution_count": 50,
     "metadata": {},
     "output_type": "execute_result"
    }
   ],
   "source": [
    "ord('中'), ord('文')"
   ]
  },
  {
   "cell_type": "code",
   "execution_count": 51,
   "id": "6b636d29-86ed-4989-ac70-bdd1dc037548",
   "metadata": {},
   "outputs": [
    {
     "name": "stdout",
     "output_type": "stream",
     "text": [
      "b'ABC' b'\\xe4\\xb8\\xad\\xe6\\x96\\x87'\n"
     ]
    }
   ],
   "source": [
    "s = \"ABC\"\n",
    "b1 = s.encode('ascii')\n",
    "b2 = \"中文\".encode('utf-8')\n",
    "print(b1, b2)"
   ]
  },
  {
   "cell_type": "code",
   "execution_count": 53,
   "id": "98d4cc65-75ce-41be-82d9-a037bd931cf2",
   "metadata": {},
   "outputs": [
    {
     "data": {
      "text/plain": [
       "3"
      ]
     },
     "execution_count": 53,
     "metadata": {},
     "output_type": "execute_result"
    }
   ],
   "source": [
    "## \\texttt{len(str)} 返回的是字符数量，而 \\texttt{len(bytes)} 返回的是字节长度：\n",
    "\n",
    "len(\"ABC\")            # 3"
   ]
  },
  {
   "cell_type": "code",
   "execution_count": 54,
   "id": "171aaa9c-d38e-42ab-b1a1-c64319316feb",
   "metadata": {},
   "outputs": [
    {
     "data": {
      "text/plain": [
       "2"
      ]
     },
     "execution_count": 54,
     "metadata": {},
     "output_type": "execute_result"
    }
   ],
   "source": [
    "len(\"中文\")           # 2"
   ]
  },
  {
   "cell_type": "code",
   "execution_count": 55,
   "id": "9bff3101-d517-41eb-ba01-4c313f1277f1",
   "metadata": {},
   "outputs": [
    {
     "data": {
      "text/plain": [
       "6"
      ]
     },
     "execution_count": 55,
     "metadata": {},
     "output_type": "execute_result"
    }
   ],
   "source": [
    "len(\"中文\".encode('utf-8'))  # 通常是 6"
   ]
  },
  {
   "cell_type": "markdown",
   "id": "ad703aa3-9c50-4131-aace-a6688526d1cf",
   "metadata": {},
   "source": [
    "### 源代码文件编码声明\n",
    "如果源代码中包含非 ASCII（如中文字符），需保存为 `UTF-8` 编码，并在文件头加入声明，告诉 `Python` 以对应编码读取源文件：\n",
    "\n",
    "```python\n",
    "#!/usr/bin/env python3\n",
    "# -*- coding: utf-8 -*-\n",
    "```"
   ]
  },
  {
   "cell_type": "markdown",
   "id": "15970d86-2c75-487c-a932-2a53f75d47ab",
   "metadata": {},
   "source": [
    "### 字符串的格式化"
   ]
  },
  {
   "cell_type": "code",
   "execution_count": 56,
   "id": "3eab84fb-6e6d-481d-a339-1e1251b0e4ae",
   "metadata": {},
   "outputs": [
    {
     "data": {
      "text/plain": [
       "'Hello, Alice, you have $100.'"
      ]
     },
     "execution_count": 56,
     "metadata": {},
     "output_type": "execute_result"
    }
   ],
   "source": [
    "'Hello, %s' % 'world'\n",
    "'Hello, %s, you have $%d.' % ('Alice', 100)"
   ]
  },
  {
   "cell_type": "code",
   "execution_count": 57,
   "id": "fd6c7c6d-60d8-4f80-b101-85243a2095cb",
   "metadata": {},
   "outputs": [
    {
     "data": {
      "text/plain": [
       "'Hello, 小明. Your score: 85.7%'"
      ]
     },
     "execution_count": 57,
     "metadata": {},
     "output_type": "execute_result"
    }
   ],
   "source": [
    "'Hello, {0}. Your score: {1:.1f}%'.format('小明', 85.7)"
   ]
  },
  {
   "cell_type": "code",
   "execution_count": 58,
   "id": "dca13e5e-9bfd-4bb6-83f1-d73ec5f5c9d1",
   "metadata": {},
   "outputs": [
    {
     "name": "stdout",
     "output_type": "stream",
     "text": [
      "Hi, Tom, your score is 95.12\n"
     ]
    }
   ],
   "source": [
    "name = 'Tom'\n",
    "score = 95.1234\n",
    "print(f'Hi, {name}, your score is {score:.2f}')\n",
    "# Hi, Tom, your score is 95.12"
   ]
  },
  {
   "cell_type": "code",
   "execution_count": 59,
   "id": "ce7f334e-790d-4acc-b957-dfb415f6212a",
   "metadata": {},
   "outputs": [
    {
     "name": "stdout",
     "output_type": "stream",
     "text": [
      "Hi, Tom, your score is 9.51e+01\n"
     ]
    }
   ],
   "source": [
    "print(f'Hi, {name}, your score is {score:.2e}')"
   ]
  },
  {
   "cell_type": "code",
   "execution_count": 80,
   "id": "d6d0a71a-00cc-4787-90ee-436b2e9d58cf",
   "metadata": {},
   "outputs": [
    {
     "name": "stdout",
     "output_type": "stream",
     "text": [
      "Hi, Tom, your score is 95\n"
     ]
    }
   ],
   "source": [
    "print(f'Hi, {name}, your score is {score:.0f}')"
   ]
  },
  {
   "cell_type": "markdown",
   "id": "b4e61f78-e2a9-4a25-bcd4-005cd7f8ca3f",
   "metadata": {},
   "source": [
    "## 练习\n",
    "小明的成绩从去年的72分提升到了今年的85分，请计算小明成绩提升的百分点，并用字符串格式化显示出`'xx.x%'`，只保留小数点后1位："
   ]
  },
  {
   "cell_type": "code",
   "execution_count": null,
   "id": "80346a90-f8da-4a59-8017-9c0f9f3a7d8a",
   "metadata": {},
   "outputs": [],
   "source": [
    "s1 = 72\n",
    "s2 = 85\n",
    "r = ???\n",
    "print('???')\n"
   ]
  },
  {
   "cell_type": "markdown",
   "id": "9b894d5d-9151-4ecb-8de3-ff6500e07c5d",
   "metadata": {},
   "source": [
    "## 序列与集合：列表(list), 元组(tuple), 字典(dict), 集合(set)\n",
    "\n",
    "### 列表\n",
    "是内置的可变序列，适合存放会被增删改的数据。可用 `[]` 创建，`len(L)` 返回长度；通过下标访问元素，下标自 0 开始，也支持负下标`-1` 表示最后一个。当下标越界会抛出 `IndexError`。这些是使用列表的基础规则。"
   ]
  },
  {
   "cell_type": "code",
   "execution_count": 61,
   "id": "c1420f76-d11f-4ae0-a348-8d1ba1a9c8a9",
   "metadata": {},
   "outputs": [
    {
     "name": "stdout",
     "output_type": "stream",
     "text": [
      "3\n",
      "Alice\n",
      "Carol\n",
      "Bob\n",
      "Alice\n"
     ]
    },
    {
     "ename": "IndexError",
     "evalue": "list index out of range",
     "output_type": "error",
     "traceback": [
      "\u001b[31m---------------------------------------------------------------------------\u001b[39m",
      "\u001b[31mIndexError\u001b[39m                                Traceback (most recent call last)",
      "\u001b[36mCell\u001b[39m\u001b[36m \u001b[39m\u001b[32mIn[61]\u001b[39m\u001b[32m, line 7\u001b[39m\n\u001b[32m      5\u001b[39m \u001b[38;5;28mprint\u001b[39m(names[-\u001b[32m2\u001b[39m])     \u001b[38;5;66;03m# 'Bob'\u001b[39;00m\n\u001b[32m      6\u001b[39m \u001b[38;5;28mprint\u001b[39m(names[-\u001b[32m3\u001b[39m])     \u001b[38;5;66;03m# 'Alice'\u001b[39;00m\n\u001b[32m----> \u001b[39m\u001b[32m7\u001b[39m \u001b[38;5;28mprint\u001b[39m(\u001b[43mnames\u001b[49m\u001b[43m[\u001b[49m\u001b[32;43m3\u001b[39;49m\u001b[43m]\u001b[49m)    \u001b[38;5;66;03m# IndexError: list index out of range\u001b[39;00m\n",
      "\u001b[31mIndexError\u001b[39m: list index out of range"
     ]
    }
   ],
   "source": [
    "names = ['Alice', 'Bob', 'Carol']\n",
    "print(len(names))    # 输出 3\n",
    "print(names[0])      # 'Alice'\n",
    "print(names[-1])     # 'Carol' ，从后往前的索引序号是 -1， -2， -3\n",
    "print(names[-2])     # 'Bob'\n",
    "print(names[-3])     # 'Alice'\n",
    "print(names[3])    # IndexError: list index out of range"
   ]
  },
  {
   "cell_type": "code",
   "execution_count": 63,
   "id": "487f891d-7a95-49a1-a271-c0fe7e79be48",
   "metadata": {},
   "outputs": [
    {
     "data": {
      "text/plain": [
       "['A', 'Z', 'C']"
      ]
     },
     "execution_count": 63,
     "metadata": {},
     "output_type": "execute_result"
    }
   ],
   "source": [
    "L = ['A', 'B', 'C']\n",
    "L.append('D')      # ['A','B','C','D']\n",
    "L.insert(1, 'X')   # ['A','X','B','C','D']\n",
    "L.pop()            # -> 'D'; ['A','X','B','C']\n",
    "L.pop(1)           # -> 'X'; ['A','B','C']\n",
    "L[1] = 'Z'         # ['A','Z','C']\n",
    "\n",
    "L"
   ]
  },
  {
   "cell_type": "code",
   "execution_count": 67,
   "id": "96f19b75-ce18-44b5-aea6-f3f70c920fb9",
   "metadata": {},
   "outputs": [
    {
     "name": "stdout",
     "output_type": "stream",
     "text": [
      "java\n",
      "['asp', 'php']\n",
      "asp\n"
     ]
    }
   ],
   "source": [
    "p = ['asp', 'php']\n",
    "s = ['python', 'java', p, 'scheme']\n",
    "\n",
    "print(s[1])\n",
    "print(s[2])\n",
    "print(s[2][0] )"
   ]
  },
  {
   "cell_type": "code",
   "execution_count": 68,
   "id": "64c3e5bf-8141-4f9c-b39b-fe4110caa6e7",
   "metadata": {},
   "outputs": [
    {
     "data": {
      "text/plain": [
       "0"
      ]
     },
     "execution_count": 68,
     "metadata": {},
     "output_type": "execute_result"
    }
   ],
   "source": [
    "l2 = []\n",
    "\n",
    "len([])"
   ]
  },
  {
   "cell_type": "markdown",
   "id": "e3ea674c-3c56-4f2d-bd71-0e2dd53f128f",
   "metadata": {},
   "source": [
    "#### 练习，从下列列表中依次取出`Apple`, `Python`, `Bob`"
   ]
  },
  {
   "cell_type": "code",
   "execution_count": 81,
   "id": "46784a43-2d75-4e23-a13b-b9b164f78baa",
   "metadata": {},
   "outputs": [],
   "source": [
    "L = [\n",
    "  ['Apple','Google','Microsoft'],\n",
    "  ['Java','Python','Ruby','PHP'],\n",
    "  ['Adam','Bart','Bob']\n",
    "]\n"
   ]
  },
  {
   "cell_type": "code",
   "execution_count": 83,
   "id": "85b0c2d2-42cb-4186-921c-cbdf0326708b",
   "metadata": {},
   "outputs": [
    {
     "data": {
      "text/plain": [
       "'Apple'"
      ]
     },
     "execution_count": 83,
     "metadata": {},
     "output_type": "execute_result"
    }
   ],
   "source": [
    "L[0][0]"
   ]
  },
  {
   "cell_type": "markdown",
   "id": "68755d43-629f-4407-ae00-65f648a23d86",
   "metadata": {},
   "source": [
    "### 元组\n",
    "元组与列表同为有序序列，但元组***一经创建就不能修改***——没有 `append`、`insert` 等方法，也不能对下标赋值。不可变换来的是更高的安全性和更清晰的“只读”语义。"
   ]
  },
  {
   "cell_type": "code",
   "execution_count": 69,
   "id": "9df2e930-cb98-4e46-8f62-50db7b718704",
   "metadata": {},
   "outputs": [
    {
     "data": {
      "text/plain": [
       "('Michael', 'Tracy')"
      ]
     },
     "execution_count": 69,
     "metadata": {},
     "output_type": "execute_result"
    }
   ],
   "source": [
    "classmates = ('Michael', 'Bob', 'Tracy')\n",
    "classmates[0], classmates[-1]"
   ]
  },
  {
   "cell_type": "code",
   "execution_count": 71,
   "id": "0db51594-f40c-4c92-a1fd-5c0b3aacb66f",
   "metadata": {},
   "outputs": [
    {
     "data": {
      "text/plain": [
       "1"
      ]
     },
     "execution_count": 71,
     "metadata": {},
     "output_type": "execute_result"
    }
   ],
   "source": [
    "t = (1)    # 这是 int\n",
    "t"
   ]
  },
  {
   "cell_type": "code",
   "execution_count": 72,
   "id": "4faea71c-ae9b-4bd1-b0fd-3451fdad4c35",
   "metadata": {},
   "outputs": [
    {
     "data": {
      "text/plain": [
       "(1,)"
      ]
     },
     "execution_count": 72,
     "metadata": {},
     "output_type": "execute_result"
    }
   ],
   "source": [
    "t = (1,)   # 这是 tuple\n",
    "t"
   ]
  },
  {
   "cell_type": "code",
   "execution_count": 73,
   "id": "5cb1270c-6ca0-4cc0-8e47-7a7194e9c20f",
   "metadata": {},
   "outputs": [
    {
     "data": {
      "text/plain": [
       "()"
      ]
     },
     "execution_count": 73,
     "metadata": {},
     "output_type": "execute_result"
    }
   ],
   "source": [
    "t = ()     # 空 tuple\n",
    "t"
   ]
  },
  {
   "cell_type": "code",
   "execution_count": 74,
   "id": "39626422-9d15-4357-ae08-94e962a53000",
   "metadata": {},
   "outputs": [
    {
     "data": {
      "text/plain": [
       "('a', 'b', ['X', 'Y'])"
      ]
     },
     "execution_count": 74,
     "metadata": {},
     "output_type": "execute_result"
    }
   ],
   "source": [
    "t = ('a', 'b', ['A','B'])\n",
    "t[2][0] = 'X'; t[2][1] = 'Y'\n",
    "t   # ('a','b',['X','Y']) —— 变的是 list 的内容"
   ]
  },
  {
   "cell_type": "markdown",
   "id": "02f63e71-51c6-405c-8c88-b86b372eeea8",
   "metadata": {},
   "source": [
    "#### 若希望“内容也不变”，就要确保元组的每个元素本身都是不可变对象!!!"
   ]
  },
  {
   "cell_type": "markdown",
   "id": "acf8f94b-52bb-4c1b-8b58-7f236ae98857",
   "metadata": {},
   "source": [
    "### 进阶用法：索引与切片"
   ]
  },
  {
   "cell_type": "code",
   "execution_count": 84,
   "id": "cb11bda7-658e-4f6f-9baf-1bbb8080b70a",
   "metadata": {},
   "outputs": [
    {
     "name": "stdout",
     "output_type": "stream",
     "text": [
      "[0, 1, 2]\n",
      "[8, 9]\n",
      "[2, 4, 6]\n"
     ]
    }
   ],
   "source": [
    "L = [0, 1, 2, 3, 4, 5, 6, 7, 8, 9]\n",
    "print(L[:3])         # 前三项\n",
    "print(L[-2:])        # 后两项\n",
    "print(L[2:8:2])      # 步长为2选取"
   ]
  },
  {
   "cell_type": "code",
   "execution_count": 85,
   "id": "18fa54e4-5457-4f9e-92ec-e4f36eba167f",
   "metadata": {},
   "outputs": [
    {
     "name": "stdout",
     "output_type": "stream",
     "text": [
      "(0, 1, 2)\n",
      "(8, 9)\n",
      "(2, 4, 6)\n"
     ]
    }
   ],
   "source": [
    "T = (0, 1, 2, 3, 4, 5, 6, 7, 8, 9)\n",
    "print(T[:3])    # 前三项 (0, 1, 2)\n",
    "print(T[-2:])   # 后两项 (8, 9)\n",
    "print(T[2:8:2]) # 从索引2到7，步长为2 (2, 4, 6)"
   ]
  },
  {
   "cell_type": "code",
   "execution_count": 86,
   "id": "72bbf146-27a7-49e8-94df-6bf20d61bbe6",
   "metadata": {},
   "outputs": [
    {
     "name": "stdout",
     "output_type": "stream",
     "text": [
      "ACEG\n",
      "ABCD\n",
      "CDEFG\n",
      "CDE\n"
     ]
    }
   ],
   "source": [
    "s = 'ABCDEFG'\n",
    "print(s[::2])        # 'ACEG'\n",
    "print(s[:4])    # 'ABCD' 从开头到索引3\n",
    "print(s[2:])    # 'CDEFG' 从索引2到末尾\n",
    "print(s[-5:-2]) # 'CDE'  从倒数第5到倒数第3"
   ]
  },
  {
   "cell_type": "markdown",
   "id": "9d203503-173b-41ae-b4e6-4a5148024a79",
   "metadata": {},
   "source": [
    "### 字典\n",
    "字典是 Python 中的映射类型，以键值对（`key-value`）形式存储数据。  \n",
    "- key：必须唯一、不可变（字符串、整数、元组），内部通过哈希实现。  \n",
    "- value：可以是任意对象，允许重复。  \n",
    "- 字典是无序（Python 3.6+ 内部按插入顺序存储，但逻辑上不保证顺序）。 "
   ]
  },
  {
   "cell_type": "code",
   "execution_count": 87,
   "id": "15342000-2761-434c-ab99-6a4347080471",
   "metadata": {},
   "outputs": [
    {
     "data": {
      "text/plain": [
       "{'Alice': 85, 'Bob': 92}"
      ]
     },
     "execution_count": 87,
     "metadata": {},
     "output_type": "execute_result"
    }
   ],
   "source": [
    "d1 = {'Alice': 85, 'Bob': 92}\n",
    "d1"
   ]
  },
  {
   "cell_type": "code",
   "execution_count": 88,
   "id": "ecfa3a0d-223c-4cd3-9e37-e30e9911787d",
   "metadata": {},
   "outputs": [
    {
     "data": {
      "text/plain": [
       "{'Alice': 85, 'Bob': 92}"
      ]
     },
     "execution_count": 88,
     "metadata": {},
     "output_type": "execute_result"
    }
   ],
   "source": [
    "# 内置函数 dict()\n",
    "d2 = dict(Alice=85, Bob=92)\n",
    "d2"
   ]
  },
  {
   "cell_type": "code",
   "execution_count": 89,
   "id": "a3f13f1b-fbe8-4fd8-a5e4-2406d8730282",
   "metadata": {},
   "outputs": [
    {
     "data": {
      "text/plain": [
       "{'Alice': 85, 'Bob': 92}"
      ]
     },
     "execution_count": 89,
     "metadata": {},
     "output_type": "execute_result"
    }
   ],
   "source": [
    "# 从列表/元组构造\n",
    "d3 = dict([('Alice', 85), ('Bob', 92)])\n",
    "d3"
   ]
  },
  {
   "cell_type": "code",
   "execution_count": 91,
   "id": "21f3e338-1a22-4d91-9d53-a610013af732",
   "metadata": {},
   "outputs": [],
   "source": [
    "d = {'Alice': 85, 'Bob': 92}"
   ]
  },
  {
   "cell_type": "code",
   "execution_count": 92,
   "id": "f9d8ccd2-b822-4522-a840-cfef52d46d17",
   "metadata": {},
   "outputs": [
    {
     "data": {
      "text/plain": [
       "85"
      ]
     },
     "execution_count": 92,
     "metadata": {},
     "output_type": "execute_result"
    }
   ],
   "source": [
    "# 访问\n",
    "d['Alice']          # 85"
   ]
  },
  {
   "cell_type": "code",
   "execution_count": 93,
   "id": "160bb099-7408-4a06-8e57-71352927b428",
   "metadata": {},
   "outputs": [
    {
     "data": {
      "text/plain": [
       "0"
      ]
     },
     "execution_count": 93,
     "metadata": {},
     "output_type": "execute_result"
    }
   ],
   "source": [
    "d.get('Eve', 0)     # 安全访问，避免KeyError"
   ]
  },
  {
   "cell_type": "code",
   "execution_count": 94,
   "id": "f1fad02c-77c0-40b2-86c8-afe30d5d010a",
   "metadata": {},
   "outputs": [
    {
     "data": {
      "text/plain": [
       "{'Alice': 88, 'Bob': 92, 'Carol': 70}"
      ]
     },
     "execution_count": 94,
     "metadata": {},
     "output_type": "execute_result"
    }
   ],
   "source": [
    "# 修改与新增\n",
    "d['Alice'] = 88     # 修改已有值\n",
    "d['Carol'] = 70     # 新增\n",
    "d"
   ]
  },
  {
   "cell_type": "code",
   "execution_count": 95,
   "id": "02238bc3-11e3-475d-8e7f-efa830313780",
   "metadata": {},
   "outputs": [
    {
     "data": {
      "text/plain": [
       "{'Alice': 88, 'Carol': 70}"
      ]
     },
     "execution_count": 95,
     "metadata": {},
     "output_type": "execute_result"
    }
   ],
   "source": [
    "# 删除\n",
    "d.pop('Bob')        # 删除并返回值\n",
    "d"
   ]
  },
  {
   "cell_type": "code",
   "execution_count": 97,
   "id": "63c4d457-785d-4b55-8e06-fdf6db8f9c3b",
   "metadata": {},
   "outputs": [
    {
     "data": {
      "text/plain": [
       "{}"
      ]
     },
     "execution_count": 97,
     "metadata": {},
     "output_type": "execute_result"
    }
   ],
   "source": [
    "d.popitem()         # 删除并返回最后一个键值对\n",
    "d"
   ]
  },
  {
   "cell_type": "code",
   "execution_count": 99,
   "id": "2aff2659-e7e9-4243-9f3d-22c18b237d72",
   "metadata": {},
   "outputs": [
    {
     "data": {
      "text/plain": [
       "{}"
      ]
     },
     "execution_count": 99,
     "metadata": {},
     "output_type": "execute_result"
    }
   ],
   "source": [
    "d.clear()           # 清空字典\n",
    "d"
   ]
  },
  {
   "cell_type": "code",
   "execution_count": 101,
   "id": "e53286f0-e71a-4738-87ca-97ef5fd9c436",
   "metadata": {},
   "outputs": [
    {
     "data": {
      "text/plain": [
       "True"
      ]
     },
     "execution_count": 101,
     "metadata": {},
     "output_type": "execute_result"
    }
   ],
   "source": [
    "d = {'Alice': 85, 'Bob': 92}\n",
    "\n",
    "d.keys()      # 返回所有 key\n",
    "d.values()    # 返回所有 value\n",
    "d.items()     # 返回(key,value)对\n",
    "\n",
    "len(d)        # 字典元素数量\n",
    "'Bob' in d    # 判断 key 是否存在"
   ]
  },
  {
   "cell_type": "code",
   "execution_count": null,
   "id": "a0103bc2-9d6c-4a3e-bbcc-7fdac781c3e2",
   "metadata": {},
   "outputs": [],
   "source": []
  },
  {
   "cell_type": "code",
   "execution_count": 102,
   "id": "0f56d458-165d-41c0-9406-0249bdaa0ce1",
   "metadata": {},
   "outputs": [
    {
     "data": {
      "text/plain": [
       "{0: 0, 1: 1, 2: 4, 3: 9, 4: 16}"
      ]
     },
     "execution_count": 102,
     "metadata": {},
     "output_type": "execute_result"
    }
   ],
   "source": [
    "# 使用推导式\n",
    "d4 = {x: x**2 for x in range(5)}\n",
    "d4"
   ]
  },
  {
   "cell_type": "markdown",
   "id": "8f8380d7-1cb6-4d21-a62a-41cedc98d770",
   "metadata": {},
   "source": [
    "### 集合\n",
    "集合是一种无序、不重复的元素容器。常用于去重、集合运算（并集、交集、差集）。  \n"
   ]
  },
  {
   "cell_type": "code",
   "execution_count": 104,
   "id": "4ca33eb5-f5b2-4691-b547-1a80328b74e4",
   "metadata": {},
   "outputs": [
    {
     "data": {
      "text/plain": [
       "{1, 2, 3}"
      ]
     },
     "execution_count": 104,
     "metadata": {},
     "output_type": "execute_result"
    }
   ],
   "source": [
    "s1 = {1, 2, 3}\n",
    "s1"
   ]
  },
  {
   "cell_type": "code",
   "execution_count": 105,
   "id": "db5f5972-89f2-44e5-9fd3-fd17611e002f",
   "metadata": {},
   "outputs": [
    {
     "data": {
      "text/plain": [
       "{1, 2, 3}"
      ]
     },
     "execution_count": 105,
     "metadata": {},
     "output_type": "execute_result"
    }
   ],
   "source": [
    "s2 = set([1, 2, 2, 3])  # 自动去重 -> {1, 2, 3}\n",
    "s2"
   ]
  },
  {
   "cell_type": "code",
   "execution_count": 106,
   "id": "82159c4b-41f2-4ca2-8f81-fdd49ebba7e9",
   "metadata": {},
   "outputs": [],
   "source": [
    "empty_set = set()       # 注意：{} 表示空字典"
   ]
  },
  {
   "cell_type": "code",
   "execution_count": 107,
   "id": "41885f3d-53d2-4317-a601-0328272f947f",
   "metadata": {},
   "outputs": [
    {
     "data": {
      "text/plain": [
       "{1, 2, 3, 4}"
      ]
     },
     "execution_count": 107,
     "metadata": {},
     "output_type": "execute_result"
    }
   ],
   "source": [
    "s = {1, 2, 3}\n",
    "# 增删\n",
    "s.add(4)          # 增加单个元素\n",
    "s"
   ]
  },
  {
   "cell_type": "code",
   "execution_count": 108,
   "id": "afade10b-4de9-4852-875a-0e9072d923c8",
   "metadata": {},
   "outputs": [
    {
     "data": {
      "text/plain": [
       "{1, 2, 3, 4, 5, 6}"
      ]
     },
     "execution_count": 108,
     "metadata": {},
     "output_type": "execute_result"
    }
   ],
   "source": [
    "s.update([5,6])   # 一次添加多个元素\n",
    "s"
   ]
  },
  {
   "cell_type": "code",
   "execution_count": 109,
   "id": "45b59385-f001-4aea-8bc5-6bbf88458b77",
   "metadata": {},
   "outputs": [
    {
     "data": {
      "text/plain": [
       "{1, 3, 4, 5, 6}"
      ]
     },
     "execution_count": 109,
     "metadata": {},
     "output_type": "execute_result"
    }
   ],
   "source": [
    "s.remove(2)       # 删除指定元素，不存在时报错\n",
    "s"
   ]
  },
  {
   "cell_type": "code",
   "execution_count": 110,
   "id": "272423b3-3cab-4c66-895a-150749c33704",
   "metadata": {},
   "outputs": [
    {
     "data": {
      "text/plain": [
       "{1, 3, 4, 5, 6}"
      ]
     },
     "execution_count": 110,
     "metadata": {},
     "output_type": "execute_result"
    }
   ],
   "source": [
    "s.discard(10)     # 删除元素，不存在也不报错\n",
    "s"
   ]
  },
  {
   "cell_type": "code",
   "execution_count": 111,
   "id": "7530f327-4e35-44ef-804e-ee8fee813ada",
   "metadata": {},
   "outputs": [
    {
     "data": {
      "text/plain": [
       "{3, 4, 5, 6}"
      ]
     },
     "execution_count": 111,
     "metadata": {},
     "output_type": "execute_result"
    }
   ],
   "source": [
    "s.pop()           # 删除并返回任意一个元素\n",
    "s"
   ]
  },
  {
   "cell_type": "code",
   "execution_count": 112,
   "id": "57b86f31-cd54-4846-ba42-dcbfeed40b7a",
   "metadata": {},
   "outputs": [],
   "source": [
    "s.clear()         # 清空集合"
   ]
  },
  {
   "cell_type": "markdown",
   "id": "38f49b3e-febc-4208-bd51-b4f30b67bbf6",
   "metadata": {},
   "source": [
    "#### 集合支持数学集合的运算："
   ]
  },
  {
   "cell_type": "code",
   "execution_count": 113,
   "id": "86db6328-fc2b-48f2-b251-ff4cd42400b4",
   "metadata": {},
   "outputs": [
    {
     "name": "stdout",
     "output_type": "stream",
     "text": [
      "{2, 3}\n"
     ]
    }
   ],
   "source": [
    "a = {1,2,3}\n",
    "b = {2,3,4}\n",
    "\n",
    "print(a & b)     # 交集 {2,3}"
   ]
  },
  {
   "cell_type": "code",
   "execution_count": 114,
   "id": "0a810905-7d95-4060-bfa1-d5911dba7f2f",
   "metadata": {},
   "outputs": [
    {
     "name": "stdout",
     "output_type": "stream",
     "text": [
      "{1, 2, 3, 4}\n"
     ]
    }
   ],
   "source": [
    "print(a | b)     # 并集 {1,2,3,4}\n"
   ]
  },
  {
   "cell_type": "code",
   "execution_count": 115,
   "id": "da96137d-1812-4a56-912f-e29c33585c50",
   "metadata": {},
   "outputs": [
    {
     "name": "stdout",
     "output_type": "stream",
     "text": [
      "{1}\n"
     ]
    }
   ],
   "source": [
    "print(a - b)     # 差集 {1}\n"
   ]
  },
  {
   "cell_type": "code",
   "execution_count": 116,
   "id": "cf85385e-83e6-42cc-87b2-e437449d3ecf",
   "metadata": {},
   "outputs": [
    {
     "name": "stdout",
     "output_type": "stream",
     "text": [
      "{1, 4}\n"
     ]
    }
   ],
   "source": [
    "print(a ^ b)     # 对称差集 {1,4}"
   ]
  },
  {
   "cell_type": "code",
   "execution_count": 117,
   "id": "786fbbf7-132d-432a-a821-851f56f68764",
   "metadata": {},
   "outputs": [
    {
     "data": {
      "text/plain": [
       "False"
      ]
     },
     "execution_count": 117,
     "metadata": {},
     "output_type": "execute_result"
    }
   ],
   "source": [
    "a.issubset(b)    # 判断子集"
   ]
  },
  {
   "cell_type": "code",
   "execution_count": 118,
   "id": "13e469aa-43f7-4863-95da-9f12ff243093",
   "metadata": {},
   "outputs": [
    {
     "data": {
      "text/plain": [
       "False"
      ]
     },
     "execution_count": 118,
     "metadata": {},
     "output_type": "execute_result"
    }
   ],
   "source": [
    "a.issuperset(b)  # 判断超集"
   ]
  },
  {
   "cell_type": "markdown",
   "id": "51cf0379-cd56-4987-bf32-affefae71584",
   "metadata": {},
   "source": [
    "#### 集合本身是可变的，不能作为 `dict` 的 `key`。如果需要不可变集合，可以使用 `frozenset`"
   ]
  },
  {
   "cell_type": "code",
   "execution_count": 122,
   "id": "7e862982-2538-4b8e-8600-de7d82ba0eb6",
   "metadata": {},
   "outputs": [
    {
     "ename": "AttributeError",
     "evalue": "'frozenset' object has no attribute 'add'",
     "output_type": "error",
     "traceback": [
      "\u001b[31m---------------------------------------------------------------------------\u001b[39m",
      "\u001b[31mAttributeError\u001b[39m                            Traceback (most recent call last)",
      "\u001b[36mCell\u001b[39m\u001b[36m \u001b[39m\u001b[32mIn[122]\u001b[39m\u001b[32m, line 2\u001b[39m\n\u001b[32m      1\u001b[39m fs = \u001b[38;5;28mfrozenset\u001b[39m([\u001b[32m1\u001b[39m,\u001b[32m2\u001b[39m,\u001b[32m3\u001b[39m])\n\u001b[32m----> \u001b[39m\u001b[32m2\u001b[39m \u001b[43mfs\u001b[49m\u001b[43m.\u001b[49m\u001b[43madd\u001b[49m(\u001b[32m4\u001b[39m) \u001b[38;5;66;03m#会报错\u001b[39;00m\n",
      "\u001b[31mAttributeError\u001b[39m: 'frozenset' object has no attribute 'add'"
     ]
    }
   ],
   "source": [
    "fs = frozenset([1,2,3])\n",
    "fs.add(4) #会报错"
   ]
  },
  {
   "cell_type": "code",
   "execution_count": null,
   "id": "b96fb233-1ee8-48cb-8738-1f8c3c395bac",
   "metadata": {},
   "outputs": [],
   "source": []
  },
  {
   "cell_type": "markdown",
   "id": "8c8856ca-7dc6-4ccd-88f6-f535dbac232c",
   "metadata": {},
   "source": [
    "## 条件判断（if／elif／else）"
   ]
  },
  {
   "cell_type": "code",
   "execution_count": 124,
   "id": "f13c1af5-60ab-474e-8dd4-34f5a82c41d9",
   "metadata": {},
   "outputs": [
    {
     "name": "stdout",
     "output_type": "stream",
     "text": [
      "your age is 20\n",
      "adult\n"
     ]
    }
   ],
   "source": [
    "age = 20\n",
    "if age >= 18:\n",
    "    print('your age is', age)\n",
    "    print('adult')"
   ]
  },
  {
   "cell_type": "code",
   "execution_count": 125,
   "id": "4995fd53-9495-484f-9af0-edcbe6d50735",
   "metadata": {},
   "outputs": [
    {
     "name": "stdout",
     "output_type": "stream",
     "text": [
      "teenager or kid\n"
     ]
    }
   ],
   "source": [
    "age = 3\n",
    "if age >= 18:\n",
    "    print('adult')\n",
    "else:\n",
    "    print('teenager or kid')"
   ]
  },
  {
   "cell_type": "code",
   "execution_count": 126,
   "id": "bdcf78bb-e8b4-4149-a662-3ad8958d0163",
   "metadata": {},
   "outputs": [
    {
     "name": "stdout",
     "output_type": "stream",
     "text": [
      "kid\n"
     ]
    }
   ],
   "source": [
    "age = 3\n",
    "if age >= 18:\n",
    "    print('adult')\n",
    "elif age >= 6:\n",
    "    print('teenager')\n",
    "else:\n",
    "    print('kid')"
   ]
  },
  {
   "cell_type": "code",
   "execution_count": 127,
   "id": "dec0592f-291d-468a-b61c-bf4788123091",
   "metadata": {},
   "outputs": [
    {
     "name": "stdout",
     "output_type": "stream",
     "text": [
      "teenager\n"
     ]
    }
   ],
   "source": [
    "age = 20\n",
    "if age >= 6:\n",
    "    print('teenager')\n",
    "elif age >= 18:\n",
    "    print('adult')\n",
    "else:\n",
    "    print('kid')"
   ]
  },
  {
   "cell_type": "code",
   "execution_count": 129,
   "id": "a822583d-41ce-4321-ae52-4ed7dc75cd76",
   "metadata": {},
   "outputs": [
    {
     "name": "stdout",
     "output_type": "stream",
     "text": [
      "True\n"
     ]
    }
   ],
   "source": [
    "x = 1\n",
    "if x:\n",
    "    print('True')"
   ]
  },
  {
   "cell_type": "code",
   "execution_count": 130,
   "id": "5b09ee84-adbd-4b39-9d44-7c7dd6dfb920",
   "metadata": {},
   "outputs": [
    {
     "name": "stdin",
     "output_type": "stream",
     "text": [
      "birth:  1999\n"
     ]
    },
    {
     "ename": "TypeError",
     "evalue": "'<' not supported between instances of 'str' and 'int'",
     "output_type": "error",
     "traceback": [
      "\u001b[31m---------------------------------------------------------------------------\u001b[39m",
      "\u001b[31mTypeError\u001b[39m                                 Traceback (most recent call last)",
      "\u001b[36mCell\u001b[39m\u001b[36m \u001b[39m\u001b[32mIn[130]\u001b[39m\u001b[32m, line 2\u001b[39m\n\u001b[32m      1\u001b[39m birth = \u001b[38;5;28minput\u001b[39m(\u001b[33m'\u001b[39m\u001b[33mbirth: \u001b[39m\u001b[33m'\u001b[39m)\n\u001b[32m----> \u001b[39m\u001b[32m2\u001b[39m \u001b[38;5;28;01mif\u001b[39;00m \u001b[43mbirth\u001b[49m\u001b[43m \u001b[49m\u001b[43m<\u001b[49m\u001b[43m \u001b[49m\u001b[32;43m2000\u001b[39;49m:\n\u001b[32m      3\u001b[39m     \u001b[38;5;28mprint\u001b[39m(\u001b[33m'\u001b[39m\u001b[33mbefore 2000\u001b[39m\u001b[33m'\u001b[39m)\n\u001b[32m      4\u001b[39m \u001b[38;5;28;01melse\u001b[39;00m:\n",
      "\u001b[31mTypeError\u001b[39m: '<' not supported between instances of 'str' and 'int'"
     ]
    }
   ],
   "source": [
    "birth = input('birth: ')\n",
    "if birth < 2000:\n",
    "    print('before 2000')\n",
    "else:\n",
    "    print('2000 or after')"
   ]
  },
  {
   "cell_type": "code",
   "execution_count": 131,
   "id": "bfc4ea5f-ac82-4cb8-8e70-2ee81cc2e0d6",
   "metadata": {},
   "outputs": [
    {
     "name": "stdin",
     "output_type": "stream",
     "text": [
      "birth:  1999\n"
     ]
    },
    {
     "name": "stdout",
     "output_type": "stream",
     "text": [
      "before 2000\n"
     ]
    }
   ],
   "source": [
    "s = input('birth: ')\n",
    "birth = int(s)\n",
    "if birth < 2000:\n",
    "    print('before 2000')\n",
    "else:\n",
    "    print('2000 or after')"
   ]
  },
  {
   "cell_type": "markdown",
   "id": "9b96f8a9-8aa2-4c9e-8ea2-3ec272b7a4ff",
   "metadata": {},
   "source": [
    "#### 练习： 根据 BMI（体重 / 身高的平方），请分类：\n",
    "- < 18.5：过轻\n",
    "- 18.5–25：正常\n",
    "- 25–28：过重\n",
    "- 28–32：肥胖\n",
    "- \\> 32：严重肥胖"
   ]
  },
  {
   "cell_type": "code",
   "execution_count": 135,
   "id": "1481d190-f7bb-47b0-a327-850e3eeb4331",
   "metadata": {},
   "outputs": [],
   "source": [
    "height = 1.75\n",
    "weight = 80.5\n",
    "bmi = weight / (height**2)\n",
    "\n",
    "# 请完善以下判断并打印对应结果\n",
    "if bmi:\n",
    "    pass\n",
    "elif bmi:\n",
    "    pass\n",
    "else:\n",
    "    pass"
   ]
  },
  {
   "cell_type": "markdown",
   "id": "7df93633-d724-4d24-abe3-3e32777ba68f",
   "metadata": {},
   "source": [
    "## match / case：结构化模式匹配（Python 3.10+）"
   ]
  },
  {
   "cell_type": "code",
   "execution_count": 136,
   "id": "04e0fea5-ffe5-4f1a-ba4b-0825136bcb53",
   "metadata": {},
   "outputs": [
    {
     "name": "stdout",
     "output_type": "stream",
     "text": [
      "score is B.\n"
     ]
    }
   ],
   "source": [
    "score = 'B'\n",
    "if score == 'A':\n",
    "    print('score is A.')\n",
    "elif score == 'B':\n",
    "    print('score is B.')\n",
    "elif score == 'C':\n",
    "    print('score is C.')\n",
    "else:\n",
    "    print('invalid score.')\n"
   ]
  },
  {
   "cell_type": "code",
   "execution_count": 137,
   "id": "ae398126-af44-47ca-91f6-72bc10bf1da6",
   "metadata": {},
   "outputs": [
    {
     "name": "stdout",
     "output_type": "stream",
     "text": [
      "score is B.\n"
     ]
    }
   ],
   "source": [
    "score = 'B'\n",
    "\n",
    "match score:\n",
    "    case 'A':\n",
    "        print('score is A.')\n",
    "    case 'B':\n",
    "        print('score is B.')\n",
    "    case 'C':\n",
    "        print('score is C.')\n",
    "    case _: # _表示匹配到其他任何情况\n",
    "        print('score is ???.')\n"
   ]
  },
  {
   "cell_type": "code",
   "execution_count": 138,
   "id": "2b2ea319-4fc0-40c4-bde0-873db2b49a34",
   "metadata": {},
   "outputs": [
    {
     "name": "stdout",
     "output_type": "stream",
     "text": [
      "11~18 years old.\n"
     ]
    }
   ],
   "source": [
    "age = 15\n",
    "\n",
    "match age:\n",
    "    case x if x < 10:\n",
    "        print(f'< 10 years old: {x}')\n",
    "    case 10:\n",
    "        print('10 years old.')\n",
    "    case 11 | 12 | 13 | 14 | 15 | 16 | 17 | 18:\n",
    "        print('11~18 years old.')\n",
    "    case 19:\n",
    "        print('19 years old.')\n",
    "    case _:\n",
    "        print('not sure.')\n"
   ]
  },
  {
   "cell_type": "markdown",
   "id": "a0c1d11d-0279-479d-b21b-472d106992f4",
   "metadata": {},
   "source": [
    "#### 序列模式"
   ]
  },
  {
   "cell_type": "code",
   "execution_count": 139,
   "id": "c244b970-42de-4025-8138-ff5c7e38d388",
   "metadata": {},
   "outputs": [
    {
     "name": "stdout",
     "output_type": "stream",
     "text": [
      "move to (10, 20)\n"
     ]
    }
   ],
   "source": [
    "data = [\"move\", 10, 20]\n",
    "\n",
    "match data:\n",
    "    case [\"move\", x, y]:          # 位置解构\n",
    "        print(f\"move to ({x}, {y})\")\n",
    "    case [\"line\", (x1, y1), (x2, y2)]:\n",
    "        print(f\"line from {x1,y1} to {x2,y2}\")\n",
    "    case [cmd, *args]:            # 星号收集剩余\n",
    "        print(\"cmd:\", cmd, \"args:\", args)\n",
    "    case _:\n",
    "        print(\"unknown\")"
   ]
  },
  {
   "cell_type": "markdown",
   "id": "603de116-7a7c-4632-9381-3b9e337d8d18",
   "metadata": {},
   "source": [
    "## 循环结构（for 与 while）"
   ]
  },
  {
   "cell_type": "markdown",
   "id": "c8e5a768-190a-4f7b-a2e9-e5613cdf2b1f",
   "metadata": {},
   "source": [
    "### for 循环"
   ]
  },
  {
   "cell_type": "code",
   "execution_count": 141,
   "id": "23f2ae27-f7b0-4f21-91ca-9b24d0e148aa",
   "metadata": {},
   "outputs": [
    {
     "name": "stdout",
     "output_type": "stream",
     "text": [
      "1\n",
      "2\n",
      "3\n"
     ]
    }
   ],
   "source": [
    "for x in [1, 2, 3]:\n",
    "    print(x)    # 输出 1, 2, 3"
   ]
  },
  {
   "cell_type": "code",
   "execution_count": 142,
   "id": "ce4e576f-ce6c-4e9b-b687-4d545995be69",
   "metadata": {},
   "outputs": [
    {
     "name": "stdout",
     "output_type": "stream",
     "text": [
      "A\n",
      "B\n",
      "C\n"
     ]
    }
   ],
   "source": [
    "for ch in \"ABC\":\n",
    "    print(ch)"
   ]
  },
  {
   "cell_type": "code",
   "execution_count": 143,
   "id": "e80db35e-ac00-4145-8f21-cace48176f27",
   "metadata": {},
   "outputs": [
    {
     "name": "stdout",
     "output_type": "stream",
     "text": [
      "a -> 1\n",
      "b -> 2\n"
     ]
    }
   ],
   "source": [
    "x = {\"a\":1, \"b\":2}\n",
    "for key, value in x.items():\n",
    "    print( f\"{key} -> {value}\")"
   ]
  },
  {
   "cell_type": "code",
   "execution_count": 144,
   "id": "7347f4fe-4d14-45f1-8bde-1d6afd2f88ea",
   "metadata": {},
   "outputs": [
    {
     "name": "stdout",
     "output_type": "stream",
     "text": [
      "0 a\n",
      "1 b\n",
      "2 c\n"
     ]
    }
   ],
   "source": [
    "for idx, val in enumerate(['a','b','c']):\n",
    "    print(idx, val)"
   ]
  },
  {
   "cell_type": "code",
   "execution_count": 145,
   "id": "d1f3d0ff-2ca0-4891-8dee-c89ed69b1a64",
   "metadata": {},
   "outputs": [
    {
     "name": "stdout",
     "output_type": "stream",
     "text": [
      "5050\n"
     ]
    }
   ],
   "source": [
    "sum = 0\n",
    "for x in range(101):\n",
    "    sum = sum + x\n",
    "print(sum)\n"
   ]
  },
  {
   "cell_type": "markdown",
   "id": "a734d763-87dc-410c-8ea5-a075fbde9f59",
   "metadata": {},
   "source": [
    "### while 判断"
   ]
  },
  {
   "cell_type": "code",
   "execution_count": 146,
   "id": "39ef8682-993a-4e45-9951-fa01149b66f3",
   "metadata": {},
   "outputs": [
    {
     "name": "stdout",
     "output_type": "stream",
     "text": [
      "0\n",
      "1\n",
      "2\n"
     ]
    }
   ],
   "source": [
    "count = 0\n",
    "while count < 3:\n",
    "    print(count)\n",
    "    count += 1   # 注意更新变量，避免死循环"
   ]
  },
  {
   "cell_type": "code",
   "execution_count": 147,
   "id": "5fde5bfe-a800-430f-9d18-2b01e363ea52",
   "metadata": {},
   "outputs": [
    {
     "name": "stdout",
     "output_type": "stream",
     "text": [
      "1\n",
      "2\n",
      "4\n",
      "5\n",
      "循环结束\n"
     ]
    }
   ],
   "source": [
    "i = 0\n",
    "while i < 5:\n",
    "    i += 1\n",
    "    if i == 3:\n",
    "        continue    # 跳过 3\n",
    "    print(i)\n",
    "else:\n",
    "    print(\"循环结束\")"
   ]
  },
  {
   "cell_type": "code",
   "execution_count": 148,
   "id": "45376498-d852-46d0-95a2-5f52494b1678",
   "metadata": {},
   "outputs": [
    {
     "name": "stdout",
     "output_type": "stream",
     "text": [
      "2500\n"
     ]
    }
   ],
   "source": [
    "sum = 0\n",
    "n = 99\n",
    "while n > 0:\n",
    "    sum = sum + n\n",
    "    n = n - 2\n",
    "print(sum)\n"
   ]
  },
  {
   "cell_type": "markdown",
   "id": "453a0f02-a010-489e-8f8a-206cdc390be1",
   "metadata": {},
   "source": [
    "#### 练习：请利用循环依次对`list`中的每个名字打印出`Hello, xxx!`："
   ]
  },
  {
   "cell_type": "code",
   "execution_count": 150,
   "id": "b339c07f-0a32-462a-be73-3bca32908bcf",
   "metadata": {},
   "outputs": [],
   "source": [
    "L = ['Bart', 'Lisa', 'Adam']\n"
   ]
  },
  {
   "cell_type": "markdown",
   "id": "2c4dce9a-cd8c-4e99-ad05-306a88497b13",
   "metadata": {},
   "source": [
    "### `break` : 在循环中，`break`语句可以提前退出循环。"
   ]
  },
  {
   "cell_type": "code",
   "execution_count": 151,
   "id": "44589740-ccf6-4635-9503-6fc7ab5d8dea",
   "metadata": {},
   "outputs": [
    {
     "name": "stdout",
     "output_type": "stream",
     "text": [
      "1\n",
      "2\n",
      "3\n",
      "4\n",
      "5\n",
      "6\n",
      "7\n",
      "8\n",
      "9\n",
      "10\n",
      "END\n"
     ]
    }
   ],
   "source": [
    "n = 1\n",
    "while n <= 100:\n",
    "    if n > 10: # 当n = 11时，条件满足，执行break语句\n",
    "        break # break语句会结束当前循环\n",
    "    print(n)\n",
    "    n = n + 1\n",
    "print('END')\n"
   ]
  },
  {
   "cell_type": "code",
   "execution_count": 154,
   "id": "f3f885a2-ae10-47d6-bd29-d2efaf07d3de",
   "metadata": {},
   "outputs": [
    {
     "data": {
      "text/plain": [
       "True"
      ]
     },
     "execution_count": 154,
     "metadata": {},
     "output_type": "execute_result"
    }
   ],
   "source": [
    "found = False\n",
    "for i in range(3):\n",
    "    for j in range(3):\n",
    "        if i + j == 2:\n",
    "            found = True\n",
    "            break\n",
    "    if found:\n",
    "        break\n",
    "\n",
    "found"
   ]
  },
  {
   "cell_type": "markdown",
   "id": "fca6f9aa-2eed-4795-8e5f-fdbe065b0048",
   "metadata": {},
   "source": [
    "### `continue` : 在循环过程中，也可以通过`continue`语句，跳过当前的这次循环，直接开始下一次循环。"
   ]
  },
  {
   "cell_type": "code",
   "execution_count": 155,
   "id": "de632638-1bdd-44c7-acbf-59329e25f77f",
   "metadata": {},
   "outputs": [
    {
     "name": "stdout",
     "output_type": "stream",
     "text": [
      "1\n",
      "3\n",
      "5\n",
      "7\n",
      "9\n"
     ]
    }
   ],
   "source": [
    "n = 0\n",
    "while n < 10:\n",
    "    n = n + 1\n",
    "    if n % 2 == 0: # 如果n是偶数，执行continue语句\n",
    "        continue # continue语句会直接继续下一轮循环，后续的print()语句不会执行\n",
    "    print(n)"
   ]
  },
  {
   "cell_type": "code",
   "execution_count": null,
   "id": "ee06320f-7d48-4f7f-b018-a4d7f0fee20d",
   "metadata": {},
   "outputs": [],
   "source": []
  }
 ],
 "metadata": {
  "kernelspec": {
   "display_name": "Python 3 (ipykernel)",
   "language": "python",
   "name": "python3"
  },
  "language_info": {
   "codemirror_mode": {
    "name": "ipython",
    "version": 3
   },
   "file_extension": ".py",
   "mimetype": "text/x-python",
   "name": "python",
   "nbconvert_exporter": "python",
   "pygments_lexer": "ipython3",
   "version": "3.12.2"
  }
 },
 "nbformat": 4,
 "nbformat_minor": 5
}
