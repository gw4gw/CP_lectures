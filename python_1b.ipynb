{
 "cells": [
  {
   "cell_type": "markdown",
   "id": "ce6476dc-be35-40e0-9de9-f42587cb07ee",
   "metadata": {},
   "source": [
    "# 函数\n",
    "\n",
    "- 函数是一段可重复使用的代码块，可以接收输入（参数）、返回输出（结果）；\n",
    "- 使用函数能减少重复、提高代码的可读性与可维护性；\n",
    "- Python 提供大量内置函数，也允许我们自定义函数。"
   ]
  },
  {
   "cell_type": "markdown",
   "id": "771ce174-a0ac-441b-ae95-3a35f584cae5",
   "metadata": {},
   "source": [
    "## 1. 调用函数"
   ]
  },
  {
   "cell_type": "code",
   "execution_count": 11,
   "id": "e9490df8-6ae3-42d8-a0a5-09161aef04e8",
   "metadata": {},
   "outputs": [
    {
     "name": "stdout",
     "output_type": "stream",
     "text": [
      "Hello, world\n"
     ]
    }
   ],
   "source": [
    "print(\"Hello, world\")"
   ]
  },
  {
   "cell_type": "code",
   "execution_count": 12,
   "id": "54fd6f09-4a32-40b2-a16b-cbf1b4b1efa9",
   "metadata": {},
   "outputs": [
    {
     "data": {
      "text/plain": [
       "3"
      ]
     },
     "execution_count": 12,
     "metadata": {},
     "output_type": "execute_result"
    }
   ],
   "source": [
    "len([1, 2, 3])"
   ]
  },
  {
   "cell_type": "code",
   "execution_count": 13,
   "id": "ebce7949-7041-493a-8917-5410fbfcfecb",
   "metadata": {},
   "outputs": [
    {
     "data": {
      "text/plain": [
       "10"
      ]
     },
     "execution_count": 13,
     "metadata": {},
     "output_type": "execute_result"
    }
   ],
   "source": [
    "abs(-10)"
   ]
  },
  {
   "cell_type": "markdown",
   "id": "cfa6f3e4-8048-435a-8560-8937a0f26db8",
   "metadata": {},
   "source": [
    "如果不知道函数的用法，可以用“函数名+？”或者 `help(函数名)` 来进行查询"
   ]
  },
  {
   "cell_type": "code",
   "execution_count": 19,
   "id": "4ef505c7-e049-4bea-aa7b-a54e8305d51b",
   "metadata": {},
   "outputs": [
    {
     "name": "stdout",
     "output_type": "stream",
     "text": [
      "Help on built-in function abs in module builtins:\n",
      "\n",
      "abs(x, /)\n",
      "    Return the absolute value of the argument.\n",
      "\n"
     ]
    }
   ],
   "source": [
    "abs?\n",
    "help(abs)"
   ]
  },
  {
   "cell_type": "code",
   "execution_count": 14,
   "id": "b77b3f35-b667-41c7-b094-32a98c09c697",
   "metadata": {},
   "outputs": [
    {
     "data": {
      "text/plain": [
       "9"
      ]
     },
     "execution_count": 14,
     "metadata": {},
     "output_type": "execute_result"
    }
   ],
   "source": [
    "max(1, 5, 9)"
   ]
  },
  {
   "cell_type": "code",
   "execution_count": 15,
   "id": "8246a474-8a40-4273-a32a-9cbd57100411",
   "metadata": {},
   "outputs": [
    {
     "data": {
      "text/plain": [
       "'456'"
      ]
     },
     "execution_count": 15,
     "metadata": {},
     "output_type": "execute_result"
    }
   ],
   "source": [
    "int(3.7)        # 3 浮点转整数\n",
    "float(10)       # 10.0 整数转浮点\n",
    "int(\"123\")      # 123 字符串转整数\n",
    "float(\"3.14\")   # 3.14 字符串转浮点数\n",
    "str(456)        # \"456\" 整数转字符串"
   ]
  },
  {
   "cell_type": "code",
   "execution_count": 16,
   "id": "7a1ea71b-ecf4-4b33-87ec-c89baa9f1952",
   "metadata": {},
   "outputs": [
    {
     "data": {
      "text/plain": [
       "{1, 2, 3}"
      ]
     },
     "execution_count": 16,
     "metadata": {},
     "output_type": "execute_result"
    }
   ],
   "source": [
    "bool(0)         # False 数字转布尔值\n",
    "bool(1)         # True 数字转布尔值\n",
    "int(True)       # 1 布尔值转数字\n",
    "int(False)      # 0 布尔值转数字\n",
    "list(\"ABC\")     # ['A','B','C'] 字符串转序列\n",
    "tuple([1,2,3])  # (1,2,3) 序列转元组\n",
    "set([1,2,2,3])  # {1,2,3} 序列转集合"
   ]
  },
  {
   "cell_type": "markdown",
   "id": "cc503861-c934-4034-85c3-b5b80317d53a",
   "metadata": {},
   "source": [
    "### 函数名其实就是指向一个函数对象的引用，完全可以把函数名赋给一个变量，相当于给这个函数起了一个“别名”："
   ]
  },
  {
   "cell_type": "code",
   "execution_count": 22,
   "id": "046a8e81-9a77-46dd-857e-009bdad3045b",
   "metadata": {},
   "outputs": [],
   "source": [
    "abs2 = abs # 变量abs2指向abs函数"
   ]
  },
  {
   "cell_type": "code",
   "execution_count": 23,
   "id": "f4ddea4c-d88a-46ac-a064-4b051375ed71",
   "metadata": {},
   "outputs": [
    {
     "data": {
      "text/plain": [
       "1"
      ]
     },
     "execution_count": 23,
     "metadata": {},
     "output_type": "execute_result"
    }
   ],
   "source": [
    "abs2(-1) # 所以也可以通过abs2调用abs函数"
   ]
  },
  {
   "cell_type": "markdown",
   "id": "227f8838-17ff-4b97-9939-ea1d59e5d55a",
   "metadata": {},
   "source": [
    "## 2. 定义函数\n",
    "\n",
    "```python\n",
    "def func_name(params):\n",
    "    \"\"\"docstring: 描述函数功能\"\"\"\n",
    "    # 函数体\n",
    "    return result\n",
    "```"
   ]
  },
  {
   "cell_type": "code",
   "execution_count": 24,
   "id": "2901d8e0-a2d2-4c41-a81f-19fba84ddd14",
   "metadata": {},
   "outputs": [
    {
     "name": "stdout",
     "output_type": "stream",
     "text": [
      "78.53975\n"
     ]
    }
   ],
   "source": [
    "def area_of_circle(r):\n",
    "    return 3.14159 * r * r\n",
    "\n",
    "print(area_of_circle(5))"
   ]
  },
  {
   "cell_type": "code",
   "execution_count": 25,
   "id": "c3278fe0-2c13-4dd5-84f6-93e9aa6c3878",
   "metadata": {},
   "outputs": [],
   "source": [
    "def print_str(s):\n",
    "    print( s )"
   ]
  },
  {
   "cell_type": "code",
   "execution_count": 26,
   "id": "07481c9d-e1e5-4286-b9d5-b43e5ba714ec",
   "metadata": {},
   "outputs": [
    {
     "name": "stdout",
     "output_type": "stream",
     "text": [
      "abc\n"
     ]
    }
   ],
   "source": [
    "print_str(\"abc\")"
   ]
  },
  {
   "cell_type": "code",
   "execution_count": 27,
   "id": "9f82fa3e-65d5-4419-abcc-c6af917289d3",
   "metadata": {},
   "outputs": [],
   "source": [
    "### 空函数"
   ]
  },
  {
   "cell_type": "code",
   "execution_count": 28,
   "id": "c3c825fe-9d82-4327-92ad-daf2ec47551f",
   "metadata": {},
   "outputs": [],
   "source": [
    "def nop():\n",
    "    pass"
   ]
  },
  {
   "cell_type": "markdown",
   "id": "ed79896f-339a-4aee-bf85-f78799fc67f5",
   "metadata": {},
   "source": [
    "### 对参数类型做检查，只允许整数和浮点数类型的参数。数据类型检查可以用内置函数isinstance()实现："
   ]
  },
  {
   "cell_type": "code",
   "execution_count": 29,
   "id": "ac7288e5-53a3-456b-af66-4ac778ec66ec",
   "metadata": {},
   "outputs": [
    {
     "ename": "TypeError",
     "evalue": "can't multiply sequence by non-int of type 'float'",
     "output_type": "error",
     "traceback": [
      "\u001b[31m---------------------------------------------------------------------------\u001b[39m",
      "\u001b[31mTypeError\u001b[39m                                 Traceback (most recent call last)",
      "\u001b[36mCell\u001b[39m\u001b[36m \u001b[39m\u001b[32mIn[29]\u001b[39m\u001b[32m, line 1\u001b[39m\n\u001b[32m----> \u001b[39m\u001b[32m1\u001b[39m \u001b[43marea_of_circle\u001b[49m\u001b[43m(\u001b[49m\u001b[33;43m'\u001b[39;49m\u001b[33;43mabc\u001b[39;49m\u001b[33;43m'\u001b[39;49m\u001b[43m)\u001b[49m\n",
      "\u001b[36mCell\u001b[39m\u001b[36m \u001b[39m\u001b[32mIn[24]\u001b[39m\u001b[32m, line 2\u001b[39m, in \u001b[36marea_of_circle\u001b[39m\u001b[34m(r)\u001b[39m\n\u001b[32m      1\u001b[39m \u001b[38;5;28;01mdef\u001b[39;00m\u001b[38;5;250m \u001b[39m\u001b[34marea_of_circle\u001b[39m(r):\n\u001b[32m----> \u001b[39m\u001b[32m2\u001b[39m     \u001b[38;5;28;01mreturn\u001b[39;00m \u001b[32;43m3.14159\u001b[39;49m\u001b[43m \u001b[49m\u001b[43m*\u001b[49m\u001b[43m \u001b[49m\u001b[43mr\u001b[49m * r\n",
      "\u001b[31mTypeError\u001b[39m: can't multiply sequence by non-int of type 'float'"
     ]
    }
   ],
   "source": [
    "area_of_circle('abc')"
   ]
  },
  {
   "cell_type": "code",
   "execution_count": 32,
   "id": "0a626817-8190-4996-9f4b-5e0fe92855db",
   "metadata": {},
   "outputs": [
    {
     "ename": "TypeError",
     "evalue": "这个类型是错的",
     "output_type": "error",
     "traceback": [
      "\u001b[31m---------------------------------------------------------------------------\u001b[39m",
      "\u001b[31mTypeError\u001b[39m                                 Traceback (most recent call last)",
      "\u001b[36mCell\u001b[39m\u001b[36m \u001b[39m\u001b[32mIn[32]\u001b[39m\u001b[32m, line 7\u001b[39m\n\u001b[32m      3\u001b[39m         \u001b[38;5;28;01mraise\u001b[39;00m \u001b[38;5;167;01mTypeError\u001b[39;00m(\u001b[33m\"\u001b[39m\u001b[33m这个类型是错的\u001b[39m\u001b[33m\"\u001b[39m)\n\u001b[32m      5\u001b[39m     \u001b[38;5;28;01mreturn\u001b[39;00m \u001b[32m3.14159\u001b[39m * r * r\n\u001b[32m----> \u001b[39m\u001b[32m7\u001b[39m \u001b[38;5;28mprint\u001b[39m(\u001b[43marea_of_circle\u001b[49m\u001b[43m(\u001b[49m\u001b[33;43m'\u001b[39;49m\u001b[33;43m3\u001b[39;49m\u001b[33;43m'\u001b[39;49m\u001b[43m)\u001b[49m)\n",
      "\u001b[36mCell\u001b[39m\u001b[36m \u001b[39m\u001b[32mIn[32]\u001b[39m\u001b[32m, line 3\u001b[39m, in \u001b[36marea_of_circle\u001b[39m\u001b[34m(r)\u001b[39m\n\u001b[32m      1\u001b[39m \u001b[38;5;28;01mdef\u001b[39;00m\u001b[38;5;250m \u001b[39m\u001b[34marea_of_circle\u001b[39m(r):\n\u001b[32m      2\u001b[39m     \u001b[38;5;28;01mif\u001b[39;00m \u001b[38;5;129;01mnot\u001b[39;00m \u001b[38;5;28misinstance\u001b[39m(r, (\u001b[38;5;28mint\u001b[39m, \u001b[38;5;28mfloat\u001b[39m)):\n\u001b[32m----> \u001b[39m\u001b[32m3\u001b[39m         \u001b[38;5;28;01mraise\u001b[39;00m \u001b[38;5;167;01mTypeError\u001b[39;00m(\u001b[33m\"\u001b[39m\u001b[33m这个类型是错的\u001b[39m\u001b[33m\"\u001b[39m)\n\u001b[32m      5\u001b[39m     \u001b[38;5;28;01mreturn\u001b[39;00m \u001b[32m3.14159\u001b[39m * r * r\n",
      "\u001b[31mTypeError\u001b[39m: 这个类型是错的"
     ]
    }
   ],
   "source": [
    "def area_of_circle(r):\n",
    "    \n",
    "    if not isinstance(r, (int, float)):\n",
    "        raise TypeError(\"这个类型是错的\")\n",
    "        \n",
    "    return 3.14159 * r * r\n",
    "\n",
    "print(area_of_circle('3'))"
   ]
  },
  {
   "cell_type": "markdown",
   "id": "032b06a7-3b22-43ba-a412-da1f24fe8739",
   "metadata": {},
   "source": [
    "### 返回多个值"
   ]
  },
  {
   "cell_type": "markdown",
   "id": "5e74c004-dd96-4e26-b1f3-70ac197d1816",
   "metadata": {},
   "source": [
    "`import math`语句表示导入`math`包，并允许后续代码引用`math`包里的`sin`、`cos`等函数。"
   ]
  },
  {
   "cell_type": "code",
   "execution_count": 33,
   "id": "f23ecd67-646f-4af7-aef6-b0d781db9302",
   "metadata": {},
   "outputs": [],
   "source": [
    "import math\n",
    "\n",
    "def move(x, y, step, angle=0):\n",
    "    nx = x + step * math.cos(angle)\n",
    "    ny = y - step * math.sin(angle)\n",
    "    return nx, ny"
   ]
  },
  {
   "cell_type": "code",
   "execution_count": 34,
   "id": "f2d8ab18-6ff3-4120-8082-7ada9afbefa7",
   "metadata": {},
   "outputs": [
    {
     "name": "stdout",
     "output_type": "stream",
     "text": [
      "151.96152422706632 70.0\n"
     ]
    }
   ],
   "source": [
    "x, y = move(100, 100, 60, math.pi / 6)\n",
    "print(x, y)"
   ]
  },
  {
   "cell_type": "code",
   "execution_count": 36,
   "id": "a926ee63-b041-4ed9-a08a-bfbd39a88330",
   "metadata": {},
   "outputs": [
    {
     "name": "stdout",
     "output_type": "stream",
     "text": [
      "(151.96152422706632, 70.0)\n"
     ]
    }
   ],
   "source": [
    "r = move(100, 100, 60, math.pi / 6)\n",
    "print( r )"
   ]
  },
  {
   "cell_type": "markdown",
   "id": "a679564d-3ee2-4d9c-a53d-3db8d3477344",
   "metadata": {},
   "source": [
    "原来返回值是一个tuple！但是，在语法上，返回一个tuple可以省略括号，而多个变量可以同时接收一个tuple，按位置赋给对应的值，所以，Python的函数返回多值其实就是返回一个tuple，但写起来更方便。"
   ]
  },
  {
   "cell_type": "markdown",
   "id": "f45a69e4-c1f1-4e93-9af1-91fcb1efd94f",
   "metadata": {},
   "source": [
    "### 练习，写一个函数计算一元二次方程的两个解\n",
    "\n",
    "$$\n",
    "x = \\frac{ -b \\pm \\sqrt{b^2 - 4 a c} }{ 2 a }\n",
    "$$\n",
    "\n",
    "提示：计算平方根可以调用 `math.sqrt()`"
   ]
  },
  {
   "cell_type": "code",
   "execution_count": 37,
   "id": "9462342c-abaf-4d65-9bb2-52cef19c7191",
   "metadata": {},
   "outputs": [
    {
     "data": {
      "text/plain": [
       "1.4142135623730951"
      ]
     },
     "execution_count": 37,
     "metadata": {},
     "output_type": "execute_result"
    }
   ],
   "source": [
    "import math\n",
    "\n",
    "math.sqrt(2.0)"
   ]
  },
  {
   "cell_type": "code",
   "execution_count": 38,
   "id": "5b94732e-4550-42d0-81c2-99b0c67e5169",
   "metadata": {},
   "outputs": [
    {
     "name": "stdout",
     "output_type": "stream",
     "text": [
      "quadratic(2, 3, 1) = None\n",
      "quadratic(1, 3, -4) = None\n",
      "测试失败\n"
     ]
    }
   ],
   "source": [
    "import math\n",
    "\n",
    "def quadratic(a, b, c):\n",
    "    pass ## 在这里写你的代码\n",
    "\n",
    "# 测试:\n",
    "print('quadratic(2, 3, 1) =', quadratic(2, 3, 1))\n",
    "print('quadratic(1, 3, -4) =', quadratic(1, 3, -4))\n",
    "\n",
    "if quadratic(2, 3, 1) != (-0.5, -1.0):\n",
    "    print('测试失败')\n",
    "elif quadratic(1, 3, -4) != (1.0, -4.0):\n",
    "    print('测试失败')\n",
    "else:\n",
    "    print('测试成功')"
   ]
  },
  {
   "cell_type": "code",
   "execution_count": null,
   "id": "e85789f3-f7d6-492d-b55e-12613f9247c2",
   "metadata": {},
   "outputs": [],
   "source": []
  },
  {
   "cell_type": "markdown",
   "id": "ee17dc67-6203-4b95-9aba-1c0c0abba3c2",
   "metadata": {},
   "source": [
    "\n",
    "## 3. Python 函数的参数\n",
    "\n",
    "本 Notebook 覆盖并扩展了以下知识点：\n",
    "- 必选参数、默认参数、可变参数（`*args`）、关键字参数（`**kwargs`）、命名关键字参数（keyword-only）\n",
    "- 参数定义顺序与组合调用\n",
    "- 解包调用（`*` 与 `**`）\n",
    "- 默认参数的可变对象陷阱与规避\n",
    "- 参数校验与错误示例\n",
    "- 练习与思考题\n",
    "\n",
    "> 参考学习页：函数的参数（廖雪峰 Python 教程）。\n"
   ]
  },
  {
   "cell_type": "markdown",
   "id": "ee0c4beb",
   "metadata": {},
   "source": [
    "\n",
    "### 1. 五类参数概览\n",
    "在 Python 中可以定义 5 类常见参数：\n",
    "1. **必选参数**（positional）\n",
    "2. **默认参数**（default values）\n",
    "3. **可变参数**（`*args`）\n",
    "4. **关键字参数**（`**kwargs`）\n",
    "5. **命名关键字参数**（keyword-only）\n",
    "\n",
    "> 组合规则（顺序）：必选参数 → 默认参数 → `*args` → 命名关键字参数 → `**kwargs`\n"
   ]
  },
  {
   "cell_type": "markdown",
   "id": "36490904",
   "metadata": {},
   "source": [
    "### 必选参数与默认参数"
   ]
  },
  {
   "cell_type": "code",
   "execution_count": 39,
   "id": "169ee343-c9ed-4c92-a3ec-4fbeb6d728ee",
   "metadata": {},
   "outputs": [],
   "source": [
    "def power(x):\n",
    "    return x * x"
   ]
  },
  {
   "cell_type": "code",
   "execution_count": 40,
   "id": "e3b4cdcc-185d-42be-84c6-e5ff0917e967",
   "metadata": {},
   "outputs": [
    {
     "data": {
      "text/plain": [
       "(25, 225)"
      ]
     },
     "execution_count": 40,
     "metadata": {},
     "output_type": "execute_result"
    }
   ],
   "source": [
    "power(5), power(15)"
   ]
  },
  {
   "cell_type": "markdown",
   "id": "0f6a6280-32c7-4b01-bece-a0abd8add7e1",
   "metadata": {},
   "source": [
    "### 如果我们希望调整幂指数"
   ]
  },
  {
   "cell_type": "code",
   "execution_count": 41,
   "id": "937f8c95-feec-405c-aed7-862940160b91",
   "metadata": {},
   "outputs": [],
   "source": [
    "def power(x, n):\n",
    "    s = 1\n",
    "    while n > 0:\n",
    "        n = n - 1\n",
    "        s = s * x\n",
    "    return s"
   ]
  },
  {
   "cell_type": "code",
   "execution_count": 42,
   "id": "10a21ee6-679b-4c32-bcd4-e4efdbbc7345",
   "metadata": {},
   "outputs": [
    {
     "data": {
      "text/plain": [
       "(25, 125)"
      ]
     },
     "execution_count": 42,
     "metadata": {},
     "output_type": "execute_result"
    }
   ],
   "source": [
    "power(5, 2), power(5, 3)"
   ]
  },
  {
   "cell_type": "markdown",
   "id": "2be66106-726c-4a18-b3e4-e23eefac2cbd",
   "metadata": {},
   "source": [
    "### 默认参数"
   ]
  },
  {
   "cell_type": "code",
   "execution_count": 43,
   "id": "4d5f4c9e-3867-450d-9d3b-06c7bc774e28",
   "metadata": {},
   "outputs": [],
   "source": [
    "def power(x, n=2):\n",
    "    s = 1\n",
    "    while n > 0:\n",
    "        n = n - 1\n",
    "        s = s * x\n",
    "    return s\n"
   ]
  },
  {
   "cell_type": "code",
   "execution_count": 44,
   "id": "c9d6b104-ff04-4427-bc14-666f3746ab73",
   "metadata": {},
   "outputs": [
    {
     "data": {
      "text/plain": [
       "(25, 25)"
      ]
     },
     "execution_count": 44,
     "metadata": {},
     "output_type": "execute_result"
    }
   ],
   "source": [
    "power(5), power(5, 2)"
   ]
  },
  {
   "cell_type": "markdown",
   "id": "667aeccc-c100-4f32-95d6-157ccc2b24c3",
   "metadata": {},
   "source": [
    "对于 `n > 2` 的其他情况，就必须明确地传入`n`，比如`power(5, 3)`。\n",
    "\n",
    "从上面的例子可以看出，默认参数可以简化函数的调用。设置默认参数时，有几点要注意：\n",
    "\n",
    "一是必选参数在前，默认参数在后，否则`Python`的解释器会报错（思考一下为什么默认参数不能放在必选参数前面）；\n",
    "\n",
    "二是如何设置默认参数。\n",
    "\n",
    "当函数有多个参数时，把变化大的参数放前面，变化小的参数放后面。变化小的参数就可以作为默认参数。\n",
    "\n",
    "使用默认参数有什么好处？最大的好处是能降低调用函数的难度。"
   ]
  },
  {
   "cell_type": "code",
   "execution_count": 45,
   "id": "638fbf8c-04f8-49ed-99b3-77c64df88726",
   "metadata": {},
   "outputs": [],
   "source": [
    "## 举个例子，我们写个一年级小学生注册的函数，需要传入name和gender两个参数：\n",
    "\n",
    "def enroll(name, gender):\n",
    "    print('name:', name)\n",
    "    print('gender:', gender)\n"
   ]
  },
  {
   "cell_type": "code",
   "execution_count": 46,
   "id": "ef73f781-b24a-4cab-8bd3-8ae0696bd71d",
   "metadata": {},
   "outputs": [
    {
     "name": "stdout",
     "output_type": "stream",
     "text": [
      "name: Sarah\n",
      "gender: F\n"
     ]
    }
   ],
   "source": [
    "## 这样，调用enroll()函数只需要传入两个参数\n",
    "enroll('Sarah', 'F')"
   ]
  },
  {
   "cell_type": "code",
   "execution_count": 47,
   "id": "599c8e4d-5b80-423d-b64c-f547300e4a79",
   "metadata": {},
   "outputs": [],
   "source": [
    "## 如果要继续传入年龄、城市等信息怎么办？这样会使得调用函数的复杂度大大增加。我们可以把年龄和城市设为默认参数：\n",
    "\n",
    "def enroll(name, gender, age=20, city='Ningbo'):\n",
    "    print('name:', name)\n",
    "    print('gender:', gender)\n",
    "    print('age:', age)\n",
    "    print('city:', city)\n"
   ]
  },
  {
   "cell_type": "code",
   "execution_count": 48,
   "id": "88f3ecd9-a69e-4906-a2ea-6bddcd32f293",
   "metadata": {},
   "outputs": [
    {
     "name": "stdout",
     "output_type": "stream",
     "text": [
      "name: Sarah\n",
      "gender: F\n",
      "age: 20\n",
      "city: Ningbo\n"
     ]
    }
   ],
   "source": [
    "enroll('Sarah', 'F')"
   ]
  },
  {
   "cell_type": "code",
   "execution_count": 49,
   "id": "d83a40ab-36d2-458c-bb1f-0b3a5d8263f7",
   "metadata": {},
   "outputs": [
    {
     "name": "stdout",
     "output_type": "stream",
     "text": [
      "name: Bob\n",
      "gender: M\n",
      "age: 7\n",
      "city: Ningbo\n"
     ]
    }
   ],
   "source": [
    "enroll('Bob', 'M', 7)"
   ]
  },
  {
   "cell_type": "code",
   "execution_count": 50,
   "id": "58073bfb-a79b-48bf-84e5-861818e26347",
   "metadata": {},
   "outputs": [
    {
     "name": "stdout",
     "output_type": "stream",
     "text": [
      "name: Adam\n",
      "gender: M\n",
      "age: 20\n",
      "city: Hangzhou\n"
     ]
    }
   ],
   "source": [
    "enroll('Adam', 'M', city='Hangzhou')"
   ]
  },
  {
   "cell_type": "code",
   "execution_count": 51,
   "id": "c728c05c-3910-4b1f-b571-6ac4bb537119",
   "metadata": {},
   "outputs": [
    {
     "name": "stdout",
     "output_type": "stream",
     "text": [
      "name: Adam\n",
      "gender: M\n",
      "age: 21\n",
      "city: Hangzhou\n"
     ]
    }
   ],
   "source": [
    "enroll('Adam', 'M', city='Hangzhou', age = 21 )"
   ]
  },
  {
   "cell_type": "markdown",
   "id": "a2157815-fc8d-483b-ba1b-18b7c175bb54",
   "metadata": {},
   "source": [
    "#### 可见，默认参数降低了函数调用的难度，而一旦需要更复杂的调用时，又可以传递更多的参数来实现。无论是简单调用还是复杂调用，函数只需要定义一个。\n",
    "\n",
    "#### 有多个默认参数时，调用的时候，既可以按顺序提供默认参数，比如调用`enroll('Bob', 'M', 7)`，意思是，除了name，gender这两个参数外，最后1个参数应用在参数`age`上，`city`参数由于没有提供，仍然使用默认值。\n",
    "\n",
    "#### 也可以不按顺序提供部分默认参数。当不按顺序提供部分默认参数时，需要把参数名写上。比如调用`enroll('Adam', 'M', city='Hangzhou')`，意思是，`city`参数用传进去的值，其他默认参数继续使用默认值。"
   ]
  },
  {
   "cell_type": "code",
   "execution_count": null,
   "id": "4b93a577-ed16-467a-9f11-5521a55c18c6",
   "metadata": {},
   "outputs": [],
   "source": []
  },
  {
   "cell_type": "code",
   "execution_count": null,
   "id": "1647683e",
   "metadata": {},
   "outputs": [],
   "source": []
  },
  {
   "cell_type": "markdown",
   "id": "405e1d12",
   "metadata": {},
   "source": [
    "\n",
    "#### 默认参数的可变对象陷阱\n",
    "默认参数在**函数定义时**就绑定一次，如果使用可变对象作为默认值，会**跨调用共享同一对象**：\n"
   ]
  },
  {
   "cell_type": "code",
   "execution_count": 2,
   "id": "8968f9a2",
   "metadata": {},
   "outputs": [
    {
     "name": "stdout",
     "output_type": "stream",
     "text": [
      "[1]\n",
      "[1, 2]\n"
     ]
    }
   ],
   "source": [
    "def append_bad(x, bucket=[]):\n",
    "    bucket.append(x)\n",
    "    return bucket\n",
    "\n",
    "print(append_bad(1))   # [1]\n",
    "print(append_bad(2))   # [1, 2]  # 意外累积"
   ]
  },
  {
   "cell_type": "markdown",
   "id": "88b7de6e",
   "metadata": {},
   "source": [
    "#### **定义默认参数要牢记一点：默认参数必须指向不变对象！**\n",
    "#### **正确写法：使用 `None` 作为哨兵，在函数体内创建新对象**"
   ]
  },
  {
   "cell_type": "code",
   "execution_count": 3,
   "id": "53f518de",
   "metadata": {},
   "outputs": [
    {
     "name": "stdout",
     "output_type": "stream",
     "text": [
      "[1]\n",
      "[2]\n"
     ]
    }
   ],
   "source": [
    "def append_good(x, bucket=None):\n",
    "    if bucket is None:\n",
    "        bucket = []\n",
    "    bucket.append(x)\n",
    "    return bucket\n",
    "\n",
    "print(append_good(1))  # [1]\n",
    "print(append_good(2))  # [2]"
   ]
  },
  {
   "cell_type": "markdown",
   "id": "7887f85f-7a83-4552-a44e-49a84e403180",
   "metadata": {},
   "source": [
    "### 可变参数\n",
    "\n",
    "在`Python`函数中，还可以定义可变参数。顾名思义，可变参数就是传入的参数个数是可变的，可以是1个、2个到任意个，还可以是0个。\n",
    "\n",
    "我们以数学题为例子，给定一组数字 $a，b，c, \\cdots$，请计算 $a^2 + b^2 + c^2 + \\cdots$。\n",
    "\n",
    "要定义出这个函数，我们必须确定输入的参数。由于参数个数不确定，我们首先想到可以把$a，b，c, \\cdots$作为一个`list`或`tuple`传进来，这样，函数可以定义如下：\n"
   ]
  },
  {
   "cell_type": "code",
   "execution_count": 52,
   "id": "e8d5ab5e-89cb-4a43-ae45-3ac78a67e09e",
   "metadata": {},
   "outputs": [],
   "source": [
    "def calc(numbers):\n",
    "    sum = 0\n",
    "    for n in numbers:\n",
    "        sum = sum + n * n\n",
    "    return sum"
   ]
  },
  {
   "cell_type": "code",
   "execution_count": 53,
   "id": "c36fa04c-7dba-488f-9112-41e17ad778c0",
   "metadata": {},
   "outputs": [
    {
     "data": {
      "text/plain": [
       "14"
      ]
     },
     "execution_count": 53,
     "metadata": {},
     "output_type": "execute_result"
    }
   ],
   "source": [
    "calc([1, 2, 3])"
   ]
  },
  {
   "cell_type": "code",
   "execution_count": 54,
   "id": "70c11bb5-c3f9-4ca9-a592-2488444c04ca",
   "metadata": {},
   "outputs": [
    {
     "data": {
      "text/plain": [
       "84"
      ]
     },
     "execution_count": 54,
     "metadata": {},
     "output_type": "execute_result"
    }
   ],
   "source": [
    "calc((1, 3, 5, 7))"
   ]
  },
  {
   "cell_type": "code",
   "execution_count": 55,
   "id": "7581d377-3a22-4f4b-af3b-3e760f4b1c6e",
   "metadata": {},
   "outputs": [
    {
     "ename": "TypeError",
     "evalue": "calc() takes 1 positional argument but 3 were given",
     "output_type": "error",
     "traceback": [
      "\u001b[31m---------------------------------------------------------------------------\u001b[39m",
      "\u001b[31mTypeError\u001b[39m                                 Traceback (most recent call last)",
      "\u001b[36mCell\u001b[39m\u001b[36m \u001b[39m\u001b[32mIn[55]\u001b[39m\u001b[32m, line 1\u001b[39m\n\u001b[32m----> \u001b[39m\u001b[32m1\u001b[39m \u001b[43mcalc\u001b[49m\u001b[43m(\u001b[49m\u001b[32;43m1\u001b[39;49m\u001b[43m,\u001b[49m\u001b[43m \u001b[49m\u001b[32;43m2\u001b[39;49m\u001b[43m,\u001b[49m\u001b[43m \u001b[49m\u001b[32;43m3\u001b[39;49m\u001b[43m)\u001b[49m\n",
      "\u001b[31mTypeError\u001b[39m: calc() takes 1 positional argument but 3 were given"
     ]
    }
   ],
   "source": [
    "calc(1, 2, 3)"
   ]
  },
  {
   "cell_type": "markdown",
   "id": "6280e9d2-dc58-44fa-8909-90b0b5811175",
   "metadata": {},
   "source": [
    "### 可变参数 `*args`"
   ]
  },
  {
   "cell_type": "markdown",
   "id": "52964414-c0e4-461c-b067-510d9f2e3b9b",
   "metadata": {},
   "source": [
    "#### 定义可变参数和定义一个`list`或`tuple`参数相比，仅仅在参数前面加了一个`*`号。在函数内部，参数`numbers`接收到的是一个`tuple`，因此，函数代码完全不变。但是，调用该函数时，可以传入任意个参数，包括0个参数："
   ]
  },
  {
   "cell_type": "code",
   "execution_count": 56,
   "id": "de8d3687-197f-4715-8792-86c0a3400f44",
   "metadata": {},
   "outputs": [],
   "source": [
    "def calc(*numbers):\n",
    "    sum = 0\n",
    "    for n in numbers:\n",
    "        sum = sum + n * n\n",
    "    return sum\n"
   ]
  },
  {
   "cell_type": "code",
   "execution_count": 57,
   "id": "a3a355c5-615a-426d-bb9b-316e26beb086",
   "metadata": {},
   "outputs": [
    {
     "data": {
      "text/plain": [
       "14"
      ]
     },
     "execution_count": 57,
     "metadata": {},
     "output_type": "execute_result"
    }
   ],
   "source": [
    "calc(1, 2, 3)"
   ]
  },
  {
   "cell_type": "code",
   "execution_count": 58,
   "id": "7ccea95a-8fb8-4548-bb2e-28cecfd113e3",
   "metadata": {},
   "outputs": [
    {
     "data": {
      "text/plain": [
       "0"
      ]
     },
     "execution_count": 58,
     "metadata": {},
     "output_type": "execute_result"
    }
   ],
   "source": [
    "calc()"
   ]
  },
  {
   "cell_type": "code",
   "execution_count": 61,
   "id": "60faaea9-1156-4149-a503-54566af75feb",
   "metadata": {},
   "outputs": [
    {
     "data": {
      "text/plain": [
       "14"
      ]
     },
     "execution_count": 61,
     "metadata": {},
     "output_type": "execute_result"
    }
   ],
   "source": [
    "nums = [1, 2, 3]\n",
    "calc(*nums)"
   ]
  },
  {
   "cell_type": "markdown",
   "id": "b38f47bc-6202-48e0-a297-227a8edd197e",
   "metadata": {},
   "source": [
    "#### `*nums`表示把`nums`这个`list`的所有元素作为可变参数传进去。这种写法相当有用，而且很常见。"
   ]
  },
  {
   "cell_type": "code",
   "execution_count": null,
   "id": "c2d3c826",
   "metadata": {},
   "outputs": [],
   "source": []
  },
  {
   "cell_type": "markdown",
   "id": "ce2c2e8e",
   "metadata": {},
   "source": [
    "### 1.3 关键字参数 `**kwargs`\n",
    "\n",
    "可变参数允许你传入0个或任意个参数，这些可变参数在函数调用时自动组装为一个`tuple`。而关键字参数允许你传入0个或任意个含参数名的参数，这些关键字参数在函数内部自动组装为一个`dict`。请看示例："
   ]
  },
  {
   "cell_type": "code",
   "execution_count": 65,
   "id": "39d0766a",
   "metadata": {},
   "outputs": [],
   "source": [
    "def person(name, age, **kw):\n",
    "    print('name:', name, 'age:', age, 'other:', kw)"
   ]
  },
  {
   "cell_type": "code",
   "execution_count": 67,
   "id": "eda14705-3ae5-4c90-b624-32ad57f9084e",
   "metadata": {},
   "outputs": [
    {
     "name": "stdout",
     "output_type": "stream",
     "text": [
      "name: Michael age: 30 other: {}\n"
     ]
    }
   ],
   "source": [
    "person('Michael', 30)"
   ]
  },
  {
   "cell_type": "markdown",
   "id": "033339d9-fd05-4943-99da-ecaa71292277",
   "metadata": {},
   "source": [
    "#### 函数person除了必选参数`name`和`age`外，还接受关键字参数`kw`。在调用该函数时，可以只传入必选参数："
   ]
  },
  {
   "cell_type": "code",
   "execution_count": 66,
   "id": "9253af41-9cfe-4729-8e23-49778b3acba9",
   "metadata": {},
   "outputs": [
    {
     "name": "stdout",
     "output_type": "stream",
     "text": [
      "name: Alice age: 20 other: {'city': 'Beijing'}\n",
      "None\n",
      "name: Bob age: 30 other: {'city': 'Shanghai'}\n",
      "None\n"
     ]
    }
   ],
   "source": [
    "print(person(\"Alice\", age=20, city=\"Beijing\"))\n",
    "d = {\"age\": 30, \"city\": \"Shanghai\"}\n",
    "print(person(\"Bob\", **d))  # 解包 dict"
   ]
  },
  {
   "cell_type": "markdown",
   "id": "d18e3adf-9a7b-46e1-8753-171989896c01",
   "metadata": {},
   "source": [
    "关键字参数有什么用？它可以扩展函数的功能。比如，在`person`函数里，我们保证能接收到`name`和`age`这两个参数，但是，如果调用者愿意提供更多的参数，我们也能收到。试想你正在做一个用户注册的功能，除了用户名和年龄是必填项外，其他都是可选项，利用关键字参数来定义这个函数就能满足注册的需求。\n",
    "\n",
    "和可变参数类似，也可以先组装出一个`dict`，然后，把该`dict`转换为关键字参数传进去："
   ]
  },
  {
   "cell_type": "code",
   "execution_count": 68,
   "id": "4d73e9ae-78e6-4ecd-8953-ae07e8e9b4a5",
   "metadata": {},
   "outputs": [
    {
     "name": "stdout",
     "output_type": "stream",
     "text": [
      "name: Jack age: 24 other: {'city': 'Beijing', 'job': 'Engineer'}\n"
     ]
    }
   ],
   "source": [
    "extra = {'city': 'Beijing', 'job': 'Engineer'}\n",
    "person('Jack', 24, city=extra['city'], job=extra['job'])"
   ]
  },
  {
   "cell_type": "markdown",
   "id": "7e1f52ef-e23c-474c-87e9-4a17de104b79",
   "metadata": {},
   "source": [
    "当然，上面复杂的调用可以用简化的写法："
   ]
  },
  {
   "cell_type": "code",
   "execution_count": 69,
   "id": "dadcf907-ac63-431a-8d3f-8c565071ef03",
   "metadata": {},
   "outputs": [
    {
     "name": "stdout",
     "output_type": "stream",
     "text": [
      "name: Jack age: 24 other: {'city': 'Beijing', 'job': 'Engineer'}\n"
     ]
    }
   ],
   "source": [
    "extra = {'city': 'Beijing', 'job': 'Engineer'}\n",
    "person('Jack', 24, **extra)"
   ]
  },
  {
   "cell_type": "markdown",
   "id": "2b4eddf2-81d1-4f82-8163-555242ad6ca9",
   "metadata": {},
   "source": [
    "`**extra`表示把`extra`这个`dict`的所有`key-value`用关键字参数传入到函数的`**kw`参数，`kw`将获得一个`dict`，注意`kw`获得的`dict`是`extra`的一份拷贝，对`kw`的改动不会影响到函数外的`extra`。"
   ]
  },
  {
   "cell_type": "markdown",
   "id": "7f47a941",
   "metadata": {},
   "source": [
    "### 1.4 命名关键字参数（keyword-only）\n",
    "\n",
    "对于关键字参数，函数的调用者可以传入任意不受限制的关键字参数。至于到底传入了哪些，就需要在函数内部通过`kw`检查。\n",
    "\n",
    "仍以`person()`函数为例，我们希望检查是否有`city`和`job`参数："
   ]
  },
  {
   "cell_type": "code",
   "execution_count": 70,
   "id": "9e9a0e0e-8768-4cac-86d2-1532aa43ab98",
   "metadata": {},
   "outputs": [],
   "source": [
    "def person(name, age, **kw):\n",
    "    if 'city' in kw:\n",
    "        # 有city参数\n",
    "        pass\n",
    "    if 'job' in kw:\n",
    "        # 有job参数\n",
    "        pass\n",
    "    print('name:', name, 'age:', age, 'other:', kw)\n"
   ]
  },
  {
   "cell_type": "code",
   "execution_count": 72,
   "id": "779ab329-92fa-42a9-b3e0-dd9d7de10fb8",
   "metadata": {},
   "outputs": [
    {
     "name": "stdout",
     "output_type": "stream",
     "text": [
      "name: Jack age: 24 other: {'city': 'Ningbo', 'addr': 'Ningbo University', 'zipcode': 123456}\n"
     ]
    }
   ],
   "source": [
    "person('Jack', 24, city='Ningbo', addr='Ningbo University', zipcode=123456)"
   ]
  },
  {
   "cell_type": "code",
   "execution_count": 6,
   "id": "d7948020",
   "metadata": {},
   "outputs": [
    {
     "name": "stdout",
     "output_type": "stream",
     "text": [
      "host=localhost, port=3306, debug=False\n",
      "host=0.0.0.0, port=8000, debug=True\n"
     ]
    }
   ],
   "source": [
    "def config(*, host, port=3306, debug=False):\n",
    "    print(f\"host={host}, port={port}, debug={debug}\")\n",
    "\n",
    "config(host=\"localhost\")\n",
    "config(host=\"0.0.0.0\", port=8000, debug=True)"
   ]
  },
  {
   "cell_type": "markdown",
   "id": "a570209e",
   "metadata": {},
   "source": [
    "### 1.5 参数顺序与组合\n",
    "\n",
    "在`Python`中定义函数，可以用必选参数、默认参数、可变参数、关键字参数和命名关键字参数，这5种参数都可以组合使用。但是请注意，参数定义的顺序必须是：\n",
    "\n",
    "####  必选参数-->默认参数-->可变参数-->命名关键字参数-->关键字参数"
   ]
  },
  {
   "cell_type": "code",
   "execution_count": 73,
   "id": "37b2198e",
   "metadata": {},
   "outputs": [],
   "source": [
    "def f1(a, b, c=0, *args, **kw):\n",
    "    print('a=', a, 'b=', b, 'c=', c, 'args=', args, 'kw=', kw)\n",
    "\n",
    "def f2(a, b, c=0, *, d, **kw):\n",
    "    print('a=', a, 'b=', b, 'c=', c, 'd=', d, 'kw=', kw)\n"
   ]
  },
  {
   "cell_type": "code",
   "execution_count": 75,
   "id": "8e0b58e5-9031-432c-a07f-d90b93da57a0",
   "metadata": {},
   "outputs": [
    {
     "name": "stdout",
     "output_type": "stream",
     "text": [
      "a= 1 b= 2 c= 0 args= () kw= {}\n",
      "a= 1 b= 2 c= 3 args= (4, 5) kw= {'x': 99}\n"
     ]
    }
   ],
   "source": [
    "f1(1, 2)\n",
    "f1(1, 2, 3, 4, 5, x=99)"
   ]
  },
  {
   "cell_type": "code",
   "execution_count": 76,
   "id": "49a3b950-8c95-4200-a284-9c7a86faee50",
   "metadata": {},
   "outputs": [
    {
     "name": "stdout",
     "output_type": "stream",
     "text": [
      "a= 1 b= 2 c= 0 d= 88 kw= {}\n",
      "a= 1 b= 2 c= 3 d= 88 kw= {'ext': True}\n"
     ]
    }
   ],
   "source": [
    "f2(1, 2, d=88)\n",
    "f2(1, 2, 3, d=88, ext=True)"
   ]
  },
  {
   "cell_type": "markdown",
   "id": "badc0a20-3d8f-4381-a4a7-e420f57c9778",
   "metadata": {},
   "source": [
    "最神奇的是通过一个`tuple`和`dict`，你也可以调用上述函数："
   ]
  },
  {
   "cell_type": "code",
   "execution_count": 77,
   "id": "93d95775-ee52-4c91-8000-88687dbe1f1e",
   "metadata": {},
   "outputs": [
    {
     "name": "stdout",
     "output_type": "stream",
     "text": [
      "a= 1 b= 2 c= 3 args= (4,) kw= {'d': 99, 'x': '#'}\n"
     ]
    }
   ],
   "source": [
    "args = (1, 2, 3, 4)\n",
    "kw = {'d': 99, 'x': '#'}\n",
    "f1(*args, **kw)"
   ]
  },
  {
   "cell_type": "code",
   "execution_count": 78,
   "id": "d87261d7-2ec4-4ba7-9774-a0d06026c75b",
   "metadata": {},
   "outputs": [
    {
     "name": "stdout",
     "output_type": "stream",
     "text": [
      "a= 1 b= 2 c= 3 d= 88 kw= {'x': '#'}\n"
     ]
    }
   ],
   "source": [
    "args = (1, 2, 3)\n",
    "kw = {'d': 88, 'x': '#'}\n",
    "f2(*args, **kw)"
   ]
  },
  {
   "cell_type": "markdown",
   "id": "6fbcd8de-c2e7-410b-b6ac-78a95447e5f8",
   "metadata": {},
   "source": [
    "所以，对于任意函数，都可以通过类似`func(*args, **kw)`的形式调用它，无论它的参数是如何定义的。\n",
    "\n",
    "\n",
    "#### 虽然可以组合多达5种参数，但不要同时使用太多的组合，否则函数接口的可理解性很差。\n"
   ]
  },
  {
   "cell_type": "code",
   "execution_count": null,
   "id": "a0b5e318-96f6-41a1-8abe-9b7d5f6c1b45",
   "metadata": {},
   "outputs": [],
   "source": []
  },
  {
   "cell_type": "code",
   "execution_count": null,
   "id": "4313b980-37dd-4ee4-8c26-b2c418f6a5a1",
   "metadata": {},
   "outputs": [],
   "source": []
  },
  {
   "cell_type": "code",
   "execution_count": null,
   "id": "a13c3dbc",
   "metadata": {},
   "outputs": [],
   "source": []
  },
  {
   "cell_type": "markdown",
   "id": "ab11a0f0",
   "metadata": {},
   "source": [
    "## 2. 常见错误与类型检查"
   ]
  },
  {
   "cell_type": "code",
   "execution_count": 8,
   "id": "3e528779",
   "metadata": {},
   "outputs": [
    {
     "name": "stdout",
     "output_type": "stream",
     "text": [
      "TypeError abs() takes exactly one argument (2 given)\n",
      "TypeError bad operand type\n"
     ]
    }
   ],
   "source": [
    "# 参数个数错误\n",
    "try:\n",
    "    abs(1, 2)\n",
    "except Exception as e:\n",
    "    print(type(e).__name__, e)\n",
    "\n",
    "# 类型不当\n",
    "def my_abs(x):\n",
    "    if not isinstance(x, (int, float)):\n",
    "        raise TypeError(\"bad operand type\")\n",
    "    return x if x >= 0 else -x\n",
    "\n",
    "try:\n",
    "    my_abs(\"A\")\n",
    "except Exception as e:\n",
    "    print(type(e).__name__, e)"
   ]
  },
  {
   "cell_type": "markdown",
   "id": "e3c347af",
   "metadata": {},
   "source": [
    "## 3. 实战示例"
   ]
  },
  {
   "cell_type": "code",
   "execution_count": null,
   "id": "4a557207",
   "metadata": {},
   "outputs": [],
   "source": []
  },
  {
   "cell_type": "markdown",
   "id": "d67c3b47",
   "metadata": {},
   "source": [
    "\n",
    "### 练习\n",
    "**参数组合**：写一个函数允许计算两个数的乘积，请稍加改造，变成可接收一个或多个数并计算乘积："
   ]
  },
  {
   "cell_type": "code",
   "execution_count": 82,
   "id": "dc11e912-d04c-4894-af18-271dc224e254",
   "metadata": {},
   "outputs": [
    {
     "ename": "TypeError",
     "evalue": "mul() missing 1 required positional argument: 'y'",
     "output_type": "error",
     "traceback": [
      "\u001b[31m---------------------------------------------------------------------------\u001b[39m",
      "\u001b[31mTypeError\u001b[39m                                 Traceback (most recent call last)",
      "\u001b[36mCell\u001b[39m\u001b[36m \u001b[39m\u001b[32mIn[82]\u001b[39m\u001b[32m, line 6\u001b[39m\n\u001b[32m      2\u001b[39m     \u001b[38;5;28;01mreturn\u001b[39;00m x * y\n\u001b[32m      5\u001b[39m \u001b[38;5;66;03m# 测试\u001b[39;00m\n\u001b[32m----> \u001b[39m\u001b[32m6\u001b[39m \u001b[38;5;28mprint\u001b[39m(\u001b[33m'\u001b[39m\u001b[33mmul(5) =\u001b[39m\u001b[33m'\u001b[39m, \u001b[43mmul\u001b[49m\u001b[43m(\u001b[49m\u001b[32;43m5\u001b[39;49m\u001b[43m)\u001b[49m)\n\u001b[32m      7\u001b[39m \u001b[38;5;28mprint\u001b[39m(\u001b[33m'\u001b[39m\u001b[33mmul(5, 6) =\u001b[39m\u001b[33m'\u001b[39m, mul(\u001b[32m5\u001b[39m, \u001b[32m6\u001b[39m))\n\u001b[32m      8\u001b[39m \u001b[38;5;28mprint\u001b[39m(\u001b[33m'\u001b[39m\u001b[33mmul(5, 6, 7) =\u001b[39m\u001b[33m'\u001b[39m, mul(\u001b[32m5\u001b[39m, \u001b[32m6\u001b[39m, \u001b[32m7\u001b[39m))\n",
      "\u001b[31mTypeError\u001b[39m: mul() missing 1 required positional argument: 'y'"
     ]
    }
   ],
   "source": [
    "def mul(x, y):\n",
    "    return x * y\n",
    "\n",
    "\n",
    "# 测试\n",
    "print('mul(5) =', mul(5))\n",
    "print('mul(5, 6) =', mul(5, 6))\n",
    "print('mul(5, 6, 7) =', mul(5, 6, 7))\n",
    "print('mul(5, 6, 7, 9) =', mul(5, 6, 7, 9))\n",
    "if mul(5) != 5:\n",
    "    print('mul(5)测试失败!')\n",
    "elif mul(5, 6) != 30:\n",
    "    print('mul(5, 6)测试失败!')\n",
    "elif mul(5, 6, 7) != 210:\n",
    "    print('mul(5, 6, 7)测试失败!')\n",
    "elif mul(5, 6, 7, 9) != 1890:\n",
    "    print('mul(5, 6, 7, 9)测试失败!')\n",
    "else:\n",
    "    try:\n",
    "        mul()\n",
    "        print('mul()测试失败!')\n",
    "    except TypeError:\n",
    "        print('测试成功!')\n"
   ]
  },
  {
   "cell_type": "markdown",
   "id": "cb06dcdf-212a-4ddb-b431-ce1bec6dd59a",
   "metadata": {},
   "source": [
    "## 递归函数\n",
    "\n",
    "在函数内部，可以调用其他函数。如果一个函数在内部调用自身本身，这个函数就是递归函数。\n",
    "\n",
    "$$\n",
    "n! = 1 \\times 2 \\times 3 \\times \\cdots \\times n\n",
    "$$"
   ]
  },
  {
   "cell_type": "code",
   "execution_count": 83,
   "id": "c57f40e7-c4b6-490c-9b6b-73acc3468cfd",
   "metadata": {},
   "outputs": [],
   "source": [
    "def fact(n):\n",
    "    if n==1:\n",
    "        return 1\n",
    "    return n * fact(n - 1)"
   ]
  },
  {
   "cell_type": "code",
   "execution_count": 86,
   "id": "41138834-beff-445c-a3c6-e4cffe052a1b",
   "metadata": {},
   "outputs": [
    {
     "data": {
      "text/plain": [
       "120"
      ]
     },
     "execution_count": 86,
     "metadata": {},
     "output_type": "execute_result"
    }
   ],
   "source": [
    "fact(5)"
   ]
  },
  {
   "cell_type": "markdown",
   "id": "ca4fdd09-ae34-4d5c-888a-c8a1fa781d5d",
   "metadata": {},
   "source": [
    "如果我们计算fact(5)，可以根据函数定义看到计算过程如下：\n",
    "\n",
    "```\n",
    "=> fact(5)\n",
    "=> 5 * fact(4)\n",
    "=> 5 * (4 * fact(3))\n",
    "=> 5 * (4 * (3 * fact(2)))\n",
    "=> 5 * (4 * (3 * (2 * fact(1))))\n",
    "=> 5 * (4 * (3 * (2 * 1)))\n",
    "=> 5 * (4 * (3 * 2))\n",
    "=> 5 * (4 * 6)\n",
    "=> 5 * 24\n",
    "=> 120\n",
    "```\n",
    "\n",
    "递归函数的优点是定义简单，逻辑清晰。理论上，所有的递归函数都可以写成循环的方式，但循环的逻辑不如递归清晰。"
   ]
  },
  {
   "cell_type": "markdown",
   "id": "3a9f5e80-fc44-4b40-88b9-2f196e441f44",
   "metadata": {},
   "source": [
    "### 练习，写一个函数来计算斐波那契数列（Fibonacci Sequence）\n",
    "\n",
    "$$\n",
    "F_0 = 0, \\quad F_1 = 1,\n",
    "$$\n",
    "$$\n",
    "F_{n} = F_{n-1} + F_{n-2}, \\quad n \\geq 2.\n",
    "$$"
   ]
  },
  {
   "cell_type": "code",
   "execution_count": 88,
   "id": "569642f7-5c82-4935-9a79-10d5e5d72568",
   "metadata": {},
   "outputs": [],
   "source": [
    "def fibonacci(n):\n",
    "    pass"
   ]
  },
  {
   "cell_type": "code",
   "execution_count": null,
   "id": "8eccc24b-bb04-4bb4-bdb5-e8ce043af559",
   "metadata": {},
   "outputs": [],
   "source": []
  }
 ],
 "metadata": {
  "kernelspec": {
   "display_name": "Python 3 (ipykernel)",
   "language": "python",
   "name": "python3"
  },
  "language_info": {
   "codemirror_mode": {
    "name": "ipython",
    "version": 3
   },
   "file_extension": ".py",
   "mimetype": "text/x-python",
   "name": "python",
   "nbconvert_exporter": "python",
   "pygments_lexer": "ipython3",
   "version": "3.12.2"
  }
 },
 "nbformat": 4,
 "nbformat_minor": 5
}
