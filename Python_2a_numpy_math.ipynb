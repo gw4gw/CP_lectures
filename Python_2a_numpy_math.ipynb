{
 "cells": [
  {
   "cell_type": "markdown",
   "id": "c644af42-4907-4a75-b8a4-53d845f4d02a",
   "metadata": {},
   "source": [
    "# numpy\n",
    "\n",
    "- NumPy（Numerical Python）是 Python 生态中最重要的科学计算库之一。  \n",
    "- 它提供了高效的 **多维数组对象（ndarray）**，以及丰富的数值运算函数。  \n",
    "- NumPy 是许多科学与数据分析库的基础（如 Pandas、SciPy、scikit-learn、TensorFlow）。  \n",
    "- 在数值计算、信号处理、机器学习和数据可视化中，NumPy 扮演着“底层引擎”的角色。  \n",
    "\n",
    "## 与 Python 内置 list 的比较\n",
    "### 1. 存储方式\n",
    "- Python 的 `list` 是“对象数组”，每个元素都是一个独立的对象，存储分散，效率低。  \n",
    "- NumPy 的 `ndarray` 是“连续内存块”，所有元素类型相同，存储更紧凑。  \n",
    "\n",
    "### 2. 运算速度\n",
    "- `list` 在做逐元素运算时必须写显式循环，效率低；  \n",
    "- `ndarray` 使用底层 C/Fortran 实现的向量化操作，效率高。  \n",
    "\n",
    "### 3. 向量化计算\n",
    "- `list`：`[x**2 for x in mylist]`  \n",
    "- `ndarray`：`arr**2`（无需循环，简洁高效）。  \n",
    "\n",
    "---"
   ]
  },
  {
   "cell_type": "code",
   "execution_count": 158,
   "id": "25a192bf-d207-4392-a8a8-b97cfd2563b0",
   "metadata": {},
   "outputs": [],
   "source": [
    "import numpy as np"
   ]
  },
  {
   "cell_type": "code",
   "execution_count": 159,
   "id": "f3793cbc-69ba-4f71-9f04-2de4afb9d9e1",
   "metadata": {},
   "outputs": [],
   "source": [
    "import time ## import 内置的时间函数库"
   ]
  },
  {
   "cell_type": "code",
   "execution_count": 160,
   "id": "43d55648-fcfa-4c05-9cab-9b4204132962",
   "metadata": {},
   "outputs": [
    {
     "name": "stdout",
     "output_type": "stream",
     "text": [
      "list 计算耗时: 0.02834296226501465\n"
     ]
    }
   ],
   "source": [
    "# Python list 运算\n",
    "L = list(range(1_000_000))\n",
    "start = time.time()\n",
    "L2 = [x**2 for x in L]\n",
    "print(\"list 计算耗时:\", time.time() - start)"
   ]
  },
  {
   "cell_type": "code",
   "execution_count": 161,
   "id": "e52be29d-a573-4b33-b249-6e67f14f737c",
   "metadata": {},
   "outputs": [
    {
     "name": "stdout",
     "output_type": "stream",
     "text": [
      "numpy 计算耗时: 0.0035049915313720703\n"
     ]
    }
   ],
   "source": [
    "\n",
    "# NumPy array 运算\n",
    "A = np.arange(1_000_000)\n",
    "start = time.time()\n",
    "A2 = A**2\n",
    "print(\"numpy 计算耗时:\", time.time() - start)\n"
   ]
  },
  {
   "cell_type": "markdown",
   "id": "8c1f8b28-34a4-44fe-adb1-6096e789d383",
   "metadata": {},
   "source": [
    "### NumPy 与 Python list 的对比\n",
    "\n",
    "| 特性            | Python list                           | NumPy ndarray                            |\n",
    "|-----------------|---------------------------------------|------------------------------------------|\n",
    "| **存储方式**    | 元素是对象指针，分散存储              | 连续内存块，元素类型统一，存储紧凑       |\n",
    "| **数据类型**    | 可混合不同类型（int, float, str 等） | 必须相同类型（可指定 dtype，如 float32） |\n",
    "| **运算方式**    | 需要显式循环（如列表推导式）          | 向量化操作，直接对数组整体运算           |\n",
    "| **运算效率**    | 纯 Python，效率较低                   | 基于 C/Fortran 实现，效率高              |\n",
    "| **功能扩展**    | 仅支持基本操作                        | 丰富的科学计算函数库（线性代数、FFT 等） |\n",
    "| **内存占用**    | 较大（存储指针和对象开销）            | 较小（连续存储，内存紧凑）               |\n",
    "| **应用场景**    | 通用容器，适合小规模数据存储与操作    | 科学计算、数据分析、机器学习等大规模计算 |\n"
   ]
  },
  {
   "cell_type": "markdown",
   "id": "efe81cec-6350-44e5-8f14-03f370ca2d0a",
   "metadata": {},
   "source": [
    "### Python 中的 `import ... as ...` 用法\n",
    "\n",
    "#### 1. 基本逻辑\n",
    "\n",
    "- `import 模块名`：正常导入模块。  \n",
    "- `import 模块名 as 别名`：给模块起一个别名，在当前代码作用域中使用该别名来调用模块。  \n",
    "- **目的**：简化书写、避免冲突、提高可读性。\n",
    "\n",
    "#### 2. 使用场景 1：简化调用\n",
    "\n",
    "有些模块名较长，起别名后能让代码更简洁。\n",
    "\n",
    "常见约定：\n",
    "- `numpy → np`\n",
    "- `pandas → pd`\n",
    "- `matplotlib.pyplot → plt`\n",
    "\n",
    "#### 3. 使用场景 2：避免命名冲突\n",
    "\n",
    "不同模块可能提供相同的函数名（如 `mean`），通过别名可以区分。\n"
   ]
  },
  {
   "cell_type": "code",
   "execution_count": 163,
   "id": "a4fdc192-79c4-4500-84da-b1800ebce131",
   "metadata": {},
   "outputs": [
    {
     "name": "stdout",
     "output_type": "stream",
     "text": [
      "4.0\n"
     ]
    }
   ],
   "source": [
    "import math as m\n",
    "\n",
    "print(m.sqrt(16))  # 使用别名 m 调用 sqrt"
   ]
  },
  {
   "cell_type": "markdown",
   "id": "afe8583c-59d2-470e-b6a2-8372be572e46",
   "metadata": {},
   "source": []
  },
  {
   "cell_type": "code",
   "execution_count": 164,
   "id": "7701bbbc-911b-44ce-937b-36b145156b80",
   "metadata": {},
   "outputs": [
    {
     "name": "stdout",
     "output_type": "stream",
     "text": [
      "NumPy 数组: [1 2 3]\n",
      "Pandas 数据框:\n",
      "    A  B\n",
      "0  1  3\n",
      "1  2  4\n"
     ]
    }
   ],
   "source": [
    "import numpy as np\n",
    "import pandas as pd\n",
    "\n",
    "a = np.array([1, 2, 3])\n",
    "df = pd.DataFrame({'A': [1,2], 'B':[3,4]})\n",
    "\n",
    "print(\"NumPy 数组:\", a)\n",
    "print(\"Pandas 数据框:\\n\", df)\n"
   ]
  },
  {
   "cell_type": "code",
   "execution_count": 7,
   "id": "7146e81f-d5c5-4546-b2af-ffde67b92ee3",
   "metadata": {},
   "outputs": [
    {
     "name": "stdout",
     "output_type": "stream",
     "text": [
      "statistics.mean: 2\n",
      "numpy.mean: 2.0\n"
     ]
    }
   ],
   "source": [
    "import statistics as stat\n",
    "import numpy as np\n",
    "\n",
    "print(\"statistics.mean:\", stat.mean([1,2,3]))\n",
    "print(\"numpy.mean:\", np.mean([1,2,3]))"
   ]
  },
  {
   "cell_type": "markdown",
   "id": "8dffb0d5-37ad-402d-acfa-f8d7323f86a3",
   "metadata": {},
   "source": [
    "### Python 中的 `from ... import ...` 用法讲义\n",
    "\n",
    "包括基本语法、起别名、导入多个成员，以及为什么不要用 `*`。\n",
    "\n",
    "#### 1. 基本语法\n",
    "\n",
    "语法：\n",
    "```python\n",
    "from 模块名 import 成员名\n",
    "```"
   ]
  },
  {
   "cell_type": "code",
   "execution_count": 8,
   "id": "ada0d66e-f0a8-4c85-8d5c-a76a5a76d5f3",
   "metadata": {},
   "outputs": [
    {
     "name": "stdout",
     "output_type": "stream",
     "text": [
      "4.0\n",
      "3.141592653589793\n"
     ]
    }
   ],
   "source": [
    "from math import sqrt, pi\n",
    "\n",
    "print(sqrt(16))   # 4.0\n",
    "print(pi)         # 3.141592653589793"
   ]
  },
  {
   "cell_type": "markdown",
   "id": "3a5ca91f-a670-4868-9c2b-01dc96a88551",
   "metadata": {},
   "source": [
    "#### 2. 导入多个成员: 可以在一行里导入多个，也可以分多行写："
   ]
  },
  {
   "cell_type": "code",
   "execution_count": 11,
   "id": "98725897-1d1f-418f-a713-6385c5e998ea",
   "metadata": {},
   "outputs": [
    {
     "name": "stdout",
     "output_type": "stream",
     "text": [
      "0.0 1.0 0.0\n",
      "2.718281828459045 2.302585092994046\n"
     ]
    }
   ],
   "source": [
    "from math import sin, cos, tan\n",
    "\n",
    "print(sin(0), cos(0), tan(0))\n",
    "\n",
    "# 或者分行导入\n",
    "from math import (\n",
    "    exp,\n",
    "    log,\n",
    ")\n",
    "print(exp(1), log(10))"
   ]
  },
  {
   "cell_type": "markdown",
   "id": "4b930309-88aa-4fe9-ace7-c20f3ff0498e",
   "metadata": {},
   "source": [
    "#### 3. 起别名: 可以为导入的成员起别名，简化书写或避免冲突。"
   ]
  },
  {
   "cell_type": "code",
   "execution_count": 9,
   "id": "16445030-1245-462d-8122-6ff82ce52baa",
   "metadata": {},
   "outputs": [
    {
     "name": "stdout",
     "output_type": "stream",
     "text": [
      "5.0\n"
     ]
    }
   ],
   "source": [
    "from math import sqrt as s\n",
    "\n",
    "print(s(25))  # 5.0"
   ]
  },
  {
   "cell_type": "code",
   "execution_count": 12,
   "id": "debd6ee3-c693-4b58-b5aa-24bd7b20594d",
   "metadata": {},
   "outputs": [
    {
     "name": "stdout",
     "output_type": "stream",
     "text": [
      "0.0 1.0 0.0\n"
     ]
    }
   ],
   "source": [
    "from math import sin as Sin\n",
    "from math import cos as Cos\n",
    "from math import tan as Tan\n",
    "\n",
    "print(Sin(0), Cos(0), Tan(0))"
   ]
  },
  {
   "cell_type": "markdown",
   "id": "87025f87-ac4e-40bc-ba74-c916de48e6c2",
   "metadata": {},
   "source": [
    "#### 4. 强烈不推荐的用法!!!!\n",
    "\n",
    "```python\n",
    "from math import *\n",
    "```\n",
    "***问题***：\n",
    "\n",
    "- ***容易覆盖已有变量或函数名***；\n",
    "\n",
    "- ***可读性差，别人看不出某个名字来自哪里***；\n",
    "\n",
    "- ***大型项目中非常危险!!!***\n",
    "\n",
    "\n",
    "#### 5. 使用场景\n",
    "\n",
    "- 当只需要少量函数时，用 `from ... import ...` 更简洁；  \n",
    "- 当需要很多功能时，推荐 `import 模块` 或 `import 模块 as 别名`；  \n",
    "- **避免使用 `*` 导入**，保持代码清晰可读。\n"
   ]
  },
  {
   "cell_type": "markdown",
   "id": "7cd6303e-179e-487d-860b-c2311e0e514a",
   "metadata": {},
   "source": [
    "---"
   ]
  },
  {
   "cell_type": "markdown",
   "id": "5ba058cb-15ec-4eec-8cdc-8f9dd07c7194",
   "metadata": {},
   "source": [
    "## ndarray 基础\n",
    "\n",
    "NumPy 的核心数据结构是 **`ndarray`（N-dimensional array）**，它是一个多维数组对象，所有元素类型相同，存储在连续的内存块中。相比 Python 内置的 `list`，`ndarray` 更高效，适合大规模数值计算。\n",
    "\n",
    "### 1. 创建数组\n",
    "常见方式：\n",
    "- `np.array()`：由 Python 列表或元组生成；\n",
    "- `np.zeros()` / `np.ones()`：生成全 0 或全 1 数组；\n",
    "- `np.arange()`：等差数列；\n",
    "- `np.linspace()`：指定范围内等间隔点。\n",
    "- `np.concatenate()`: 合并数据"
   ]
  },
  {
   "cell_type": "code",
   "execution_count": 18,
   "id": "cf7819d9-9633-4245-a34c-873294412f5a",
   "metadata": {},
   "outputs": [],
   "source": [
    "import numpy as np ## np 是最常见的numpy的缩写"
   ]
  },
  {
   "cell_type": "code",
   "execution_count": 19,
   "id": "6cc139a0-4d13-4cf2-88a9-5ae85f572201",
   "metadata": {},
   "outputs": [
    {
     "name": "stdout",
     "output_type": "stream",
     "text": [
      "a: [1 2 3]\n"
     ]
    }
   ],
   "source": [
    "a = np.array([1, 2, 3])\n",
    "print(\"a:\", a)"
   ]
  },
  {
   "cell_type": "code",
   "execution_count": 14,
   "id": "9c116a01-74a3-45a7-b120-06ac96160967",
   "metadata": {},
   "outputs": [
    {
     "name": "stdout",
     "output_type": "stream",
     "text": [
      "zeros:\n",
      " [[0. 0. 0.]\n",
      " [0. 0. 0.]]\n"
     ]
    }
   ],
   "source": [
    "zeros = np.zeros((2, 3))\n",
    "print(\"zeros:\\n\", zeros)\n"
   ]
  },
  {
   "cell_type": "code",
   "execution_count": 15,
   "id": "8c82d2ee-b8b4-4bdb-a96a-8755ad924f6d",
   "metadata": {},
   "outputs": [
    {
     "name": "stdout",
     "output_type": "stream",
     "text": [
      "ones:\n",
      " [[1. 1.]\n",
      " [1. 1.]]\n"
     ]
    }
   ],
   "source": [
    "ones = np.ones((2, 2))\n",
    "print(\"ones:\\n\", ones)"
   ]
  },
  {
   "cell_type": "code",
   "execution_count": 16,
   "id": "c68d6f34-4534-44a6-925b-0aab87597746",
   "metadata": {},
   "outputs": [
    {
     "name": "stdout",
     "output_type": "stream",
     "text": [
      "arange: [0 2 4 6 8]\n"
     ]
    }
   ],
   "source": [
    "arange = np.arange(0, 10, 2)\n",
    "print(\"arange:\", arange)"
   ]
  },
  {
   "cell_type": "code",
   "execution_count": 17,
   "id": "eeeec001-5621-4e13-a8fd-45ee71e80ebd",
   "metadata": {},
   "outputs": [
    {
     "name": "stdout",
     "output_type": "stream",
     "text": [
      "linspace: [0.   0.25 0.5  0.75 1.  ]\n"
     ]
    }
   ],
   "source": [
    "linspace = np.linspace(0, 1, 5)\n",
    "print(\"linspace:\", linspace)"
   ]
  },
  {
   "cell_type": "code",
   "execution_count": null,
   "id": "b749c398-5546-43ca-aa9d-d4d3019bec6d",
   "metadata": {},
   "outputs": [],
   "source": []
  },
  {
   "cell_type": "markdown",
   "id": "c7bc5491-e3f1-4b2b-8180-99068d5a80a9",
   "metadata": {},
   "source": [
    "---\n",
    "### 2. 查看数组属性\n",
    "常见属性：\n",
    "- `ndarray.shape`：数组形状（各维度大小）；\n",
    "- `ndarray.ndim`：数组维度数；\n",
    "- `ndarray.dtype`：数组元素的数据类型；\n",
    "- `ndarray.size`：数组元素总数。\n"
   ]
  },
  {
   "cell_type": "code",
   "execution_count": 21,
   "id": "192a688a-5abc-49b1-9bfe-e595efdc0eda",
   "metadata": {},
   "outputs": [
    {
     "name": "stdout",
     "output_type": "stream",
     "text": [
      "数组:\n",
      " [[ 0  1  2  3]\n",
      " [ 4  5  6  7]\n",
      " [ 8  9 10 11]]\n"
     ]
    }
   ],
   "source": [
    "arr = np.arange(12).reshape(3, 4)\n",
    "\n",
    "print(\"数组:\\n\", arr)"
   ]
  },
  {
   "cell_type": "code",
   "execution_count": 22,
   "id": "87da82cb-7145-4230-bf50-eb8dd1744b25",
   "metadata": {},
   "outputs": [
    {
     "name": "stdout",
     "output_type": "stream",
     "text": [
      "shape: (3, 4)\n"
     ]
    }
   ],
   "source": [
    "print(\"shape:\", arr.shape)"
   ]
  },
  {
   "cell_type": "code",
   "execution_count": 23,
   "id": "c1820895-986e-4c13-beb8-259c713cbd4b",
   "metadata": {},
   "outputs": [
    {
     "name": "stdout",
     "output_type": "stream",
     "text": [
      "ndim: 2\n"
     ]
    }
   ],
   "source": [
    "print(\"ndim:\", arr.ndim)"
   ]
  },
  {
   "cell_type": "code",
   "execution_count": 24,
   "id": "ac8abcf2-7fd7-40e2-8b02-35bfcefbbe4f",
   "metadata": {},
   "outputs": [
    {
     "name": "stdout",
     "output_type": "stream",
     "text": [
      "dtype: int64\n"
     ]
    }
   ],
   "source": [
    "print(\"dtype:\", arr.dtype)"
   ]
  },
  {
   "cell_type": "code",
   "execution_count": 25,
   "id": "2b3ef1cf-5732-4e8f-8795-ef635ec1df13",
   "metadata": {},
   "outputs": [
    {
     "name": "stdout",
     "output_type": "stream",
     "text": [
      "size: 12\n"
     ]
    }
   ],
   "source": [
    "print(\"size:\", arr.size)"
   ]
  },
  {
   "cell_type": "markdown",
   "id": "994f14ac-c904-4fe9-95cc-2f9be2419d79",
   "metadata": {},
   "source": [
    "### 数组拼接与追加：`np.concatenate` 与 `np.append`\n",
    "\n",
    "在科学计算和数据处理中，经常需要将多个数组拼接在一起，或者向已有数组中追加元素。  \n",
    "NumPy 提供了两个常用函数来实现：`np.concatenate` 和 `np.append`。\n",
    "\n",
    "| 特性       | `np.concatenate`                  | `np.append`                          |\n",
    "|------------|-----------------------------------|--------------------------------------|\n",
    "| 功能       | 拼接多个数组                      | 向数组追加元素                       |\n",
    "| 参数要求   | 必须传入序列 `(a1, a2, …)`        | 直接传单个数组或标量即可             |\n",
    "| 默认行为   | 默认 `axis=0`，必须保证维度匹配    | 默认 `axis=None`，会展平再追加        |\n",
    "| 适用场景   | 多个数组拼接，要求严格            | 快速追加数据，尤其是一维或小规模数组 |\n",
    "\n",
    "- 如果需要 拼接多个数组（特别是多维情况下），推荐使用 np.concatenate；\n",
    "\n",
    "- 如果只是 向数组末尾追加数据，np.append 更加简洁；\n",
    "\n",
    "- 注意 np.append 默认会展平数组，使用时要明确指定 axis 避免出错。\n",
    "\n",
    "#### `np.concatenate`\n",
    "\n",
    "**功能**  \n",
    "- 沿指定轴将多个数组拼接在一起；  \n",
    "- 要求在非拼接方向上的维度必须相同。  \n",
    "\n",
    "**语法**  \n",
    "```python\n",
    "np.concatenate((a1, a2, ...), axis=0)\n",
    "```"
   ]
  },
  {
   "cell_type": "code",
   "execution_count": 84,
   "id": "ff31fe6d-4c2c-48bd-8c04-3c2c1fbfeab3",
   "metadata": {},
   "outputs": [
    {
     "name": "stdout",
     "output_type": "stream",
     "text": [
      "[[1 2]\n",
      " [3 4]\n",
      " [5 6]]\n"
     ]
    }
   ],
   "source": [
    "a = np.array([[1, 2], [3, 4]])\n",
    "b = np.array([[5, 6]])\n",
    "\n",
    "# 沿行方向拼接\n",
    "print(np.concatenate((a, b), axis=0))\n"
   ]
  },
  {
   "cell_type": "code",
   "execution_count": 85,
   "id": "832b9313-2d8f-4fa7-a9ba-adc409fe8892",
   "metadata": {},
   "outputs": [
    {
     "name": "stdout",
     "output_type": "stream",
     "text": [
      "[[1 2 7]\n",
      " [3 4 8]]\n"
     ]
    }
   ],
   "source": [
    "\n",
    "# 沿列方向拼接\n",
    "c = np.array([[7], [8]])\n",
    "print(np.concatenate((a, c), axis=1))"
   ]
  },
  {
   "cell_type": "markdown",
   "id": "53c97c8c-fd91-48bc-a738-c8a9c0f883ef",
   "metadata": {},
   "source": [
    "#### `np.append`\n",
    "\n",
    "***功能***\n",
    "\n",
    "- 向数组追加值，可以追加标量或数组；\n",
    "\n",
    "- 默认情况下会先展平为一维再追加。\n",
    "\n",
    "***语法***\n",
    "```python\n",
    "np.append(arr, values, axis=None)\n",
    "```"
   ]
  },
  {
   "cell_type": "code",
   "execution_count": 87,
   "id": "ff2d39f3-47b7-42ff-834e-e87eac64fd52",
   "metadata": {},
   "outputs": [
    {
     "name": "stdout",
     "output_type": "stream",
     "text": [
      "[1 2 3 4 5]\n"
     ]
    }
   ],
   "source": [
    "arr = np.array([1, 2, 3])\n",
    "\n",
    "# 默认 axis=None，会展平\n",
    "print(np.append(arr, [4, 5]))"
   ]
  },
  {
   "cell_type": "code",
   "execution_count": 88,
   "id": "b0f196c1-f0e4-4feb-91a8-e7bacaf683cb",
   "metadata": {},
   "outputs": [
    {
     "name": "stdout",
     "output_type": "stream",
     "text": [
      "[[1 2]\n",
      " [3 4]\n",
      " [5 6]]\n"
     ]
    }
   ],
   "source": [
    "## 在二维数组上追加\n",
    "arr2 = np.array([[1, 2], [3, 4]])\n",
    "arr3 = np.array([[5, 6]])\n",
    "print(np.append(arr2, arr3, axis=0))"
   ]
  },
  {
   "cell_type": "code",
   "execution_count": 90,
   "id": "170fc409-997e-451f-aeae-d6a6f73e77ba",
   "metadata": {},
   "outputs": [
    {
     "name": "stdout",
     "output_type": "stream",
     "text": [
      "[[1 2 7]\n",
      " [3 4 8]]\n"
     ]
    }
   ],
   "source": [
    "arr4 = np.array([[7], [8]])\n",
    "print(np.append(arr2, arr4, axis=1))"
   ]
  },
  {
   "cell_type": "markdown",
   "id": "4420a118-e525-428b-951c-6b49fae3120a",
   "metadata": {},
   "source": [
    "### 练习： 1. 数据创建与属性\n",
    "\n",
    "某班级有 10 名学生，4 门课程（数学、物理、化学、英语）。\n",
    "数据存储在一个 `10x4` 的 `NumPy` 数组中，行为学生，列为课程成绩（0–100 的整数）。请完成以下任务\n",
    "\n",
    "输出该数组`scores`的形状（shape）、维度数（ndim）、元素总数（size）、数据类型（dtype）\n",
    "\n",
    "给这个10名学生起名字(可以是`A, B, C`,`A1, A2, A3`等)，用上次课的知识，以`姓名：数学：xx，物理：xx，化学：xx，英语 `打印出来"
   ]
  },
  {
   "cell_type": "code",
   "execution_count": 71,
   "id": "5ce6a0b9-964c-485e-93ef-341454c4527f",
   "metadata": {},
   "outputs": [
    {
     "data": {
      "text/plain": [
       "array([[87, 85, 75, 60],\n",
       "       [61, 67, 94, 88],\n",
       "       [78, 82, 61, 81],\n",
       "       [94, 99, 82, 90],\n",
       "       [87, 88, 64, 81],\n",
       "       [97, 74, 78, 94],\n",
       "       [71, 83, 74, 71],\n",
       "       [81, 67, 74, 72],\n",
       "       [84, 61, 74, 84],\n",
       "       [75, 98, 69, 90]])"
      ]
     },
     "execution_count": 71,
     "metadata": {},
     "output_type": "execute_result"
    }
   ],
   "source": [
    "## 学生成绩为\n",
    "scores = np.random.randint(60, 100, 40).reshape(10, 4)\n",
    "scores\n"
   ]
  },
  {
   "cell_type": "code",
   "execution_count": 68,
   "id": "a96126a1-d3a9-4996-81c5-11bcbaffb21c",
   "metadata": {},
   "outputs": [],
   "source": [
    "## 你的代码\n",
    "\n"
   ]
  },
  {
   "cell_type": "code",
   "execution_count": 72,
   "id": "90df1fd9-1324-4153-a494-7c92264611a6",
   "metadata": {},
   "outputs": [
    {
     "data": {
      "text/plain": [
       "['A0', 'A1', 'A2', 'A3', 'A4', 'A5', 'A6', 'A7', 'A8', 'A9']"
      ]
     },
     "execution_count": 72,
     "metadata": {},
     "output_type": "execute_result"
    }
   ],
   "source": [
    "names = [ f'A{_name}' for _name in range(10) ]\n",
    "names"
   ]
  },
  {
   "cell_type": "code",
   "execution_count": null,
   "id": "c159a14d-ecc3-48cc-8ac4-d1bb169b7f5e",
   "metadata": {},
   "outputs": [],
   "source": [
    "## 你的代码\n",
    "\n"
   ]
  },
  {
   "cell_type": "markdown",
   "id": "c4188aaa-d4e9-46e8-8e7d-bbb27dfd31e9",
   "metadata": {},
   "source": [
    "### 3. 基本运算\n",
    "- `ndarray` 支持逐元素运算；\n",
    "- 提供常见的数学函数（如 `np.sqrt`, `np.exp`, `np.log`）；\n",
    "- 不需要显式循环，效率更高。\n"
   ]
  },
  {
   "cell_type": "code",
   "execution_count": 26,
   "id": "11f79f55-868c-47b6-9a8c-82f6a1828e9b",
   "metadata": {},
   "outputs": [
    {
     "name": "stdout",
     "output_type": "stream",
     "text": [
      "加法: [5 7 9]\n",
      "乘法: [ 4 10 18]\n",
      "平方: [1 4 9]\n",
      "平方根: [1.         1.41421356 1.73205081]\n",
      "指数: [ 2.71828183  7.3890561  20.08553692]\n"
     ]
    }
   ],
   "source": [
    "x = np.array([1, 2, 3])\n",
    "y = np.array([4, 5, 6])\n",
    "\n",
    "print(\"加法:\", x + y)\n",
    "print(\"乘法:\", x * y)\n",
    "print(\"平方:\", x**2)\n",
    "print(\"平方根:\", np.sqrt(x))\n",
    "print(\"指数:\", np.exp(x))"
   ]
  },
  {
   "cell_type": "markdown",
   "id": "4d978ea1-3dfd-474d-875a-8fde30fb5234",
   "metadata": {},
   "source": [
    "---\n",
    "### ndarray 的索引与切片\n",
    "\n",
    "NumPy 的 `ndarray` 支持和 Python 列表类似的索引与切片，但更强大，能够方便地操作多维数组。\n",
    "\n",
    "常见方式：\n",
    "1. **单元素索引**：用下标访问单个元素；\n",
    "2. **切片**：通过 `start:end:step` 选取子数组；\n",
    "3. **多维索引**：用逗号分隔的方式同时操作多维；\n",
    "4. **布尔索引**：用布尔数组筛选元素；\n",
    "5. **花式索引（fancy indexing）**：用整数数组选取特定位置的元素。\n"
   ]
  },
  {
   "cell_type": "code",
   "execution_count": 27,
   "id": "a3754364-5400-41c1-ae1f-715eb7b4ff20",
   "metadata": {},
   "outputs": [
    {
     "name": "stdout",
     "output_type": "stream",
     "text": [
      "原始数组: [0 1 2 3 4 5 6 7 8 9]\n",
      "arr[3] = 3\n",
      "arr[2:7] = [2 3 4 5 6]\n",
      "arr[:5] = [0 1 2 3 4]\n",
      "arr[::2] = [0 2 4 6 8]\n"
     ]
    }
   ],
   "source": [
    "arr = np.arange(10)\n",
    "print(\"原始数组:\", arr)\n",
    "\n",
    "# 单元素索引\n",
    "print(\"arr[3] =\", arr[3])\n",
    "\n",
    "# 切片\n",
    "print(\"arr[2:7] =\", arr[2:7])\n",
    "print(\"arr[:5] =\", arr[:5])\n",
    "print(\"arr[::2] =\", arr[::2])  # 步长为 2"
   ]
  },
  {
   "cell_type": "code",
   "execution_count": 28,
   "id": "d8e36bf3-5161-462a-8083-af1126b93e26",
   "metadata": {},
   "outputs": [
    {
     "name": "stdout",
     "output_type": "stream",
     "text": [
      "矩阵:\n",
      " [[ 0  1  2  3]\n",
      " [ 4  5  6  7]\n",
      " [ 8  9 10 11]]\n",
      "单元素 mat[1,2] = 6\n",
      "按行切片 mat[1,:] = [4 5 6 7]\n",
      "按列切片 mat[:,2] = [ 2  6 10]\n"
     ]
    }
   ],
   "source": [
    "# 多维数组索引\n",
    "mat = np.arange(12).reshape(3,4)\n",
    "print(\"矩阵:\\n\", mat)\n",
    "\n",
    "print(\"单元素 mat[1,2] =\", mat[1,2])  # 第 2 行第 3 列\n",
    "print(\"按行切片 mat[1,:] =\", mat[1,:])\n",
    "print(\"按列切片 mat[:,2] =\", mat[:,2])\n"
   ]
  },
  {
   "cell_type": "code",
   "execution_count": 31,
   "id": "687b6a76-e682-4398-903a-b7e7f24cfd05",
   "metadata": {},
   "outputs": [
    {
     "name": "stdout",
     "output_type": "stream",
     "text": [
      "原始数组: [0 1 2 3 4 5 6 7 8 9]\n",
      "布尔掩码: [ True False  True False  True False  True False  True False]\n",
      "选取偶数: [0 2 4 6 8]\n"
     ]
    }
   ],
   "source": [
    "# 布尔索引\n",
    "arr = np.arange(10)\n",
    "mask = arr % 2 == 0\n",
    "print(\"原始数组:\", arr)\n",
    "\n",
    "print(\"布尔掩码:\", mask)\n",
    "print(\"选取偶数:\", arr[mask])\n"
   ]
  },
  {
   "cell_type": "markdown",
   "id": "0ccf75c3-4f51-41a7-897b-f2ec695711d3",
   "metadata": {},
   "source": [
    "#### 小结：\n",
    "- 索引和切片让我们可以灵活地操作数组；  \n",
    "- 布尔索引适合条件筛选；  \n",
    "- 花式索引适合批量获取特定位置的元素。  "
   ]
  },
  {
   "cell_type": "markdown",
   "id": "189427fb-744a-4e23-9b05-277bad3d843c",
   "metadata": {},
   "source": [
    "#### 练习：基本运算与切片\n",
    "\n",
    "提取第 1 个学生的所有成绩（索引 0 行）。\n",
    "\n",
    "提取所有学生的数学成绩（索引 0 列）。\n",
    "\n",
    "将所有成绩整体加 5 分（广播），但分数不得超过 100（用 `np.clip` 实现）。"
   ]
  },
  {
   "cell_type": "code",
   "execution_count": 76,
   "id": "7f9aceeb-5b42-4415-be8e-9f833ba3d412",
   "metadata": {},
   "outputs": [],
   "source": [
    "## 你的代码\n",
    "\n"
   ]
  },
  {
   "cell_type": "markdown",
   "id": "d4e45f21-2481-43ba-801a-d106acb969c3",
   "metadata": {},
   "source": [
    "---\n",
    "### ndarray 的数据类型与类型转换\n",
    "\n",
    "NumPy 的 `ndarray` 要求 **所有元素必须是相同的数据类型**，这让它在内存上更紧凑，计算更高效。\n",
    "\n",
    "- `ndarray` 的所有元素必须统一类型；  \n",
    "- NumPy 会自动进行类型提升，但有时会带来额外开销；  \n",
    "- 使用 `astype()` 可以安全地进行类型转换。  \n",
    "\n",
    "\n",
    "#### 1. 常见数据类型（dtype）\n",
    "- `int32`, `int64`：整型（根据平台不同）；\n",
    "- `float32`, `float64`：浮点数（科学计算常用）；\n",
    "- `bool`：布尔类型；\n",
    "- `complex64`, `complex128`：复数类型；\n",
    "- `str_` 或 `object`：字符串或任意 Python 对象。\n",
    "\n",
    "#### 2. 查看数据类型\n",
    "可以用 `.dtype` 属性查看数组的数据类型。\n"
   ]
  },
  {
   "cell_type": "code",
   "execution_count": 32,
   "id": "57ef3132-1c99-4b97-9906-0be926a89e77",
   "metadata": {},
   "outputs": [
    {
     "name": "stdout",
     "output_type": "stream",
     "text": [
      "a dtype: int64\n",
      "b dtype: float64\n",
      "c dtype: complex128\n",
      "d dtype: bool\n"
     ]
    }
   ],
   "source": [
    "import numpy as np\n",
    "\n",
    "a = np.array([1, 2, 3])\n",
    "b = np.array([1.0, 2.0, 3.0])\n",
    "c = np.array([1+2j, 3+4j])\n",
    "d = np.array([True, False, True])\n",
    "\n",
    "print(\"a dtype:\", a.dtype)\n",
    "print(\"b dtype:\", b.dtype)\n",
    "print(\"c dtype:\", c.dtype)\n",
    "print(\"d dtype:\", d.dtype)\n"
   ]
  },
  {
   "cell_type": "markdown",
   "id": "d6d02ef4-025c-4fe1-a160-cc88216e905d",
   "metadata": {},
   "source": [
    "#### 3. 自动类型提升（type promotion）\n",
    "\n",
    "当混合类型创建数组时，NumPy 会自动将元素“提升”为能兼容的公共类型。\n"
   ]
  },
  {
   "cell_type": "code",
   "execution_count": 33,
   "id": "ec6bc07f-59e9-4834-a0f5-c6eb3b1ddb2f",
   "metadata": {},
   "outputs": [
    {
     "name": "stdout",
     "output_type": "stream",
     "text": [
      "数组: [1.  2.5 3. ]\n",
      "dtype: float64\n"
     ]
    }
   ],
   "source": [
    "arr = np.array([1, 2.5, 3])  \n",
    "print(\"数组:\", arr)\n",
    "print(\"dtype:\", arr.dtype)  # 自动转为 float64\n"
   ]
  },
  {
   "cell_type": "markdown",
   "id": "96533bbb-af5a-4f50-808c-927e0844b29f",
   "metadata": {},
   "source": [
    "#### 4. 类型转换（astype）\n",
    "\n",
    "可以用 `astype()` 方法显式转换数据类型。\n"
   ]
  },
  {
   "cell_type": "code",
   "execution_count": 34,
   "id": "62a6d955-da77-4eff-9602-0915e56c3016",
   "metadata": {},
   "outputs": [
    {
     "name": "stdout",
     "output_type": "stream",
     "text": [
      "原始数组: [1.7 2.8 3.9] float64\n",
      "转换为 int: [1 2 3] int64\n",
      "转换为 bool: [ True  True  True] bool\n"
     ]
    }
   ],
   "source": [
    "arr = np.array([1.7, 2.8, 3.9])\n",
    "print(\"原始数组:\", arr, arr.dtype)\n",
    "\n",
    "arr_int = arr.astype(int)\n",
    "print(\"转换为 int:\", arr_int, arr_int.dtype)\n",
    "\n",
    "arr_bool = arr.astype(bool)\n",
    "print(\"转换为 bool:\", arr_bool, arr_bool.dtype)\n"
   ]
  },
  {
   "cell_type": "markdown",
   "id": "17b4b03d-be01-4810-8360-3302bb060bc6",
   "metadata": {},
   "source": [
    "#### 5. 生成不同类型的数据\n",
    "\n",
    "可以用 `np.array( data.  dtype=xxx )` 方法显式转换数据类型。"
   ]
  },
  {
   "cell_type": "code",
   "execution_count": 97,
   "id": "7d8ef246-4ca0-4a4e-925c-995d73a6b620",
   "metadata": {},
   "outputs": [
    {
     "data": {
      "text/plain": [
       "array([2, 3, 4, 5, 6, 7, 8, 9])"
      ]
     },
     "execution_count": 97,
     "metadata": {},
     "output_type": "execute_result"
    }
   ],
   "source": [
    "np.arange(2, 10, dtype=int)"
   ]
  },
  {
   "cell_type": "code",
   "execution_count": null,
   "id": "0af7fe33-43ec-45f3-ab7e-dbe9cc61ab62",
   "metadata": {},
   "outputs": [],
   "source": [
    "np.arange(2, 10, dtype=float)"
   ]
  },
  {
   "cell_type": "code",
   "execution_count": 96,
   "id": "195acbfa-40a5-4859-82e9-41626f0237bf",
   "metadata": {},
   "outputs": [
    {
     "data": {
      "text/plain": [
       "array([2., 3., 4., 5., 6., 7., 8., 9.])"
      ]
     },
     "execution_count": 96,
     "metadata": {},
     "output_type": "execute_result"
    }
   ],
   "source": [
    "np.arange(2, 10, dtype=np.float64 )"
   ]
  },
  {
   "cell_type": "code",
   "execution_count": 98,
   "id": "d0c6b56a-536b-4b00-b8ae-11acc386d724",
   "metadata": {},
   "outputs": [
    {
     "data": {
      "text/plain": [
       "array([2.+0.j, 3.+0.j, 4.+0.j, 5.+0.j, 6.+0.j, 7.+0.j, 8.+0.j, 9.+0.j])"
      ]
     },
     "execution_count": 98,
     "metadata": {},
     "output_type": "execute_result"
    }
   ],
   "source": [
    "np.arange(2, 10, dtype=np.complex128)"
   ]
  },
  {
   "cell_type": "markdown",
   "id": "b811a449-d36c-4dd6-be11-76371e3c62d4",
   "metadata": {},
   "source": [
    "---\n",
    "### 数组形状操作\n",
    "\n",
    "NumPy 提供了灵活的数组形状变换功能，可以在不复制数据的前提下改变数组的视图。\n",
    "\n",
    "- `reshape` 改变数组形状；\n",
    "- `flatten` / `ravel` 把数组展平成一维，区别在于是否拷贝数据；\n",
    "- `transpose` / `.T` 转置数组；\n",
    "- `np.newaxis` 可用于增加维度（常用于广播运算）。  \n",
    "\n",
    "\n",
    "#### 1. reshape\n",
    "改变数组形状，但元素总数必须保持一致。\n"
   ]
  },
  {
   "cell_type": "code",
   "execution_count": 36,
   "id": "0247e21e-db65-4e3c-8bfa-02cff9e2dd11",
   "metadata": {},
   "outputs": [
    {
     "name": "stdout",
     "output_type": "stream",
     "text": [
      "原始数组: [ 0  1  2  3  4  5  6  7  8  9 10 11]\n",
      "reshape(3,4):\n",
      " [[ 0  1  2  3]\n",
      " [ 4  5  6  7]\n",
      " [ 8  9 10 11]]\n",
      "reshape(2,-1):\n",
      " [[ 0  1  2  3  4  5]\n",
      " [ 6  7  8  9 10 11]]\n"
     ]
    }
   ],
   "source": [
    "arr = np.arange(12)\n",
    "print(\"原始数组:\", arr)\n",
    "\n",
    "reshaped = arr.reshape(3, 4)\n",
    "print(\"reshape(3,4):\\n\", reshaped)\n",
    "\n",
    "reshaped2 = arr.reshape(2, -1)  # 自动推断列数\n",
    "print(\"reshape(2,-1):\\n\", reshaped2)"
   ]
  },
  {
   "cell_type": "markdown",
   "id": "3000d0c5-bd88-495c-9a2f-39d90f1b0684",
   "metadata": {},
   "source": [
    "#### 2. flatten 与 ravel\n",
    "- `flatten()`：返回一个新的一维数组（拷贝）；  \n",
    "- `ravel()`：返回数组的扁平视图（共享内存）。  \n"
   ]
  },
  {
   "cell_type": "code",
   "execution_count": 37,
   "id": "b96416ad-a4ea-4671-9d93-d4f5d6e8420c",
   "metadata": {},
   "outputs": [
    {
     "name": "stdout",
     "output_type": "stream",
     "text": [
      "原始矩阵:\n",
      " [[0 1 2]\n",
      " [3 4 5]\n",
      " [6 7 8]]\n",
      "flatten(): [0 1 2 3 4 5 6 7 8]\n",
      "ravel(): [0 1 2 3 4 5 6 7 8]\n",
      "修改后的 mat:\n",
      " [[99  1  2]\n",
      " [ 3  4  5]\n",
      " [ 6  7  8]]\n"
     ]
    }
   ],
   "source": [
    "mat = np.arange(9).reshape(3,3)\n",
    "print(\"原始矩阵:\\n\", mat)\n",
    "\n",
    "flat1 = mat.flatten()\n",
    "flat2 = mat.ravel()\n",
    "\n",
    "print(\"flatten():\", flat1)\n",
    "print(\"ravel():\", flat2)\n",
    "\n",
    "# 修改 ravel 的结果会影响原数组\n",
    "flat2[0] = 99\n",
    "print(\"修改后的 mat:\\n\", mat)\n"
   ]
  },
  {
   "cell_type": "markdown",
   "id": "b0fa341f-8d53-4d51-a0c5-a69e6b81de5f",
   "metadata": {},
   "source": [
    "#### 3. 转置 transpose\n",
    "- `transpose()`：交换数组的维度；  \n",
    "- `.T` 属性：矩阵转置的简写。\n"
   ]
  },
  {
   "cell_type": "code",
   "execution_count": 38,
   "id": "950183f4-03be-4497-9974-1689f2f4155c",
   "metadata": {},
   "outputs": [
    {
     "name": "stdout",
     "output_type": "stream",
     "text": [
      "原始矩阵:\n",
      " [[0 1 2]\n",
      " [3 4 5]]\n",
      "转置 transpose:\n",
      " [[0 3]\n",
      " [1 4]\n",
      " [2 5]]\n",
      "转置 .T:\n",
      " [[0 3]\n",
      " [1 4]\n",
      " [2 5]]\n"
     ]
    }
   ],
   "source": [
    "mat = np.arange(6).reshape(2,3)\n",
    "print(\"原始矩阵:\\n\", mat)\n",
    "\n",
    "print(\"转置 transpose:\\n\", mat.transpose())\n",
    "print(\"转置 .T:\\n\", mat.T)\n"
   ]
  },
  {
   "cell_type": "markdown",
   "id": "69c0d586-39e9-405d-8d0f-e1f33dce4be6",
   "metadata": {},
   "source": [
    "#### 4. 维度扩展\n",
    "- `np.newaxis`：增加新维度；\n",
    "- `reshape`：调整为更高维度。\n"
   ]
  },
  {
   "cell_type": "code",
   "execution_count": 39,
   "id": "96a7dac2-5e4b-40b8-a54f-491e6dd221f8",
   "metadata": {},
   "outputs": [
    {
     "name": "stdout",
     "output_type": "stream",
     "text": [
      "原始: [1 2 3] (3,)\n",
      "转为列向量:\n",
      " [[1]\n",
      " [2]\n",
      " [3]] (3, 1)\n",
      "转为行向量:\n",
      " [[1 2 3]] (1, 3)\n"
     ]
    }
   ],
   "source": [
    "vec = np.array([1,2,3])\n",
    "print(\"原始:\", vec, vec.shape)\n",
    "\n",
    "col_vec = vec[:, np.newaxis]\n",
    "print(\"转为列向量:\\n\", col_vec, col_vec.shape)\n",
    "\n",
    "row_vec = vec[np.newaxis, :]\n",
    "print(\"转为行向量:\\n\", row_vec, row_vec.shape)\n"
   ]
  },
  {
   "cell_type": "markdown",
   "id": "c6ac19f6-e602-4a0e-94e1-0a0054e4d2db",
   "metadata": {},
   "source": [
    "---\n",
    "### 广播机制（Broadcasting）\n",
    "\n",
    "NumPy 的 **广播机制**（Broadcasting）允许不同形状的数组在运算时自动扩展为兼容的形状，而不需要显式复制数据。\n",
    "\n",
    "#### 1. 基本规则\n",
    "- 如果两个数组的维度数不同，在较小维度的前面补 1；  \n",
    "- 从最后一个维度开始比较，如果维度大小相同，或者其中一个为 1，则认为兼容；  \n",
    "- 如果不满足上述条件，就会报错。\n"
   ]
  },
  {
   "cell_type": "code",
   "execution_count": 40,
   "id": "813c7195-bfab-4a85-be4b-ff513b50bdf5",
   "metadata": {},
   "outputs": [
    {
     "name": "stdout",
     "output_type": "stream",
     "text": [
      "a + b = [3 4 5]\n"
     ]
    }
   ],
   "source": [
    "a = np.array([1, 2, 3])      # shape = (3,)\n",
    "b = 2                        # 标量\n",
    "print(\"a + b =\", a + b)      # 标量会扩展为和 a 相同形状"
   ]
  },
  {
   "cell_type": "code",
   "execution_count": 41,
   "id": "cb914f7a-76b4-408c-be1b-82e93dc8a0e0",
   "metadata": {},
   "outputs": [
    {
     "name": "stdout",
     "output_type": "stream",
     "text": [
      "矩阵 A:\n",
      " [[1. 1. 1.]\n",
      " [1. 1. 1.]\n",
      " [1. 1. 1.]]\n",
      "向量 b: [1 2 3]\n",
      "A + b =\n",
      " [[2. 3. 4.]\n",
      " [2. 3. 4.]\n",
      " [2. 3. 4.]]\n"
     ]
    }
   ],
   "source": [
    "# 不同形状的数组\n",
    "A = np.ones((3, 3))\n",
    "b = np.array([1, 2, 3])\n",
    "\n",
    "print(\"矩阵 A:\\n\", A)\n",
    "print(\"向量 b:\", b)\n",
    "\n",
    "print(\"A + b =\\n\", A + b)   # b 在行方向上自动广播\n"
   ]
  },
  {
   "cell_type": "code",
   "execution_count": 42,
   "id": "bb571e46-73e5-4a53-908a-2beda3951e6f",
   "metadata": {},
   "outputs": [
    {
     "name": "stdout",
     "output_type": "stream",
     "text": [
      "X:\n",
      " [[0]\n",
      " [1]\n",
      " [2]]\n",
      "Y: [0 1 2]\n",
      "X + Y =\n",
      " [[0 1 2]\n",
      " [1 2 3]\n",
      " [2 3 4]]\n"
     ]
    }
   ],
   "source": [
    "# 更高维度的广播\n",
    "X = np.arange(3).reshape(3,1)\n",
    "Y = np.arange(3)\n",
    "\n",
    "print(\"X:\\n\", X)\n",
    "print(\"Y:\", Y)"
   ]
  },
  {
   "cell_type": "code",
   "execution_count": 43,
   "id": "be9ba840-1513-4777-9fc2-bca68b8cb139",
   "metadata": {},
   "outputs": [
    {
     "name": "stdout",
     "output_type": "stream",
     "text": [
      "X + Y =\n",
      " [[0 1 2]\n",
      " [1 2 3]\n",
      " [2 3 4]]\n"
     ]
    }
   ],
   "source": [
    "print(\"X + Y =\\n\", X + Y)   # X shape (3,1), Y shape (3,) → 结果 shape (3,3)\n"
   ]
  },
  {
   "cell_type": "markdown",
   "id": "3067b717-524e-4a6d-9edf-1031c58b1bc5",
   "metadata": {},
   "source": [
    "#### 2. 广播失败的情况\n",
    "如果两个数组在某个维度上不兼容（既不相等，也不是 1），就会报错。\n"
   ]
  },
  {
   "cell_type": "code",
   "execution_count": 44,
   "id": "a275f6a5-1b8d-4167-9381-14b48e7964b7",
   "metadata": {},
   "outputs": [
    {
     "name": "stdout",
     "output_type": "stream",
     "text": [
      "广播失败: operands could not be broadcast together with shapes (2,3) (4,1) \n"
     ]
    }
   ],
   "source": [
    "try:\n",
    "    a = np.ones((2,3))\n",
    "    b = np.ones((4,1))\n",
    "    print(a + b)\n",
    "except ValueError as e:\n",
    "    print(\"广播失败:\", e)\n"
   ]
  },
  {
   "cell_type": "markdown",
   "id": "728e7f09-2eb1-4b8d-b4b7-0da3312a7f3f",
   "metadata": {},
   "source": [
    "#### 3. 广播的应用场景\n",
    "- 数组与标量运算（常见于加减常数、归一化等）；\n",
    "- 向量与矩阵运算；\n",
    "- 不同维度的数据对齐计算。\n",
    "\n",
    "**优势**：  \n",
    "- 避免显式使用循环；  \n",
    "- 节省内存，不需要真正复制扩展数据；  \n",
    "- 提高运算速度。\n"
   ]
  },
  {
   "cell_type": "markdown",
   "id": "41e94ef5-486b-423c-929b-be800975c790",
   "metadata": {},
   "source": [
    "---\n",
    "### 通用函数（Universal Functions, ufunc）\n",
    "\n",
    "NumPy 提供了大量的 **通用函数（ufunc）**，它们是一类对数组逐元素（element-wise）进行运算的函数，底层用 C 实现，效率极高。\n",
    "\n",
    "相比 Python 内置的 `math` 模块：\n",
    "- `math` 只能处理**标量（单个数值）**；\n",
    "- NumPy 的 `ufunc` 可以一次性处理整个数组，支持广播机制，运算更快。\n",
    "\n",
    "#### 常见通用函数\n",
    "- **算术运算**：`np.add`, `np.subtract`, `np.multiply`, `np.divide`\n",
    "- **幂函数与对数**：`np.power`, `np.exp`, `np.log`\n",
    "- **三角函数**：`np.sin`, `np.cos`, `np.tan`\n",
    "- **比较运算**：`np.greater`, `np.less`, `np.equal`\n",
    "- **聚合函数**：`np.sum`, `np.mean`, `np.max`, `np.min`\n"
   ]
  },
  {
   "cell_type": "code",
   "execution_count": 45,
   "id": "009b6e49-1a1f-4a63-83a2-b673d372931c",
   "metadata": {},
   "outputs": [
    {
     "name": "stdout",
     "output_type": "stream",
     "text": [
      "math.sqrt(16) = 4.0\n",
      "np.sqrt(arr) = [1. 2. 3. 4.]\n"
     ]
    }
   ],
   "source": [
    "import math\n",
    "\n",
    "# Python math 只能处理标量\n",
    "print(\"math.sqrt(16) =\", math.sqrt(16))\n",
    "\n",
    "# NumPy ufunc 能处理数组\n",
    "arr = np.array([1, 4, 9, 16])\n",
    "print(\"np.sqrt(arr) =\", np.sqrt(arr))\n"
   ]
  },
  {
   "cell_type": "code",
   "execution_count": 46,
   "id": "4abf856b-d8ff-46ee-a41c-ce4ba4558606",
   "metadata": {},
   "outputs": [
    {
     "name": "stdout",
     "output_type": "stream",
     "text": [
      "np.add(a, b): [5 7 9]\n",
      "np.multiply(a, b): [ 4 10 18]\n",
      "a**2: [1 4 9]\n"
     ]
    }
   ],
   "source": [
    "# 算术运算\n",
    "a = np.array([1, 2, 3])\n",
    "b = np.array([4, 5, 6])\n",
    "\n",
    "print(\"np.add(a, b):\", np.add(a, b))\n",
    "print(\"np.multiply(a, b):\", np.multiply(a, b))\n",
    "print(\"a**2:\", np.power(a, 2))\n"
   ]
  },
  {
   "cell_type": "code",
   "execution_count": 47,
   "id": "f784ad8e-708a-4aca-8871-ecac358bc535",
   "metadata": {},
   "outputs": [
    {
     "name": "stdout",
     "output_type": "stream",
     "text": [
      "sin(x): [0.00000000e+00 7.07106781e-01 1.00000000e+00 7.07106781e-01\n",
      " 1.22464680e-16]\n",
      "cos(x): [ 1.00000000e+00  7.07106781e-01  6.12323400e-17 -7.07106781e-01\n",
      " -1.00000000e+00]\n",
      "exp(x): [ 1.          2.19328005  4.81047738 10.55072407 23.14069263]\n",
      "log(x+1): [0.         0.57964145 0.94421571 1.21080774 1.42108041]\n"
     ]
    }
   ],
   "source": [
    "# 三角函数与指数/对数\n",
    "x = np.linspace(0, np.pi, 5)\n",
    "\n",
    "print(\"sin(x):\", np.sin(x))\n",
    "print(\"cos(x):\", np.cos(x))\n",
    "print(\"exp(x):\", np.exp(x))\n",
    "print(\"log(x+1):\", np.log(x+1))\n"
   ]
  },
  {
   "cell_type": "code",
   "execution_count": 48,
   "id": "80277dca-1c58-4378-8b62-268a5f93af8f",
   "metadata": {},
   "outputs": [
    {
     "name": "stdout",
     "output_type": "stream",
     "text": [
      "arr > 4: [False False  True  True  True]\n",
      "equal to 5: [False False  True False False]\n",
      "sum: 25\n",
      "mean: 5.0\n",
      "max: 9\n"
     ]
    }
   ],
   "source": [
    "# 比较运算与聚合\n",
    "arr = np.array([1, 3, 5, 7, 9])\n",
    "\n",
    "print(\"arr > 4:\", arr > 4)\n",
    "print(\"equal to 5:\", np.equal(arr, 5))\n",
    "\n",
    "print(\"sum:\", np.sum(arr))\n",
    "print(\"mean:\", np.mean(arr))\n",
    "print(\"max:\", np.max(arr))\n"
   ]
  },
  {
   "cell_type": "markdown",
   "id": "fb9043a5-de98-45cd-add0-32520d07d656",
   "metadata": {},
   "source": [
    "#### 练习: 类型与形状操作\n",
    "\n",
    "将成绩数组转换为 `float32` 类型。\n",
    "\n",
    "将数组 `reshape` 成 4x10（按课程存储），并输出英语成绩列。\n",
    "\n",
    "将数组 `flatten` 成一维，并计算最高分(`np.max`)和最低分(`np.min`)。\n"
   ]
  },
  {
   "cell_type": "code",
   "execution_count": null,
   "id": "acf40f87-5d6e-4d03-bd6b-4d3153ca5e37",
   "metadata": {},
   "outputs": [],
   "source": [
    "## 你的代码\n",
    "\n"
   ]
  },
  {
   "cell_type": "markdown",
   "id": "5edd7fa6-ef4a-46b9-883e-7a7718cd9986",
   "metadata": {},
   "source": [
    "---\n",
    "### 数组的聚合与统计方法\n",
    "\n",
    "NumPy 提供了大量的 **聚合函数**（aggregation functions），用来对数组整体或指定轴（axis）进行统计计算。\n",
    "\n",
    "#### 1. 常见聚合函数\n",
    "- `np.sum()`：求和  \n",
    "- `np.mean()`：均值  \n",
    "- `np.std()`：标准差  \n",
    "- `np.var()`：方差  \n",
    "- `np.min()` / `np.max()`：最小值 / 最大值  \n",
    "- `np.argmin()` / `np.argmax()`：最小值 / 最大值索引  \n",
    "- `np.median()`：中位数\n"
   ]
  },
  {
   "cell_type": "code",
   "execution_count": 49,
   "id": "c23bf52c-7e7f-4b04-98a6-09e389cb1e2e",
   "metadata": {},
   "outputs": [
    {
     "name": "stdout",
     "output_type": "stream",
     "text": [
      "sum: 15\n",
      "mean: 3.0\n",
      "std: 1.4142135623730951\n",
      "var: 2.0\n",
      "min: 1 at index 0\n",
      "max: 5 at index 4\n",
      "median: 3.0\n"
     ]
    }
   ],
   "source": [
    "\n",
    "arr = np.array([1, 2, 3, 4, 5])\n",
    "\n",
    "print(\"sum:\", np.sum(arr))\n",
    "print(\"mean:\", np.mean(arr))\n",
    "print(\"std:\", np.std(arr))\n",
    "print(\"var:\", np.var(arr))\n",
    "print(\"min:\", np.min(arr), \"at index\", np.argmin(arr))\n",
    "print(\"max:\", np.max(arr), \"at index\", np.argmax(arr))\n",
    "print(\"median:\", np.median(arr))\n"
   ]
  },
  {
   "cell_type": "markdown",
   "id": "2c46beda-17aa-418e-86e6-b0441f99576b",
   "metadata": {},
   "source": [
    "#### 2. 按轴计算（axis 参数）\n",
    "\n",
    "- `axis=0`：对“行”方向计算（结果是按列聚合）；  \n",
    "- `axis=1`：对“列”方向计算（结果是按行聚合）。  \n"
   ]
  },
  {
   "cell_type": "code",
   "execution_count": 50,
   "id": "c149aac4-d8b8-4851-8170-e5ea288d18a0",
   "metadata": {},
   "outputs": [
    {
     "name": "stdout",
     "output_type": "stream",
     "text": [
      "矩阵:\n",
      " [[ 1  2  3  4]\n",
      " [ 5  6  7  8]\n",
      " [ 9 10 11 12]]\n",
      "按列求和 axis=0: [15 18 21 24]\n",
      "按行求和 axis=1: [10 26 42]\n",
      "按列均值 axis=0: [5. 6. 7. 8.]\n",
      "按行均值 axis=1: [ 2.5  6.5 10.5]\n"
     ]
    }
   ],
   "source": [
    "mat = np.arange(1, 13).reshape(3, 4)\n",
    "print(\"矩阵:\\n\", mat)\n",
    "\n",
    "print(\"按列求和 axis=0:\", np.sum(mat, axis=0))\n",
    "print(\"按行求和 axis=1:\", np.sum(mat, axis=1))\n",
    "\n",
    "print(\"按列均值 axis=0:\", np.mean(mat, axis=0))\n",
    "print(\"按行均值 axis=1:\", np.mean(mat, axis=1))\n"
   ]
  },
  {
   "cell_type": "markdown",
   "id": "21d69415-fad9-4352-811f-a795624f0e99",
   "metadata": {},
   "source": [
    "#### 3. 累积函数\n",
    "- `np.cumsum()`：累加和  \n",
    "- `np.cumprod()`：累乘积  \n"
   ]
  },
  {
   "cell_type": "code",
   "execution_count": 51,
   "id": "60039a75-fd3a-44f7-875f-a2b44129a8d8",
   "metadata": {},
   "outputs": [
    {
     "name": "stdout",
     "output_type": "stream",
     "text": [
      "原始数组: [1 2 3 4]\n",
      "累加和: [ 1  3  6 10]\n",
      "累乘积: [ 1  2  6 24]\n"
     ]
    }
   ],
   "source": [
    "arr = np.array([1, 2, 3, 4])\n",
    "print(\"原始数组:\", arr)\n",
    "\n",
    "print(\"累加和:\", np.cumsum(arr))\n",
    "print(\"累乘积:\", np.cumprod(arr))\n"
   ]
  },
  {
   "cell_type": "code",
   "execution_count": 53,
   "id": "2b06cf68-d6b3-4acd-aa4f-ae8a200700fe",
   "metadata": {},
   "outputs": [
    {
     "name": "stdout",
     "output_type": "stream",
     "text": [
      "原始数组: [1. 1. 1. 1. 1. 1. 1. 1. 1.]\n",
      "累加和: [1. 2. 3. 4. 5. 6. 7. 8. 9.]\n",
      "累乘积: [1. 1. 1. 1. 1. 1. 1. 1. 1.]\n"
     ]
    }
   ],
   "source": [
    "arr = np.ones(9)\n",
    "print(\"原始数组:\", arr)\n",
    "\n",
    "print(\"累加和:\", np.cumsum(arr))\n",
    "print(\"累乘积:\", np.cumprod(arr))\n"
   ]
  },
  {
   "cell_type": "markdown",
   "id": "dd29451f-2078-43a3-99fb-c28bd781ea5a",
   "metadata": {},
   "source": [
    "**小结**：\n",
    "- 聚合函数是数据分析和科学计算中最常用的操作；  \n",
    "- `axis` 参数决定按行还是按列聚合；  \n",
    "- 累积函数（如 `cumsum`、`cumprod`）适合需要逐步计算的场景。  \n"
   ]
  },
  {
   "cell_type": "markdown",
   "id": "7fa0100b-8640-4cb7-b3c7-a22fda582424",
   "metadata": {},
   "source": [
    "---\n",
    "### 排序与查找相关功能\n",
    "\n",
    "NumPy 提供了一些方便的函数来进行排序、搜索和索引操作，常用于数据处理与分析。\n",
    "\n",
    "- `sort` / `argsort`：排序与索引排序；\n",
    "- `searchsorted`：在有序数组中高效查找插入位置；\n",
    "- `nonzero` / `where`：条件筛选与索引；\n",
    "- `unique` / `bincount`：唯一值与频数统计。  \n",
    "\n",
    "\n",
    "#### 1. 排序（sort, argsort）\n",
    "- `np.sort(arr)`：返回排好序的数组副本（不会修改原数组）；  \n",
    "- `arr.sort()`：原地排序，直接修改数组；  \n",
    "- `np.argsort(arr)`：返回排序后元素的索引位置。  \n"
   ]
  },
  {
   "cell_type": "code",
   "execution_count": 54,
   "id": "fc29aeb7-e51a-4f9d-9ea4-5c5cfbe97316",
   "metadata": {},
   "outputs": [
    {
     "name": "stdout",
     "output_type": "stream",
     "text": [
      "原始数组: [3 1 4 1 5 9]\n",
      "np.sort: [1 1 3 4 5 9]\n",
      "原始数组保持不变: [3 1 4 1 5 9]\n",
      "arr.sort() 后: [1 1 3 4 5 9]\n",
      "argsort: [0 3 2 1]\n",
      "按索引重排: [10 20 30 40]\n"
     ]
    }
   ],
   "source": [
    "\n",
    "arr = np.array([3, 1, 4, 1, 5, 9])\n",
    "print(\"原始数组:\", arr)\n",
    "\n",
    "print(\"np.sort:\", np.sort(arr))      # 返回新数组\n",
    "print(\"原始数组保持不变:\", arr)\n",
    "\n",
    "arr.sort()\n",
    "print(\"arr.sort() 后:\", arr)\n",
    "\n",
    "arr2 = np.array([10, 40, 30, 20])\n",
    "print(\"argsort:\", np.argsort(arr2))  # 索引排序\n",
    "print(\"按索引重排:\", arr2[np.argsort(arr2)])\n"
   ]
  },
  {
   "cell_type": "markdown",
   "id": "f4958bbe-813b-4f94-a7ec-8ebda6de8b0b",
   "metadata": {},
   "source": [
    "#### 2. searchsorted（二分查找）\n",
    "`np.searchsorted(a, v)` 在有序数组 `a` 中查找元素 `v` 应该插入的位置，保证数组有序。\n",
    "\n",
    "- 默认返回 **左边界**（left），可指定 `side=\"right\"` 返回右边界；\n",
    "- 常用于区间查找、分箱（binning）、数据对齐。\n"
   ]
  },
  {
   "cell_type": "code",
   "execution_count": 55,
   "id": "156509fe-3688-4d14-b332-ed2df8df6d20",
   "metadata": {},
   "outputs": [
    {
     "name": "stdout",
     "output_type": "stream",
     "text": [
      "有序数组: [1 3 5 7 9]\n",
      "插入 3 的位置: 1\n",
      "插入 3 的右边界: 2\n",
      "批量插入 [2,6]: [1 3]\n"
     ]
    }
   ],
   "source": [
    "arr = np.array([1, 3, 5, 7, 9])\n",
    "print(\"有序数组:\", arr)\n",
    "\n",
    "print(\"插入 3 的位置:\", np.searchsorted(arr, 3))\n",
    "print(\"插入 3 的右边界:\", np.searchsorted(arr, 3, side=\"right\"))\n",
    "\n",
    "print(\"批量插入 [2,6]:\", np.searchsorted(arr, [2, 6]))\n"
   ]
  },
  {
   "cell_type": "markdown",
   "id": "891c9627-05e1-4107-8c20-49eaf7950f38",
   "metadata": {},
   "source": [
    "#### 3. nonzero 与 where\n",
    "- `np.nonzero(arr)`：返回非零元素的索引；  \n",
    "- `np.where(condition, x, y)`：根据条件从 `x` 或 `y` 中选择元素。  \n"
   ]
  },
  {
   "cell_type": "code",
   "execution_count": 56,
   "id": "a8688315-2e5b-4c08-ba0d-854770730209",
   "metadata": {},
   "outputs": [
    {
     "name": "stdout",
     "output_type": "stream",
     "text": [
      "非零索引: (array([1, 3, 4]),)\n",
      "where 条件选择: [-1 -1  3  4]\n"
     ]
    }
   ],
   "source": [
    "arr = np.array([0, 2, 0, 4, 5])\n",
    "print(\"非零索引:\", np.nonzero(arr))\n",
    "\n",
    "x = np.array([1, 2, 3, 4])\n",
    "print(\"where 条件选择:\", np.where(x > 2, x, -1))\n"
   ]
  },
  {
   "cell_type": "markdown",
   "id": "d651b4ec-ba4b-4453-bfe2-0cc723b33351",
   "metadata": {},
   "source": [
    "#### 4. unique 与 bincount\n",
    "- `np.unique(arr)`：返回数组中的唯一值（可选返回索引和计数）；  \n",
    "- `np.bincount(arr)`：统计非负整数的出现次数。  \n"
   ]
  },
  {
   "cell_type": "code",
   "execution_count": 57,
   "id": "9ec8e71b-81ad-46f1-b819-d1d8ec237d90",
   "metadata": {},
   "outputs": [
    {
     "name": "stdout",
     "output_type": "stream",
     "text": [
      "unique: [1 2 3]\n",
      "unique 返回计数: (array([1, 2, 3]), array([1, 2, 3]))\n",
      "bincount: [0 1 2 3]\n"
     ]
    }
   ],
   "source": [
    "arr = np.array([1, 2, 2, 3, 3, 3])\n",
    "print(\"unique:\", np.unique(arr))\n",
    "print(\"unique 返回计数:\", np.unique(arr, return_counts=True))\n",
    "\n",
    "print(\"bincount:\", np.bincount(arr))  # 索引表示值，值表示出现次数\n"
   ]
  },
  {
   "cell_type": "markdown",
   "id": "7040b6c8-df05-4e06-820e-8443701045e6",
   "metadata": {},
   "source": [
    "#### 练习：\n",
    "\n",
    "- 计算每个学生的平均成绩（axis=1）。\n",
    "\n",
    "- 计算每门课程的最高分、最低分、平均分（axis=0）。\n",
    "\n",
    "- 用 np.mean 和 np.std 计算数学成绩的均值和标准差，将数学成绩标准化为 $z = \\frac{x-\\mu}{\\sigma}$。\n",
    "\n",
    "- 用 np.where 找出数学成绩低于均值的学生编号和名字，找出全班总平均分最高的学生编号名字。"
   ]
  },
  {
   "cell_type": "code",
   "execution_count": 79,
   "id": "25c8f3de-1bc8-42d7-9fc8-1ea8172c9b62",
   "metadata": {},
   "outputs": [
    {
     "data": {
      "text/plain": [
       "array([76.75, 77.5 , 75.5 , 91.25, 80.  , 85.75, 74.75, 73.5 , 75.75,\n",
       "       83.  ])"
      ]
     },
     "execution_count": 79,
     "metadata": {},
     "output_type": "execute_result"
    }
   ],
   "source": [
    "## 你的代码\n",
    "\n"
   ]
  },
  {
   "cell_type": "markdown",
   "id": "8deb462f-5a01-4e17-9258-d4af3dd19c46",
   "metadata": {},
   "source": [
    "---\n",
    "\n",
    "### NumPy 的输入输出功能\n",
    "\n",
    "在实际计算中，我们常常需要 **保存计算结果** 或 **读取已有数据**。  \n",
    "NumPy 提供了多种输入输出方式：\n",
    "\n",
    "\n",
    "####  文本文件 I/O\n",
    "\n",
    "- `np.loadtxt()`：从文本文件读取数据；  \n",
    "- `np.savetxt()`：将数组保存为文本文件；  \n",
    "- 常用于处理 `.txt`、`.csv` 数据。\n"
   ]
  },
  {
   "cell_type": "code",
   "execution_count": 99,
   "id": "e05916de-4df6-4a7b-9d99-f566c412ebd9",
   "metadata": {},
   "outputs": [],
   "source": [
    "# 保存数组到文本\n",
    "arr = np.array([[1, 2, 3], [4, 5, 6]])\n",
    "np.savetxt(\"data/data.txt\", arr, fmt=\"%d\", delimiter=\",\")\n"
   ]
  },
  {
   "cell_type": "code",
   "execution_count": 100,
   "id": "8cb74de2-ea6f-4df9-9c3d-98900e8fc373",
   "metadata": {},
   "outputs": [
    {
     "name": "stdout",
     "output_type": "stream",
     "text": [
      "[[1. 2. 3.]\n",
      " [4. 5. 6.]]\n"
     ]
    }
   ],
   "source": [
    "\n",
    "# 从文本中读取数组\n",
    "arr2 = np.loadtxt(\"data/data.txt\", delimiter=\",\")\n",
    "print( arr2 )\n"
   ]
  },
  {
   "cell_type": "markdown",
   "id": "5967583b-a629-4f15-96e1-0b2c6529e960",
   "metadata": {},
   "source": [
    "#### 使用 `delimiter` 控制分隔符"
   ]
  },
  {
   "cell_type": "code",
   "execution_count": 104,
   "id": "c34a0f64-7a8d-4015-9315-5ee3f2833b2b",
   "metadata": {},
   "outputs": [],
   "source": [
    "# 保存为 CSV 格式，逗号分隔\n",
    "np.savetxt(\"data/data.csv\", arr, delimiter=\" \")"
   ]
  },
  {
   "cell_type": "code",
   "execution_count": 106,
   "id": "544160e2-2fcb-400b-9031-97db5f43204c",
   "metadata": {},
   "outputs": [
    {
     "name": "stdout",
     "output_type": "stream",
     "text": [
      "[[1. 2. 3.]\n",
      " [4. 5. 6.]]\n"
     ]
    }
   ],
   "source": [
    "# 从 CSV 文件读取\n",
    "loaded_csv = np.loadtxt(\"data/data.csv\", delimiter=\" \")\n",
    "print(loaded_csv)"
   ]
  },
  {
   "cell_type": "markdown",
   "id": "57752f03-809a-4138-8871-92851dd39ca4",
   "metadata": {},
   "source": [
    "#### 使用`fmt`控制数字格式"
   ]
  },
  {
   "cell_type": "code",
   "execution_count": null,
   "id": "58043297-6fc1-4c63-b231-a06eb848ad63",
   "metadata": {},
   "outputs": [],
   "source": [
    "# 保留两位小数\n",
    "np.savetxt(\"data/data_2f.txt\", arr, fmt=\"%.2f\")"
   ]
  },
  {
   "cell_type": "code",
   "execution_count": null,
   "id": "6667bff1-3c2d-4b86-a3aa-394006ab76f9",
   "metadata": {},
   "outputs": [],
   "source": [
    "# 保留两位小数科学计数法\n",
    "np.savetxt(\"data/data_2e.txt\", arr, fmt=\"%.2e\")"
   ]
  },
  {
   "cell_type": "code",
   "execution_count": null,
   "id": "67f888df-4fc4-468c-bc8a-0532b8c1e753",
   "metadata": {},
   "outputs": [],
   "source": [
    "# 保存为整数（四舍五入）\n",
    "np.savetxt(\"data_int.txt\", arr, fmt=\"%d\")"
   ]
  },
  {
   "cell_type": "code",
   "execution_count": 107,
   "id": "0bcc2744-9333-4fe1-9170-d8d48860b516",
   "metadata": {},
   "outputs": [],
   "source": [
    "#np.savetxt?"
   ]
  },
  {
   "cell_type": "markdown",
   "id": "dfb59135-9965-470e-863c-7c72ad714d6b",
   "metadata": {},
   "source": [
    "使用 `header` 添加文件说明"
   ]
  },
  {
   "cell_type": "code",
   "execution_count": 108,
   "id": "efcc26d2-b3b4-45df-8a18-4ef179430e5b",
   "metadata": {},
   "outputs": [],
   "source": [
    "np.savetxt(\"data_with_header.txt\", arr,\n",
    "           fmt=\"%.3f\", delimiter=\",\",\n",
    "           header=\"x_value, y_value\")\n"
   ]
  },
  {
   "cell_type": "markdown",
   "id": "b05fadba-4e03-4e63-ad15-0deb78449fb8",
   "metadata": {},
   "source": [
    "---\n",
    "\n",
    "# Pandas 基本使用方法\n",
    "\n",
    "## NumPy 与 Pandas 的区别与联系\n",
    "\n",
    "在科学计算和数据分析中，NumPy 和 Pandas 是最常用的两个工具库。  \n",
    "它们既有区别，又经常配合使用\n",
    "\n",
    "---\n",
    "\n",
    "### 对比总结表格\n",
    "\n",
    "| 特性/维度         | NumPy                                      | Pandas                                                   |\n",
    "|-------------------|--------------------------------------------|----------------------------------------------------------|\n",
    "| 核心数据结构       | `ndarray`（多维数组）                       | `Series`（一维） 和 `DataFrame`（二维表格）               |\n",
    "| 主要用途           | 数值计算、矩阵运算、科学计算基础             | 数据分析、数据清洗、表格数据处理                         |\n",
    "| 数据类型支持       | 主要是数值（整型、浮点型、复数），支持布尔   | 支持更多类型（数值、字符串、时间序列、分类数据等）       |\n",
    "| 操作方式           | 基于索引、切片、广播机制                     | 基于标签（列名/行索引）、条件筛选、分组聚合               |\n",
    "| 性能               | 速度极快（底层 C 实现），适合大规模数值运算  | 基于 NumPy，数值性能略低，但对结构化数据更友好           |\n",
    "| 缺失值处理         | 缺失值需用特殊方式表示（如 `np.nan`）        | 内置 `NaN` 处理，提供 `dropna()`、`fillna()` 等方法       |\n",
    "| 文件读写           | 基本支持文本（`savetxt/loadtxt`）、二进制    | 支持多种格式（CSV、Excel、SQL、JSON、HDF5 等）           |\n",
    "| 学习曲线           | 偏底层，适合数学、科学计算背景的人            | 偏上层，语法更贴近数据分析思维                           |\n",
    "| 适合场景           | 数值计算、线性代数、傅立叶变换、模拟仿真      | 数据分析、数据清洗、数据挖掘、统计建模                   |\n",
    "| 与其他工具关系     | 是 Pandas、SciPy、TensorFlow 等库的基础       | 构建在 NumPy 之上，常与 Matplotlib/Scikit-learn 联合使用 |\n"
   ]
  },
  {
   "cell_type": "markdown",
   "id": "f715aa6f-a8df-4855-a50d-75e2c8b63dbd",
   "metadata": {},
   "source": [
    "## Pandas 基础：Series 和 DataFrame\n",
    "\n",
    "Pandas 提供了两个核心数据结构：\n",
    "- **Series**：带标签的一维数组\n",
    "- **DataFrame**：带行列标签的二维表格\n",
    "\n",
    "---\n",
    "\n",
    "### 1. Series 使用\n"
   ]
  },
  {
   "cell_type": "code",
   "execution_count": 109,
   "id": "3f6cc8e8-1953-425a-8eb3-11edb0e59ab4",
   "metadata": {},
   "outputs": [],
   "source": [
    "import pandas as pd"
   ]
  },
  {
   "cell_type": "code",
   "execution_count": 114,
   "id": "0c625cfe-a0f0-4197-a8fc-8bfdda3903f8",
   "metadata": {},
   "outputs": [
    {
     "data": {
      "text/plain": [
       "0    10\n",
       "1    20\n",
       "2    30\n",
       "3    40\n",
       "dtype: int64"
      ]
     },
     "execution_count": 114,
     "metadata": {},
     "output_type": "execute_result"
    }
   ],
   "source": [
    "\n",
    "# 直接传入列表\n",
    "s = pd.Series([10, 20, 30, 40])\n",
    "s"
   ]
  },
  {
   "cell_type": "code",
   "execution_count": 113,
   "id": "911361d9-24c7-43ff-b9a1-3298a4f22b77",
   "metadata": {},
   "outputs": [
    {
     "data": {
      "text/plain": [
       "a    10\n",
       "b    20\n",
       "c    30\n",
       "d    40\n",
       "dtype: int64"
      ]
     },
     "execution_count": 113,
     "metadata": {},
     "output_type": "execute_result"
    }
   ],
   "source": [
    "# 指定索引\n",
    "s2 = pd.Series([10, 20, 30, 40], index=['a', 'b', 'c', 'd'])\n",
    "s2"
   ]
  },
  {
   "cell_type": "code",
   "execution_count": 117,
   "id": "a3f9172e-43da-4fa8-9a31-a62570021635",
   "metadata": {},
   "outputs": [
    {
     "name": "stdout",
     "output_type": "stream",
     "text": [
      "10\n",
      "10\n",
      "a    10\n",
      "c    30\n",
      "dtype: int64\n"
     ]
    }
   ],
   "source": [
    "print(s2['a'])     # 按索引取值\n",
    "print(s2.iloc[0])       # 按位置取值\n",
    "print(s2[['a','c']])  # 取多个值"
   ]
  },
  {
   "cell_type": "markdown",
   "id": "5910f4f2-d098-4115-b211-69b47ac4a061",
   "metadata": {},
   "source": [
    "### 2. DataFrame 使用"
   ]
  },
  {
   "cell_type": "code",
   "execution_count": 121,
   "id": "8228e0d3-00ff-4d2f-b114-e5768420d0bc",
   "metadata": {},
   "outputs": [
    {
     "data": {
      "text/html": [
       "<div>\n",
       "<style scoped>\n",
       "    .dataframe tbody tr th:only-of-type {\n",
       "        vertical-align: middle;\n",
       "    }\n",
       "\n",
       "    .dataframe tbody tr th {\n",
       "        vertical-align: top;\n",
       "    }\n",
       "\n",
       "    .dataframe thead th {\n",
       "        text-align: right;\n",
       "    }\n",
       "</style>\n",
       "<table border=\"1\" class=\"dataframe\">\n",
       "  <thead>\n",
       "    <tr style=\"text-align: right;\">\n",
       "      <th></th>\n",
       "      <th>Name</th>\n",
       "      <th>Age</th>\n",
       "      <th>Score</th>\n",
       "    </tr>\n",
       "  </thead>\n",
       "  <tbody>\n",
       "    <tr>\n",
       "      <th>0</th>\n",
       "      <td>Alice</td>\n",
       "      <td>25</td>\n",
       "      <td>85.5</td>\n",
       "    </tr>\n",
       "    <tr>\n",
       "      <th>1</th>\n",
       "      <td>Bob</td>\n",
       "      <td>30</td>\n",
       "      <td>90.2</td>\n",
       "    </tr>\n",
       "    <tr>\n",
       "      <th>2</th>\n",
       "      <td>Charlie</td>\n",
       "      <td>35</td>\n",
       "      <td>88.0</td>\n",
       "    </tr>\n",
       "  </tbody>\n",
       "</table>\n",
       "</div>"
      ],
      "text/plain": [
       "      Name  Age  Score\n",
       "0    Alice   25   85.5\n",
       "1      Bob   30   90.2\n",
       "2  Charlie   35   88.0"
      ]
     },
     "execution_count": 121,
     "metadata": {},
     "output_type": "execute_result"
    }
   ],
   "source": [
    "data = {\n",
    "    'Name': ['Alice', 'Bob', 'Charlie'],\n",
    "    'Age': [25, 30, 35],\n",
    "    'Score': [85.5, 90.2, 88.0]\n",
    "}\n",
    "df = pd.DataFrame(data)\n",
    "df"
   ]
  },
  {
   "cell_type": "code",
   "execution_count": 123,
   "id": "2d3739b4-3c33-4387-8354-2312a412dbce",
   "metadata": {},
   "outputs": [
    {
     "name": "stdout",
     "output_type": "stream",
     "text": [
      "      Name  Age  Score\n",
      "0    Alice   25   85.5\n",
      "1      Bob   30   90.2\n",
      "2  Charlie   35   88.0\n"
     ]
    }
   ],
   "source": [
    "print(df.head())   # 前几行"
   ]
  },
  {
   "cell_type": "code",
   "execution_count": 124,
   "id": "2aeffd85-8a8e-4f30-a78c-8d62cde50c36",
   "metadata": {},
   "outputs": [
    {
     "name": "stdout",
     "output_type": "stream",
     "text": [
      "      Name  Age  Score\n",
      "0    Alice   25   85.5\n",
      "1      Bob   30   90.2\n",
      "2  Charlie   35   88.0\n"
     ]
    }
   ],
   "source": [
    "print(df.tail())   # 后几行"
   ]
  },
  {
   "cell_type": "code",
   "execution_count": 125,
   "id": "9458e613-dfaf-4870-9b18-88aaa1d9226d",
   "metadata": {},
   "outputs": [
    {
     "name": "stdout",
     "output_type": "stream",
     "text": [
      "<class 'pandas.core.frame.DataFrame'>\n",
      "RangeIndex: 3 entries, 0 to 2\n",
      "Data columns (total 3 columns):\n",
      " #   Column  Non-Null Count  Dtype  \n",
      "---  ------  --------------  -----  \n",
      " 0   Name    3 non-null      object \n",
      " 1   Age     3 non-null      int64  \n",
      " 2   Score   3 non-null      float64\n",
      "dtypes: float64(1), int64(1), object(1)\n",
      "memory usage: 204.0+ bytes\n",
      "None\n"
     ]
    }
   ],
   "source": [
    "print(df.info())   # 数据信息"
   ]
  },
  {
   "cell_type": "code",
   "execution_count": 127,
   "id": "7485138c-50e7-4d45-b20c-68485562e6af",
   "metadata": {},
   "outputs": [
    {
     "name": "stdout",
     "output_type": "stream",
     "text": [
      "        Age      Score\n",
      "count   3.0   3.000000\n",
      "mean   30.0  87.900000\n",
      "std     5.0   2.351595\n",
      "min    25.0  85.500000\n",
      "25%    27.5  86.750000\n",
      "50%    30.0  88.000000\n",
      "75%    32.5  89.100000\n",
      "max    35.0  90.200000\n"
     ]
    }
   ],
   "source": [
    "print(df.describe())  # 统计描述"
   ]
  },
  {
   "cell_type": "code",
   "execution_count": 129,
   "id": "05b93780-6889-4172-834c-1198d0590396",
   "metadata": {},
   "outputs": [
    {
     "data": {
      "text/plain": [
       "0      Alice\n",
       "1        Bob\n",
       "2    Charlie\n",
       "Name: Name, dtype: object"
      ]
     },
     "execution_count": 129,
     "metadata": {},
     "output_type": "execute_result"
    }
   ],
   "source": [
    "df['Name']      # 选一列"
   ]
  },
  {
   "cell_type": "code",
   "execution_count": 131,
   "id": "b932fd17-8b98-4649-9651-74d25fd5c29f",
   "metadata": {},
   "outputs": [
    {
     "data": {
      "text/html": [
       "<div>\n",
       "<style scoped>\n",
       "    .dataframe tbody tr th:only-of-type {\n",
       "        vertical-align: middle;\n",
       "    }\n",
       "\n",
       "    .dataframe tbody tr th {\n",
       "        vertical-align: top;\n",
       "    }\n",
       "\n",
       "    .dataframe thead th {\n",
       "        text-align: right;\n",
       "    }\n",
       "</style>\n",
       "<table border=\"1\" class=\"dataframe\">\n",
       "  <thead>\n",
       "    <tr style=\"text-align: right;\">\n",
       "      <th></th>\n",
       "      <th>Name</th>\n",
       "      <th>Age</th>\n",
       "    </tr>\n",
       "  </thead>\n",
       "  <tbody>\n",
       "    <tr>\n",
       "      <th>0</th>\n",
       "      <td>Alice</td>\n",
       "      <td>25</td>\n",
       "    </tr>\n",
       "    <tr>\n",
       "      <th>1</th>\n",
       "      <td>Bob</td>\n",
       "      <td>30</td>\n",
       "    </tr>\n",
       "    <tr>\n",
       "      <th>2</th>\n",
       "      <td>Charlie</td>\n",
       "      <td>35</td>\n",
       "    </tr>\n",
       "  </tbody>\n",
       "</table>\n",
       "</div>"
      ],
      "text/plain": [
       "      Name  Age\n",
       "0    Alice   25\n",
       "1      Bob   30\n",
       "2  Charlie   35"
      ]
     },
     "execution_count": 131,
     "metadata": {},
     "output_type": "execute_result"
    }
   ],
   "source": [
    "df[['Name','Age']] # 选多列"
   ]
  },
  {
   "cell_type": "code",
   "execution_count": 132,
   "id": "939abe1e-7150-4460-b837-4920f9799c10",
   "metadata": {},
   "outputs": [
    {
     "data": {
      "text/plain": [
       "Name     Alice\n",
       "Age         25\n",
       "Score     85.5\n",
       "Name: 0, dtype: object"
      ]
     },
     "execution_count": 132,
     "metadata": {},
     "output_type": "execute_result"
    }
   ],
   "source": [
    "df.iloc[0]       # 按位置选第一行"
   ]
  },
  {
   "cell_type": "code",
   "execution_count": 133,
   "id": "90d4b201-04f7-48c9-9eac-dd2487f73b7c",
   "metadata": {},
   "outputs": [
    {
     "data": {
      "text/plain": [
       "Name     Alice\n",
       "Age         25\n",
       "Score     85.5\n",
       "Name: 0, dtype: object"
      ]
     },
     "execution_count": 133,
     "metadata": {},
     "output_type": "execute_result"
    }
   ],
   "source": [
    "df.loc[0]        # 按索引选第一行"
   ]
  },
  {
   "cell_type": "code",
   "execution_count": 134,
   "id": "0734ff6d-a849-4c55-ad5e-1f8628b309c9",
   "metadata": {},
   "outputs": [
    {
     "data": {
      "text/plain": [
       "'Alice'"
      ]
     },
     "execution_count": 134,
     "metadata": {},
     "output_type": "execute_result"
    }
   ],
   "source": [
    "df.loc[0, 'Name'] # 按行列索引"
   ]
  },
  {
   "cell_type": "markdown",
   "id": "2653546a-981b-4d67-a79c-febb9ae6a51d",
   "metadata": {},
   "source": [
    "### 3. DataFrame 常用操作"
   ]
  },
  {
   "cell_type": "code",
   "execution_count": 135,
   "id": "e62e57d4-5de1-4476-92d1-0f310d0d61fa",
   "metadata": {},
   "outputs": [
    {
     "data": {
      "text/html": [
       "<div>\n",
       "<style scoped>\n",
       "    .dataframe tbody tr th:only-of-type {\n",
       "        vertical-align: middle;\n",
       "    }\n",
       "\n",
       "    .dataframe tbody tr th {\n",
       "        vertical-align: top;\n",
       "    }\n",
       "\n",
       "    .dataframe thead th {\n",
       "        text-align: right;\n",
       "    }\n",
       "</style>\n",
       "<table border=\"1\" class=\"dataframe\">\n",
       "  <thead>\n",
       "    <tr style=\"text-align: right;\">\n",
       "      <th></th>\n",
       "      <th>Name</th>\n",
       "      <th>Age</th>\n",
       "      <th>Score</th>\n",
       "      <th>Passed</th>\n",
       "    </tr>\n",
       "  </thead>\n",
       "  <tbody>\n",
       "    <tr>\n",
       "      <th>0</th>\n",
       "      <td>Alice</td>\n",
       "      <td>25</td>\n",
       "      <td>85.5</td>\n",
       "      <td>True</td>\n",
       "    </tr>\n",
       "    <tr>\n",
       "      <th>1</th>\n",
       "      <td>Bob</td>\n",
       "      <td>31</td>\n",
       "      <td>90.2</td>\n",
       "      <td>True</td>\n",
       "    </tr>\n",
       "    <tr>\n",
       "      <th>2</th>\n",
       "      <td>Charlie</td>\n",
       "      <td>35</td>\n",
       "      <td>88.0</td>\n",
       "      <td>True</td>\n",
       "    </tr>\n",
       "  </tbody>\n",
       "</table>\n",
       "</div>"
      ],
      "text/plain": [
       "      Name  Age  Score  Passed\n",
       "0    Alice   25   85.5    True\n",
       "1      Bob   31   90.2    True\n",
       "2  Charlie   35   88.0    True"
      ]
     },
     "execution_count": 135,
     "metadata": {},
     "output_type": "execute_result"
    }
   ],
   "source": [
    "df['Passed'] = df['Score'] > 85\n",
    "df.loc[1, 'Age'] = 31\n",
    "df"
   ]
  },
  {
   "cell_type": "code",
   "execution_count": 136,
   "id": "bb903413-e579-43bc-8124-7c633905d4cc",
   "metadata": {},
   "outputs": [
    {
     "data": {
      "text/html": [
       "<div>\n",
       "<style scoped>\n",
       "    .dataframe tbody tr th:only-of-type {\n",
       "        vertical-align: middle;\n",
       "    }\n",
       "\n",
       "    .dataframe tbody tr th {\n",
       "        vertical-align: top;\n",
       "    }\n",
       "\n",
       "    .dataframe thead th {\n",
       "        text-align: right;\n",
       "    }\n",
       "</style>\n",
       "<table border=\"1\" class=\"dataframe\">\n",
       "  <thead>\n",
       "    <tr style=\"text-align: right;\">\n",
       "      <th></th>\n",
       "      <th>Name</th>\n",
       "      <th>Age</th>\n",
       "      <th>Score</th>\n",
       "    </tr>\n",
       "  </thead>\n",
       "  <tbody>\n",
       "    <tr>\n",
       "      <th>1</th>\n",
       "      <td>Bob</td>\n",
       "      <td>31</td>\n",
       "      <td>90.2</td>\n",
       "    </tr>\n",
       "    <tr>\n",
       "      <th>2</th>\n",
       "      <td>Charlie</td>\n",
       "      <td>35</td>\n",
       "      <td>88.0</td>\n",
       "    </tr>\n",
       "  </tbody>\n",
       "</table>\n",
       "</div>"
      ],
      "text/plain": [
       "      Name  Age  Score\n",
       "1      Bob   31   90.2\n",
       "2  Charlie   35   88.0"
      ]
     },
     "execution_count": 136,
     "metadata": {},
     "output_type": "execute_result"
    }
   ],
   "source": [
    "df = df.drop(columns=['Passed']) # 删除列\n",
    "df = df.drop(index=[0])          # 删除行\n",
    "df"
   ]
  },
  {
   "cell_type": "code",
   "execution_count": 137,
   "id": "5d21bb29-7aab-476c-8bdf-9670c450b5bb",
   "metadata": {},
   "outputs": [
    {
     "data": {
      "text/html": [
       "<div>\n",
       "<style scoped>\n",
       "    .dataframe tbody tr th:only-of-type {\n",
       "        vertical-align: middle;\n",
       "    }\n",
       "\n",
       "    .dataframe tbody tr th {\n",
       "        vertical-align: top;\n",
       "    }\n",
       "\n",
       "    .dataframe thead th {\n",
       "        text-align: right;\n",
       "    }\n",
       "</style>\n",
       "<table border=\"1\" class=\"dataframe\">\n",
       "  <thead>\n",
       "    <tr style=\"text-align: right;\">\n",
       "      <th></th>\n",
       "      <th>Name</th>\n",
       "      <th>Age</th>\n",
       "      <th>Score</th>\n",
       "    </tr>\n",
       "  </thead>\n",
       "  <tbody>\n",
       "    <tr>\n",
       "      <th>1</th>\n",
       "      <td>Bob</td>\n",
       "      <td>31</td>\n",
       "      <td>90.2</td>\n",
       "    </tr>\n",
       "    <tr>\n",
       "      <th>2</th>\n",
       "      <td>Charlie</td>\n",
       "      <td>35</td>\n",
       "      <td>88.0</td>\n",
       "    </tr>\n",
       "  </tbody>\n",
       "</table>\n",
       "</div>"
      ],
      "text/plain": [
       "      Name  Age  Score\n",
       "1      Bob   31   90.2\n",
       "2  Charlie   35   88.0"
      ]
     },
     "execution_count": 137,
     "metadata": {},
     "output_type": "execute_result"
    }
   ],
   "source": [
    "df[df['Age'] > 28]  # 筛选年龄大于28的"
   ]
  },
  {
   "cell_type": "code",
   "execution_count": 138,
   "id": "e0e533f3-1fee-4f97-8358-cfc166483553",
   "metadata": {},
   "outputs": [
    {
     "data": {
      "text/html": [
       "<div>\n",
       "<style scoped>\n",
       "    .dataframe tbody tr th:only-of-type {\n",
       "        vertical-align: middle;\n",
       "    }\n",
       "\n",
       "    .dataframe tbody tr th {\n",
       "        vertical-align: top;\n",
       "    }\n",
       "\n",
       "    .dataframe thead th {\n",
       "        text-align: right;\n",
       "    }\n",
       "</style>\n",
       "<table border=\"1\" class=\"dataframe\">\n",
       "  <thead>\n",
       "    <tr style=\"text-align: right;\">\n",
       "      <th></th>\n",
       "      <th>Name</th>\n",
       "      <th>Age</th>\n",
       "      <th>Score</th>\n",
       "    </tr>\n",
       "  </thead>\n",
       "  <tbody>\n",
       "    <tr>\n",
       "      <th>1</th>\n",
       "      <td>Bob</td>\n",
       "      <td>31</td>\n",
       "      <td>90.2</td>\n",
       "    </tr>\n",
       "    <tr>\n",
       "      <th>2</th>\n",
       "      <td>Charlie</td>\n",
       "      <td>35</td>\n",
       "      <td>88.0</td>\n",
       "    </tr>\n",
       "  </tbody>\n",
       "</table>\n",
       "</div>"
      ],
      "text/plain": [
       "      Name  Age  Score\n",
       "1      Bob   31   90.2\n",
       "2  Charlie   35   88.0"
      ]
     },
     "execution_count": 138,
     "metadata": {},
     "output_type": "execute_result"
    }
   ],
   "source": [
    "df.sort_values(by='Score', ascending=False)"
   ]
  },
  {
   "cell_type": "markdown",
   "id": "0fad436d-a127-43b1-893d-67e2486a7a8c",
   "metadata": {},
   "source": [
    "### 4. Series 与 DataFrame 的关系\n",
    "\n",
    "- `Series` 相当于 `DataFrame` 中的一列；\n",
    "\n",
    "- `DataFrame` 可以看作多个 `Series` 按列组合而成；\n",
    "\n",
    "- 二者都支持基于标签和基于位置的索引方式。\n"
   ]
  },
  {
   "cell_type": "markdown",
   "id": "54316d49-541d-444f-9980-faf6da1a8aad",
   "metadata": {},
   "source": [
    "---\n",
    "## Pandas 的输入输出（I/O）与统计分析功能\n",
    "\n",
    "Pandas 提供了丰富的 I/O 功能，可以非常方便地读写各种格式的数据文件。  \n",
    "在完成数据读取之后，Pandas 的 `DataFrame` 和 `Series` 提供了大量内置统计函数，让数据分析更加高效。\n",
    "\n",
    "### 1. Pandas 的输入输出功能\n",
    "\n",
    "#### 1.1 常见读取函数\n",
    "- `pd.read_csv()`：读取 CSV 文件  \n",
    "- `pd.read_excel()`：读取 Excel 文件（需安装 `openpyxl` 或 `xlrd`）  \n",
    "- `pd.read_json()`：读取 JSON 文件  \n",
    "- `pd.read_sql()`：从 SQL 数据库读取  \n",
    "- `pd.read_html()`：从 HTML 表格读取  \n"
   ]
  },
  {
   "cell_type": "code",
   "execution_count": 142,
   "id": "fefa472d-5ef7-42ba-9e11-dc0a5ff0ccad",
   "metadata": {},
   "outputs": [
    {
     "data": {
      "text/html": [
       "<div>\n",
       "<style scoped>\n",
       "    .dataframe tbody tr th:only-of-type {\n",
       "        vertical-align: middle;\n",
       "    }\n",
       "\n",
       "    .dataframe tbody tr th {\n",
       "        vertical-align: top;\n",
       "    }\n",
       "\n",
       "    .dataframe thead th {\n",
       "        text-align: right;\n",
       "    }\n",
       "</style>\n",
       "<table border=\"1\" class=\"dataframe\">\n",
       "  <thead>\n",
       "    <tr style=\"text-align: right;\">\n",
       "      <th></th>\n",
       "      <th>Name</th>\n",
       "      <th>Age</th>\n",
       "      <th>Class</th>\n",
       "      <th>Score</th>\n",
       "    </tr>\n",
       "  </thead>\n",
       "  <tbody>\n",
       "    <tr>\n",
       "      <th>0</th>\n",
       "      <td>Alice</td>\n",
       "      <td>18</td>\n",
       "      <td>A</td>\n",
       "      <td>85</td>\n",
       "    </tr>\n",
       "    <tr>\n",
       "      <th>1</th>\n",
       "      <td>Bob</td>\n",
       "      <td>19</td>\n",
       "      <td>A</td>\n",
       "      <td>90</td>\n",
       "    </tr>\n",
       "    <tr>\n",
       "      <th>2</th>\n",
       "      <td>Charlie</td>\n",
       "      <td>18</td>\n",
       "      <td>B</td>\n",
       "      <td>78</td>\n",
       "    </tr>\n",
       "    <tr>\n",
       "      <th>3</th>\n",
       "      <td>David</td>\n",
       "      <td>20</td>\n",
       "      <td>B</td>\n",
       "      <td>92</td>\n",
       "    </tr>\n",
       "    <tr>\n",
       "      <th>4</th>\n",
       "      <td>Eva</td>\n",
       "      <td>19</td>\n",
       "      <td>A</td>\n",
       "      <td>88</td>\n",
       "    </tr>\n",
       "    <tr>\n",
       "      <th>5</th>\n",
       "      <td>Frank</td>\n",
       "      <td>18</td>\n",
       "      <td>B</td>\n",
       "      <td>76</td>\n",
       "    </tr>\n",
       "    <tr>\n",
       "      <th>6</th>\n",
       "      <td>Grace</td>\n",
       "      <td>20</td>\n",
       "      <td>A</td>\n",
       "      <td>95</td>\n",
       "    </tr>\n",
       "    <tr>\n",
       "      <th>7</th>\n",
       "      <td>Helen</td>\n",
       "      <td>21</td>\n",
       "      <td>B</td>\n",
       "      <td>89</td>\n",
       "    </tr>\n",
       "  </tbody>\n",
       "</table>\n",
       "</div>"
      ],
      "text/plain": [
       "      Name  Age Class  Score\n",
       "0    Alice   18     A     85\n",
       "1      Bob   19     A     90\n",
       "2  Charlie   18     B     78\n",
       "3    David   20     B     92\n",
       "4      Eva   19     A     88\n",
       "5    Frank   18     B     76\n",
       "6    Grace   20     A     95\n",
       "7    Helen   21     B     89"
      ]
     },
     "execution_count": 142,
     "metadata": {},
     "output_type": "execute_result"
    }
   ],
   "source": [
    "#import pandas as pd\n",
    "\n",
    "df = pd.read_csv(\"data/students.csv\")\n",
    "df"
   ]
  },
  {
   "cell_type": "code",
   "execution_count": 143,
   "id": "745112d4-8546-41c6-a256-61eee2916c4b",
   "metadata": {},
   "outputs": [
    {
     "data": {
      "text/html": [
       "<div>\n",
       "<style scoped>\n",
       "    .dataframe tbody tr th:only-of-type {\n",
       "        vertical-align: middle;\n",
       "    }\n",
       "\n",
       "    .dataframe tbody tr th {\n",
       "        vertical-align: top;\n",
       "    }\n",
       "\n",
       "    .dataframe thead th {\n",
       "        text-align: right;\n",
       "    }\n",
       "</style>\n",
       "<table border=\"1\" class=\"dataframe\">\n",
       "  <thead>\n",
       "    <tr style=\"text-align: right;\">\n",
       "      <th></th>\n",
       "      <th>Name</th>\n",
       "      <th>Age</th>\n",
       "      <th>Class</th>\n",
       "      <th>Score</th>\n",
       "    </tr>\n",
       "  </thead>\n",
       "  <tbody>\n",
       "    <tr>\n",
       "      <th>0</th>\n",
       "      <td>Alice</td>\n",
       "      <td>18</td>\n",
       "      <td>A</td>\n",
       "      <td>85</td>\n",
       "    </tr>\n",
       "    <tr>\n",
       "      <th>1</th>\n",
       "      <td>Bob</td>\n",
       "      <td>19</td>\n",
       "      <td>A</td>\n",
       "      <td>90</td>\n",
       "    </tr>\n",
       "    <tr>\n",
       "      <th>2</th>\n",
       "      <td>Charlie</td>\n",
       "      <td>18</td>\n",
       "      <td>B</td>\n",
       "      <td>78</td>\n",
       "    </tr>\n",
       "    <tr>\n",
       "      <th>3</th>\n",
       "      <td>David</td>\n",
       "      <td>20</td>\n",
       "      <td>B</td>\n",
       "      <td>92</td>\n",
       "    </tr>\n",
       "    <tr>\n",
       "      <th>4</th>\n",
       "      <td>Eva</td>\n",
       "      <td>19</td>\n",
       "      <td>A</td>\n",
       "      <td>88</td>\n",
       "    </tr>\n",
       "  </tbody>\n",
       "</table>\n",
       "</div>"
      ],
      "text/plain": [
       "      Name  Age Class  Score\n",
       "0    Alice   18     A     85\n",
       "1      Bob   19     A     90\n",
       "2  Charlie   18     B     78\n",
       "3    David   20     B     92\n",
       "4      Eva   19     A     88"
      ]
     },
     "execution_count": 143,
     "metadata": {},
     "output_type": "execute_result"
    }
   ],
   "source": [
    "df.head()"
   ]
  },
  {
   "cell_type": "markdown",
   "id": "fbb44152-051b-4496-be66-0627ce45f8f9",
   "metadata": {},
   "source": [
    "#### 1.2 常见写入函数\n",
    "\n",
    "`DataFrame.to_csv()`：写入 CSV 文件\n",
    "\n",
    "`DataFrame.to_excel()`：写入 Excel 文件\n",
    "\n",
    "`DataFrame.to_json()`：写入 JSON 文件\n",
    "\n",
    "`DataFrame.to_sql()`：写入数据库"
   ]
  },
  {
   "cell_type": "code",
   "execution_count": 144,
   "id": "83129fbc-80d4-40c2-a061-2a6d1f9595b5",
   "metadata": {},
   "outputs": [],
   "source": [
    "df.to_csv(\"data/students_out.csv\", index=False)"
   ]
  },
  {
   "cell_type": "markdown",
   "id": "202ba7b9-03b6-489f-b77a-fea49f9a2947",
   "metadata": {},
   "source": [
    "---\n",
    "## 2. Pandas 的统计分析功能\n",
    "\n",
    "一旦数据读入到 DataFrame，就可以直接使用内置统计方法：\n",
    "\n",
    "### 2.1 常用统计方法\n",
    "\n",
    "`df.mean()`：平均值\n",
    "\n",
    "`df.median()`：中位数\n",
    "\n",
    "`df.max()` / `df.min()`：最大值 / 最小值\n",
    "\n",
    "`df.std()` / `df.var()`：标准差 / 方差\n",
    "\n",
    "`df.describe()`：一次性输出常见统计量"
   ]
  },
  {
   "cell_type": "code",
   "execution_count": 153,
   "id": "8afddb54-307b-4b41-a3e4-7d0a09398807",
   "metadata": {},
   "outputs": [
    {
     "data": {
      "text/plain": [
       "np.float64(86.625)"
      ]
     },
     "execution_count": 153,
     "metadata": {},
     "output_type": "execute_result"
    }
   ],
   "source": [
    "df['Score'].mean()     # 平均分"
   ]
  },
  {
   "cell_type": "code",
   "execution_count": 154,
   "id": "0e8b8944-a8a4-4cb6-a8c0-550c345bf9b9",
   "metadata": {},
   "outputs": [
    {
     "data": {
      "text/plain": [
       "np.int64(21)"
      ]
     },
     "execution_count": 154,
     "metadata": {},
     "output_type": "execute_result"
    }
   ],
   "source": [
    "df['Age'].max()        # 最大年龄"
   ]
  },
  {
   "cell_type": "code",
   "execution_count": 155,
   "id": "c0128bec-a222-4774-972e-8e23578b26be",
   "metadata": {},
   "outputs": [
    {
     "data": {
      "text/html": [
       "<div>\n",
       "<style scoped>\n",
       "    .dataframe tbody tr th:only-of-type {\n",
       "        vertical-align: middle;\n",
       "    }\n",
       "\n",
       "    .dataframe tbody tr th {\n",
       "        vertical-align: top;\n",
       "    }\n",
       "\n",
       "    .dataframe thead th {\n",
       "        text-align: right;\n",
       "    }\n",
       "</style>\n",
       "<table border=\"1\" class=\"dataframe\">\n",
       "  <thead>\n",
       "    <tr style=\"text-align: right;\">\n",
       "      <th></th>\n",
       "      <th>Age</th>\n",
       "      <th>Score</th>\n",
       "    </tr>\n",
       "  </thead>\n",
       "  <tbody>\n",
       "    <tr>\n",
       "      <th>count</th>\n",
       "      <td>8.000000</td>\n",
       "      <td>8.000000</td>\n",
       "    </tr>\n",
       "    <tr>\n",
       "      <th>mean</th>\n",
       "      <td>19.125000</td>\n",
       "      <td>86.625000</td>\n",
       "    </tr>\n",
       "    <tr>\n",
       "      <th>std</th>\n",
       "      <td>1.125992</td>\n",
       "      <td>6.631903</td>\n",
       "    </tr>\n",
       "    <tr>\n",
       "      <th>min</th>\n",
       "      <td>18.000000</td>\n",
       "      <td>76.000000</td>\n",
       "    </tr>\n",
       "    <tr>\n",
       "      <th>25%</th>\n",
       "      <td>18.000000</td>\n",
       "      <td>83.250000</td>\n",
       "    </tr>\n",
       "    <tr>\n",
       "      <th>50%</th>\n",
       "      <td>19.000000</td>\n",
       "      <td>88.500000</td>\n",
       "    </tr>\n",
       "    <tr>\n",
       "      <th>75%</th>\n",
       "      <td>20.000000</td>\n",
       "      <td>90.500000</td>\n",
       "    </tr>\n",
       "    <tr>\n",
       "      <th>max</th>\n",
       "      <td>21.000000</td>\n",
       "      <td>95.000000</td>\n",
       "    </tr>\n",
       "  </tbody>\n",
       "</table>\n",
       "</div>"
      ],
      "text/plain": [
       "             Age      Score\n",
       "count   8.000000   8.000000\n",
       "mean   19.125000  86.625000\n",
       "std     1.125992   6.631903\n",
       "min    18.000000  76.000000\n",
       "25%    18.000000  83.250000\n",
       "50%    19.000000  88.500000\n",
       "75%    20.000000  90.500000\n",
       "max    21.000000  95.000000"
      ]
     },
     "execution_count": 155,
     "metadata": {},
     "output_type": "execute_result"
    }
   ],
   "source": [
    "df.describe()          # 汇总统计"
   ]
  },
  {
   "cell_type": "markdown",
   "id": "851625c1-962d-499f-acec-e449f4ca0a24",
   "metadata": {},
   "source": [
    "### 2.2 分组统计\n",
    "\n",
    "使用 `groupby` 可以对数据进行分组统计。"
   ]
  },
  {
   "cell_type": "code",
   "execution_count": 146,
   "id": "09cb4374-df08-47cb-983c-03f41ceb92e7",
   "metadata": {},
   "outputs": [
    {
     "name": "stdout",
     "output_type": "stream",
     "text": [
      "Class\n",
      "A    89.50\n",
      "B    83.75\n",
      "Name: Score, dtype: float64\n"
     ]
    }
   ],
   "source": [
    "grouped = df.groupby('Class')['Score'].mean()\n",
    "print(grouped)\n"
   ]
  },
  {
   "cell_type": "markdown",
   "id": "61293d5e-5b84-41cc-939f-9841770b55d5",
   "metadata": {},
   "source": [
    "### 2.3 缺失值处理\n",
    "\n",
    "`df.isna()` / `df.notna()`：检测缺失值\n",
    "\n",
    "`df.dropna()`：删除缺失值\n",
    "\n",
    "`df.fillna()`：填充缺失值"
   ]
  },
  {
   "cell_type": "code",
   "execution_count": 150,
   "id": "e16b43e4-1c1c-4296-a772-2abc02308418",
   "metadata": {},
   "outputs": [
    {
     "data": {
      "text/html": [
       "<div>\n",
       "<style scoped>\n",
       "    .dataframe tbody tr th:only-of-type {\n",
       "        vertical-align: middle;\n",
       "    }\n",
       "\n",
       "    .dataframe tbody tr th {\n",
       "        vertical-align: top;\n",
       "    }\n",
       "\n",
       "    .dataframe thead th {\n",
       "        text-align: right;\n",
       "    }\n",
       "</style>\n",
       "<table border=\"1\" class=\"dataframe\">\n",
       "  <thead>\n",
       "    <tr style=\"text-align: right;\">\n",
       "      <th></th>\n",
       "      <th>Name</th>\n",
       "      <th>Age</th>\n",
       "      <th>Class</th>\n",
       "      <th>Score</th>\n",
       "    </tr>\n",
       "  </thead>\n",
       "  <tbody>\n",
       "    <tr>\n",
       "      <th>0</th>\n",
       "      <td>Alice</td>\n",
       "      <td>18</td>\n",
       "      <td>A</td>\n",
       "      <td>85</td>\n",
       "    </tr>\n",
       "    <tr>\n",
       "      <th>1</th>\n",
       "      <td>Bob</td>\n",
       "      <td>19</td>\n",
       "      <td>A</td>\n",
       "      <td>90</td>\n",
       "    </tr>\n",
       "    <tr>\n",
       "      <th>2</th>\n",
       "      <td>Charlie</td>\n",
       "      <td>18</td>\n",
       "      <td>B</td>\n",
       "      <td>78</td>\n",
       "    </tr>\n",
       "    <tr>\n",
       "      <th>3</th>\n",
       "      <td>David</td>\n",
       "      <td>20</td>\n",
       "      <td>B</td>\n",
       "      <td>92</td>\n",
       "    </tr>\n",
       "    <tr>\n",
       "      <th>4</th>\n",
       "      <td>Eva</td>\n",
       "      <td>19</td>\n",
       "      <td>A</td>\n",
       "      <td>88</td>\n",
       "    </tr>\n",
       "    <tr>\n",
       "      <th>5</th>\n",
       "      <td>Frank</td>\n",
       "      <td>18</td>\n",
       "      <td>B</td>\n",
       "      <td>76</td>\n",
       "    </tr>\n",
       "    <tr>\n",
       "      <th>6</th>\n",
       "      <td>Grace</td>\n",
       "      <td>20</td>\n",
       "      <td>A</td>\n",
       "      <td>95</td>\n",
       "    </tr>\n",
       "    <tr>\n",
       "      <th>7</th>\n",
       "      <td>Helen</td>\n",
       "      <td>21</td>\n",
       "      <td>B</td>\n",
       "      <td>89</td>\n",
       "    </tr>\n",
       "  </tbody>\n",
       "</table>\n",
       "</div>"
      ],
      "text/plain": [
       "      Name  Age Class  Score\n",
       "0    Alice   18     A     85\n",
       "1      Bob   19     A     90\n",
       "2  Charlie   18     B     78\n",
       "3    David   20     B     92\n",
       "4      Eva   19     A     88\n",
       "5    Frank   18     B     76\n",
       "6    Grace   20     A     95\n",
       "7    Helen   21     B     89"
      ]
     },
     "execution_count": 150,
     "metadata": {},
     "output_type": "execute_result"
    }
   ],
   "source": [
    "df"
   ]
  },
  {
   "cell_type": "code",
   "execution_count": 151,
   "id": "8a9bcf40-d245-486c-9df9-7c81b3fb5481",
   "metadata": {},
   "outputs": [
    {
     "data": {
      "text/html": [
       "<div>\n",
       "<style scoped>\n",
       "    .dataframe tbody tr th:only-of-type {\n",
       "        vertical-align: middle;\n",
       "    }\n",
       "\n",
       "    .dataframe tbody tr th {\n",
       "        vertical-align: top;\n",
       "    }\n",
       "\n",
       "    .dataframe thead th {\n",
       "        text-align: right;\n",
       "    }\n",
       "</style>\n",
       "<table border=\"1\" class=\"dataframe\">\n",
       "  <thead>\n",
       "    <tr style=\"text-align: right;\">\n",
       "      <th></th>\n",
       "      <th>Name</th>\n",
       "      <th>Age</th>\n",
       "      <th>Class</th>\n",
       "      <th>Score</th>\n",
       "    </tr>\n",
       "  </thead>\n",
       "  <tbody>\n",
       "    <tr>\n",
       "      <th>0</th>\n",
       "      <td>Alice</td>\n",
       "      <td>18</td>\n",
       "      <td>A</td>\n",
       "      <td>85</td>\n",
       "    </tr>\n",
       "    <tr>\n",
       "      <th>1</th>\n",
       "      <td>Bob</td>\n",
       "      <td>19</td>\n",
       "      <td>A</td>\n",
       "      <td>90</td>\n",
       "    </tr>\n",
       "    <tr>\n",
       "      <th>2</th>\n",
       "      <td>Charlie</td>\n",
       "      <td>18</td>\n",
       "      <td>B</td>\n",
       "      <td>78</td>\n",
       "    </tr>\n",
       "    <tr>\n",
       "      <th>3</th>\n",
       "      <td>David</td>\n",
       "      <td>20</td>\n",
       "      <td>B</td>\n",
       "      <td>92</td>\n",
       "    </tr>\n",
       "    <tr>\n",
       "      <th>4</th>\n",
       "      <td>Eva</td>\n",
       "      <td>19</td>\n",
       "      <td>A</td>\n",
       "      <td>88</td>\n",
       "    </tr>\n",
       "    <tr>\n",
       "      <th>5</th>\n",
       "      <td>Frank</td>\n",
       "      <td>18</td>\n",
       "      <td>B</td>\n",
       "      <td>76</td>\n",
       "    </tr>\n",
       "    <tr>\n",
       "      <th>6</th>\n",
       "      <td>Grace</td>\n",
       "      <td>20</td>\n",
       "      <td>A</td>\n",
       "      <td>95</td>\n",
       "    </tr>\n",
       "    <tr>\n",
       "      <th>7</th>\n",
       "      <td>Helen</td>\n",
       "      <td>21</td>\n",
       "      <td>B</td>\n",
       "      <td>89</td>\n",
       "    </tr>\n",
       "  </tbody>\n",
       "</table>\n",
       "</div>"
      ],
      "text/plain": [
       "      Name  Age Class  Score\n",
       "0    Alice   18     A     85\n",
       "1      Bob   19     A     90\n",
       "2  Charlie   18     B     78\n",
       "3    David   20     B     92\n",
       "4      Eva   19     A     88\n",
       "5    Frank   18     B     76\n",
       "6    Grace   20     A     95\n",
       "7    Helen   21     B     89"
      ]
     },
     "execution_count": 151,
     "metadata": {},
     "output_type": "execute_result"
    }
   ],
   "source": [
    "df.dropna()            # 删除缺失值"
   ]
  },
  {
   "cell_type": "code",
   "execution_count": null,
   "id": "43b32d26-6f7e-46a0-86a5-175792947281",
   "metadata": {},
   "outputs": [],
   "source": []
  },
  {
   "cell_type": "code",
   "execution_count": 152,
   "id": "1170169f-dde9-48a1-b3c5-c0af616a3c05",
   "metadata": {},
   "outputs": [
    {
     "data": {
      "text/html": [
       "<div>\n",
       "<style scoped>\n",
       "    .dataframe tbody tr th:only-of-type {\n",
       "        vertical-align: middle;\n",
       "    }\n",
       "\n",
       "    .dataframe tbody tr th {\n",
       "        vertical-align: top;\n",
       "    }\n",
       "\n",
       "    .dataframe thead th {\n",
       "        text-align: right;\n",
       "    }\n",
       "</style>\n",
       "<table border=\"1\" class=\"dataframe\">\n",
       "  <thead>\n",
       "    <tr style=\"text-align: right;\">\n",
       "      <th></th>\n",
       "      <th>Name</th>\n",
       "      <th>Age</th>\n",
       "      <th>Class</th>\n",
       "      <th>Score</th>\n",
       "    </tr>\n",
       "  </thead>\n",
       "  <tbody>\n",
       "    <tr>\n",
       "      <th>0</th>\n",
       "      <td>Alice</td>\n",
       "      <td>18</td>\n",
       "      <td>A</td>\n",
       "      <td>85</td>\n",
       "    </tr>\n",
       "    <tr>\n",
       "      <th>1</th>\n",
       "      <td>Bob</td>\n",
       "      <td>19</td>\n",
       "      <td>A</td>\n",
       "      <td>90</td>\n",
       "    </tr>\n",
       "    <tr>\n",
       "      <th>2</th>\n",
       "      <td>Charlie</td>\n",
       "      <td>18</td>\n",
       "      <td>B</td>\n",
       "      <td>78</td>\n",
       "    </tr>\n",
       "    <tr>\n",
       "      <th>3</th>\n",
       "      <td>David</td>\n",
       "      <td>20</td>\n",
       "      <td>B</td>\n",
       "      <td>92</td>\n",
       "    </tr>\n",
       "    <tr>\n",
       "      <th>4</th>\n",
       "      <td>Eva</td>\n",
       "      <td>19</td>\n",
       "      <td>A</td>\n",
       "      <td>88</td>\n",
       "    </tr>\n",
       "    <tr>\n",
       "      <th>5</th>\n",
       "      <td>Frank</td>\n",
       "      <td>18</td>\n",
       "      <td>B</td>\n",
       "      <td>76</td>\n",
       "    </tr>\n",
       "    <tr>\n",
       "      <th>6</th>\n",
       "      <td>Grace</td>\n",
       "      <td>20</td>\n",
       "      <td>A</td>\n",
       "      <td>95</td>\n",
       "    </tr>\n",
       "    <tr>\n",
       "      <th>7</th>\n",
       "      <td>Helen</td>\n",
       "      <td>21</td>\n",
       "      <td>B</td>\n",
       "      <td>89</td>\n",
       "    </tr>\n",
       "  </tbody>\n",
       "</table>\n",
       "</div>"
      ],
      "text/plain": [
       "      Name  Age Class  Score\n",
       "0    Alice   18     A     85\n",
       "1      Bob   19     A     90\n",
       "2  Charlie   18     B     78\n",
       "3    David   20     B     92\n",
       "4      Eva   19     A     88\n",
       "5    Frank   18     B     76\n",
       "6    Grace   20     A     95\n",
       "7    Helen   21     B     89"
      ]
     },
     "execution_count": 152,
     "metadata": {},
     "output_type": "execute_result"
    }
   ],
   "source": [
    "df.fillna(df['Score'].mean())  # 用平均值填充"
   ]
  },
  {
   "cell_type": "code",
   "execution_count": 156,
   "id": "f127ec3a-101e-4ad8-8696-24f94913571e",
   "metadata": {},
   "outputs": [
    {
     "name": "stdout",
     "output_type": "stream",
     "text": [
      "全班平均分: 86.625\n",
      "各班平均分:\n",
      "Class\n",
      "A    89.50\n",
      "B    83.75\n",
      "Name: Score, dtype: float64\n",
      "最高分学生: Grace 分数: 95\n"
     ]
    }
   ],
   "source": [
    "df = pd.read_csv(\"data/students.csv\")\n",
    "\n",
    "# 计算平均分\n",
    "print(\"全班平均分:\", df['Score'].mean())\n",
    "\n",
    "# 按班级分组统计\n",
    "print(\"各班平均分:\")\n",
    "print(df.groupby('Class')['Score'].mean())\n",
    "\n",
    "# 找出最高分学生\n",
    "best_student = df.loc[df['Score'].idxmax()]\n",
    "print(\"最高分学生:\", best_student['Name'], \"分数:\", best_student['Score'])\n"
   ]
  },
  {
   "cell_type": "markdown",
   "id": "3b8fd26f-1af3-4287-ad44-a17fa668507e",
   "metadata": {},
   "source": [
    "### 练习题: 对于数据`students_with_nan_20.csv`\n",
    "\n",
    "1. 缺失值检测: 统计每一列缺失值的数量；找出缺失最多的一列。提示：`df.isna().sum()`\n",
    "\n",
    "2. 缺失值处理: 用各列的平均值填充数值型缺失值（`Age`, `Score`）；用“未知”填充缺失的 `Class`。\n",
    "\n",
    "3. 统计分析：计算每个班级的平均分；找出平均分最高的班级；找出全班最高分的学生姓名和分数。\n",
    "\n",
    "4. 导出结果：将缺失值处理后的新 `DataFrame` 保存为 `students_clean.csv`。"
   ]
  },
  {
   "cell_type": "code",
   "execution_count": 157,
   "id": "954306a1-be03-4019-9500-e6e9a2f483b0",
   "metadata": {},
   "outputs": [],
   "source": [
    "## 你的代码\n"
   ]
  },
  {
   "cell_type": "code",
   "execution_count": null,
   "id": "4908a0fd-7e1f-4478-bc8b-6e5b6687c1b5",
   "metadata": {},
   "outputs": [],
   "source": []
  }
 ],
 "metadata": {
  "kernelspec": {
   "display_name": "Python 3 (ipykernel)",
   "language": "python",
   "name": "python3"
  },
  "language_info": {
   "codemirror_mode": {
    "name": "ipython",
    "version": 3
   },
   "file_extension": ".py",
   "mimetype": "text/x-python",
   "name": "python",
   "nbconvert_exporter": "python",
   "pygments_lexer": "ipython3",
   "version": "3.11.13"
  }
 },
 "nbformat": 4,
 "nbformat_minor": 5
}
